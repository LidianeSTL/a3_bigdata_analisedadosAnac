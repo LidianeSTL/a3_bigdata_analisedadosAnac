{
 "cells": [
  {
   "attachments": {},
   "cell_type": "markdown",
   "metadata": {},
   "source": [
    "# Análise de Dados Exploratória da ANAC\n",
    "\n",
    "![ANAC](imgs/anac-logo.png \"Logo ANAC\")"
   ]
  },
  {
   "attachments": {},
   "cell_type": "markdown",
   "metadata": {},
   "source": [
    "# 1. Introdução\n",
    "\n",
    "Este estudo tem como objetivo analisar um conjunto de dados de voos internacionais registrados pela Agência Nacional de Aviação Civil (ANAC) do Brasil, durante o período de janeiro de 2015 a agosto de 2017. \n",
    "\n",
    "A ANAC é a agência reguladora responsável pela aviação civil no país, e as informações contidas nesses dados são de grande importância para a compreensão da dinâmica da aviação internacional no Brasil, bem como para a tomada de decisões estratégicas no setor. O conjunto de dados inclui informações como o número do voo, nome da companhia aérea, horários de partida e chegada previstos e reais, situação do voo e localização dos aeroportos de origem e destino, entre outros. Esses dados permitem uma análise detalhada das tendências e padrões de voos internacionais no Brasil, bem como a identificação de fatores que possam influenciar o desempenho da aviação internacional no país."
   ]
  },
  {
   "attachments": {},
   "cell_type": "markdown",
   "metadata": {},
   "source": [
    "## 1.1. Objetivos\n",
    "\n",
    "O objetivo deste estudo é realizar uma Análise Exploratória dos Dados (Exploratory Data Analysis - EDA) do conjunto de dados disposto em [bases/](bases/), e analisar dados de voos internacionais rastreados pela ANAC.\n",
    "\n",
    "Com base nas informações disponíveis, pretendemos avaliar o desempenho das companhias aéreas em relação ao cumprimento dos horários previstos de partida e chegada, bem como investigar a frequência de cancelamentos e as justificativas apresentadas para esses casos. \n",
    "\n",
    "Também vamos examinar as rotas mais utilizadas e os destinos mais comuns para os voos internacionais saindo do Brasil, bem como avaliar a pontualidade e a eficiência dos aeroportos de origem e destino. \n",
    "\n",
    "1. [Qual destino mais procurado nas férias?](#analisedados.1)\n",
    "2. [Principais destinos nacionais julho, dezembro e janeiro](#Análise2)\n",
    "3. [Principais destinos internacionais julho, dezembro e janeiro.](#Análise3)\n",
    "4. [Análise 4](#Análise4)\n"
   ]
  },
  {
   "attachments": {},
   "cell_type": "markdown",
   "metadata": {},
   "source": [
    "# 2. Metodologia\n",
    "\n",
    "Nesta seção será apresentado todo o processo de preparação, organização e limpeza de dados feito no *dataset* que possui os seguintes dados brutos. Ao final desta, apresentaremos os dados padronizados e devidamente tratados:\n",
    "\n",
    "|        Coluna        | Tipo |                         Descrição                         |\n",
    "|:--------------------:|:----:|:---------------------------------------------------------:|\n",
    "|         Voos         |  str |                       Número do voo                       |\n",
    "|    Companhia.Aerea   |  str |                  Nome da companhia aérea                  |\n",
    "|   Codigo.Tipo.Linha  |  str |          Código do tipo de linha (internacional)          |\n",
    "|   Partida.Prevista   |  str |                Horário previsto de partida                |\n",
    "|     Partida.Real     |  str |                  Horário real de partida                  |\n",
    "|   Chegada.Prevista   |  str |                Horário previsto de chegada                |\n",
    "|     Chegada.Real     |  str |                  Horário real de chegada                  |\n",
    "|     Situacao.Voo     |  str |        Situação do voo (realizado, cancelado, etc)        |\n",
    "| Codigo.Justificativa |  str | Código de justificativa (caso o voo tenha sido cancelado) |\n",
    "|   Aeroporto.Origem   |  str |               Código do aeroporto de origem               |\n",
    "|     Cidade.Origem    |  str |                      Cidade de origem                     |\n",
    "|     Estado.Origem    |  str |                      Estado de origem                     |\n",
    "|      Pais.Origem     |  str |                       País de origem                      |\n",
    "|   Aeroporto.Destino  |  str |               Código do aeroporto de destino              |\n",
    "|    Cidade.Destino    |  str |                     Cidade de destino                     |\n",
    "|    Estado.Destino    |  str |                     Estado de destino                     |\n",
    "|     Pais.Destino     |  str |                      País de destino                      |\n",
    "|       LongDest       |  str |             Longitude do aeroporto de destino             |\n",
    "|        LatDest       |  str |              Latitude do aeroporto de destino             |\n",
    "|       LongOrig       |  str |              Longitude do aeroporto de origem             |\n",
    "|        LatOrig       |  str |              Latitude do aeroporto de origem              |\n"
   ]
  },
  {
   "attachments": {},
   "cell_type": "markdown",
   "metadata": {},
   "source": [
    "## 2.1. Configuração do Ambiente"
   ]
  },
  {
   "attachments": {},
   "cell_type": "markdown",
   "metadata": {},
   "source": [
    "### 2.1.1. Bibliotecas e Ferramentas Necessárias (Built-ins)\n",
    "\n",
    "1. ```os```:       Para manipular os arquivos de base e seus respectivos diretórios de forma multiplataforma e eficiente.\n",
    "2. ```re```:       Utilizado em expressões regulares durante o processo de limpeza dos dados.\n",
    "3. ```enum```:     Auxilia nos processos de padronizar e regular algumas convenções do projeto.\n",
    "4. ```datetime```: Auxilia nos processos de padronizar e regular algumas convenções do projeto"
   ]
  },
  {
   "attachments": {},
   "cell_type": "markdown",
   "metadata": {},
   "source": [
    "### 2.1.2. Bibliotecas e Ferramentas Necessárias (pip)\n",
    "\n",
    "1. Pandas: Para manipular e exibir os dados de forma coesa e relata.   \n",
    "    ```pip install pandas```       \n",
    "    ```import pandas as pd```\n",
    "\n",
    "2. JinJa2: Complemento de estilização do Pandas.   \n",
    "    ```pip install Jinja2```\n",
    "\n",
    "3. Matplotlib: Para exibição visual dos dados por meio de gráficos.   \n",
    "    ```pip install matplotlib```   \n",
    "    ```import matplotlib.pyplot as plt```\n",
    "\n",
    "4. DescricaoColuna e DescricaoTipo: São classes estáticas compostar por Enums estabelecidos com base nas convenções de nome das colunas do *dataset*.   \n",
    "   **Utils** possui complementos para tratativas de alguns campos.   \n",
    "    ```from libs.utils import Utils```"
   ]
  },
  {
   "attachments": {},
   "cell_type": "markdown",
   "metadata": {},
   "source": [
    "### 2.1.3. Importações gerais para o projeto"
   ]
  },
  {
   "cell_type": "code",
   "execution_count": null,
   "metadata": {},
   "outputs": [],
   "source": [
    "import os\n",
    "import re\n",
    "import time\n",
    "import pandas as pd\n",
    "import numpy as np\n",
    "from libs.utils import Utils, Plot, AnacVoos"
   ]
  },
  {
   "attachments": {},
   "cell_type": "markdown",
   "metadata": {},
   "source": [
    "## 2.2. Carregamento da base"
   ]
  },
  {
   "cell_type": "code",
   "execution_count": null,
   "metadata": {},
   "outputs": [],
   "source": [
    "caminho = os.path.join(\n",
    "    os.path.dirname(\n",
    "        os.path.abspath(\n",
    "            os.path.join(__name__, '.'))), 'bases')\n",
    "\n",
    "arquivos = [arquivo for arquivo in os.listdir(\n",
    "    caminho) if arquivo.endswith(\".csv\")]\n",
    "\n",
    "dataframes = [pd.read_csv(os.path.join(caminho, arquivo))\n",
    "              for arquivo in arquivos]\n",
    "\n",
    "AnacVoos.dados = pd.concat(dataframes)\n",
    "AnacVoos.total_arquivos = len(arquivos)\n",
    "AnacVoos.dados_solidos = False\n",
    "AnacVoos.total_registros = len(AnacVoos.dados.index)\n",
    "AnacVoos.tempo_execucao = time.time()"
   ]
  },
  {
   "attachments": {},
   "cell_type": "markdown",
   "metadata": {},
   "source": [
    "## 2.3. Organização e Limpeza dos Dados"
   ]
  },
  {
   "attachments": {},
   "cell_type": "markdown",
   "metadata": {},
   "source": [
    "### 2.3.1. Padrozinação dos nomes das colunas"
   ]
  },
  {
   "cell_type": "code",
   "execution_count": null,
   "metadata": {},
   "outputs": [],
   "source": [
    "nomes_colunas_tratadas = []\n",
    "\n",
    "for coluna in AnacVoos.dados.columns:\n",
    "    if any(char.isupper() for char in coluna):\n",
    "        if coluna == 'Voos':\n",
    "            coluna = 'Num.Voo'\n",
    "        nomes_colunas_tratadas.append('_'.join(word.lower() for word in re.findall(\n",
    "            '[A-Z][^A-Z]*', coluna)).lower().replace('.', ''))\n",
    "\n",
    "AnacVoos.dados.columns = nomes_colunas_tratadas"
   ]
  },
  {
   "attachments": {},
   "cell_type": "markdown",
   "metadata": {},
   "source": [
    "### 2.3.2. Padrozinação dos tipos das colunas de data/hora, string e númericos"
   ]
  },
  {
   "cell_type": "code",
   "execution_count": null,
   "metadata": {},
   "outputs": [],
   "source": [
    "for coluna in AnacVoos.dados.columns:\n",
    "    tipo = Utils.tipo_coluna(coluna)\n",
    "    if tipo.__name__ == 'datetime': \n",
    "        AnacVoos.dados = Utils.formatar_colunas_datetime(AnacVoos.dados, coluna)"
   ]
  },
  {
   "attachments": {},
   "cell_type": "markdown",
   "metadata": {},
   "source": [
    "### 2.3.3. Padrozinação no nome das companhias aérea."
   ]
  },
  {
   "cell_type": "code",
   "execution_count": null,
   "metadata": {},
   "outputs": [],
   "source": [
    "AnacVoos.dados['companhia_aerea'] = AnacVoos.dados.apply(\n",
    "    lambda row: Utils.nome_companhia_aerea_normalizado(\n",
    "        row['companhia_aerea'],\n",
    "    ), axis=1)"
   ]
  },
  {
   "attachments": {},
   "cell_type": "markdown",
   "metadata": {},
   "source": [
    "### 2.3.4. Feature Engineering\n",
    "A engenharia de recursos (*Feature Engineering*) é o processo de usar o conhecimento do domínio para extrair recursos dos dados brutos. Neste estudo serão acrescentadas as seguintes colunas para enriquecer a análise de dados:\n",
    "\n",
    "| Coluna         | Descrição                                                            | Base         |\n",
    "|:--------------:|:--------------------------------------------------------------------:|:--------------:|\n",
    "| partida_atrasou | Houve atraso na partida (S/N)                                       | `partida_prevista - partida_real` |\n",
    "| chegada_atrasou | Houve atraso na chegada (S/N)                                       | `chegada_prevista - chegada_real` |\n",
    "| distancia_km   | Distância total em kms da origem ao destino                          | `lat_long_orig - lat_long_dest` |\n",
    "| justificativa_atraso   | Informação e correlata à justificativa no atraso do voo      | `codigo_justificativa` |\n",
    "| justificativa_cancelamento   | Informação e correlata à justificativa do cancelamento do voo| `codigo_justificativa` |\n",
    "| rota           | Origem x Destino                                                     | `x_origem + x_destino` |\n",
    "| periodo_ferias           | Contém o mês condizente a um período de férias (Janeiro, Julho ou Dezembro)    | `partida_prevista` **in** [1, 7, 12]  |\n",
    "| Dia Semana           | Contém o dia da semana para data de partida    | `partida_prevista`  |"
   ]
  },
  {
   "attachments": {},
   "cell_type": "markdown",
   "metadata": {},
   "source": [
    "#### 2.3.3.1. Atraso na partida"
   ]
  },
  {
   "cell_type": "code",
   "execution_count": null,
   "metadata": {},
   "outputs": [],
   "source": [
    "AnacVoos.dados['partida_atrasou'] = AnacVoos.dados.apply(\n",
    "    lambda row: Utils.validar_atraso(\n",
    "        row['situacao_voo'],\n",
    "        row['partida_prevista'],\n",
    "        row['partida_real']\n",
    "    ), axis=1)"
   ]
  },
  {
   "attachments": {},
   "cell_type": "markdown",
   "metadata": {},
   "source": [
    "#### 2.3.3.2. Atraso na chegada"
   ]
  },
  {
   "cell_type": "code",
   "execution_count": null,
   "metadata": {},
   "outputs": [],
   "source": [
    "AnacVoos.dados['chegada_atrasou'] = AnacVoos.dados.apply(\n",
    "    lambda row: Utils.validar_atraso(\n",
    "        row['situacao_voo'],\n",
    "        row['chegada_prevista'],\n",
    "        row['chegada_real']\n",
    "    ), axis=1)"
   ]
  },
  {
   "attachments": {},
   "cell_type": "markdown",
   "metadata": {},
   "source": [
    "#### 2.3.3.2.1. Contextualizando campo situação do voo"
   ]
  },
  {
   "cell_type": "code",
   "execution_count": null,
   "metadata": {},
   "outputs": [],
   "source": [
    "AnacVoos.dados['situacao_voo'] = AnacVoos.dados.apply(\n",
    "    lambda row: Utils.atualizar_situacao_voo(\n",
    "        row['situacao_voo'], \n",
    "        row['partida_atrasou'], \n",
    "        row['chegada_atrasou']\n",
    "    ), axis=1)"
   ]
  },
  {
   "attachments": {},
   "cell_type": "markdown",
   "metadata": {},
   "source": [
    "#### 2.3.3.3. distancia_km (para *lat_long_orig* e *lat_long_dest*)"
   ]
  },
  {
   "cell_type": "code",
   "execution_count": null,
   "metadata": {},
   "outputs": [],
   "source": [
    "AnacVoos.dados['distancia_km'] = AnacVoos.dados.apply(\n",
    "    lambda row: Utils.calcular_distancia_km(\n",
    "        row['lat_orig'],\n",
    "        row['long_orig'],\n",
    "        row['lat_dest'],\n",
    "        row['long_dest']\n",
    "    ), axis=1)"
   ]
  },
  {
   "attachments": {},
   "cell_type": "markdown",
   "metadata": {},
   "source": [
    "#### 2.3.3.4. Justificativa atraso"
   ]
  },
  {
   "cell_type": "code",
   "execution_count": null,
   "metadata": {},
   "outputs": [],
   "source": [
    "AnacVoos.dados['justificativa_atraso'] = AnacVoos.dados.apply(\n",
    "    lambda row: Utils.atualizar_justificativa_atraso(\n",
    "        row['partida_atrasou'],\n",
    "        row['chegada_atrasou'],\n",
    "        row['codigo_justificativa']\n",
    "    ), axis=1\n",
    ")"
   ]
  },
  {
   "attachments": {},
   "cell_type": "markdown",
   "metadata": {},
   "source": [
    "#### 2.3.3.5. Justificativa cancelamento"
   ]
  },
  {
   "cell_type": "code",
   "execution_count": null,
   "metadata": {},
   "outputs": [],
   "source": [
    "AnacVoos.dados['justificativa_cancelamento'] = AnacVoos.dados.apply(\n",
    "    lambda row: Utils.atualizar_justificativa_cancelamento(\n",
    "        row['situacao_voo'],\n",
    "        row['codigo_justificativa']\n",
    "    ), axis=1\n",
    ")"
   ]
  },
  {
   "attachments": {},
   "cell_type": "markdown",
   "metadata": {},
   "source": [
    "#### 2.3.3.6. Rota"
   ]
  },
  {
   "cell_type": "code",
   "execution_count": null,
   "metadata": {},
   "outputs": [],
   "source": [
    "AnacVoos.dados['rota'] = AnacVoos.dados.apply(\n",
    "    lambda row: Utils.criar_rota(\n",
    "        row['codigo_tipo_linha'],\n",
    "        row['pais_origem'],\n",
    "        row['pais_destino'],\n",
    "        row['estado_origem'],\n",
    "        row['estado_destino'],\n",
    "        row['cidade_origem'],\n",
    "        row['cidade_destino']\n",
    "        ), axis=1\n",
    "    )"
   ]
  },
  {
   "attachments": {},
   "cell_type": "markdown",
   "metadata": {},
   "source": [
    "#### 2.3.3.7. Período Férias"
   ]
  },
  {
   "cell_type": "code",
   "execution_count": null,
   "metadata": {},
   "outputs": [],
   "source": [
    "AnacVoos.dados['periodo_ferias'] = Utils.atribuir_periodo_ferias(AnacVoos.dados['partida_prevista'])"
   ]
  },
  {
   "attachments": {},
   "cell_type": "markdown",
   "metadata": {},
   "source": [
    "#### 2.3.3.8. Dia Semana"
   ]
  },
  {
   "cell_type": "code",
   "execution_count": null,
   "metadata": {},
   "outputs": [],
   "source": [
    "AnacVoos.dados['dia_semana'] = pd.to_datetime(AnacVoos.dados['partida_prevista'], dayfirst=True).dt.strftime('%A')\n",
    "\n",
    "AnacVoos.dados['dia_semana'] = AnacVoos.dados['dia_semana'].apply(\n",
    "    lambda row : Utils.atribuir_dia_semana(row)\n",
    ")"
   ]
  },
  {
   "attachments": {},
   "cell_type": "markdown",
   "metadata": {},
   "source": [
    "## 2.4. Mapeamento de Dados\n",
    "Para melhorar a análise e interpretação dos dados os seguintes atributos serão modificados:\n",
    "\n",
    "| Coluna    | Original     | Modificado                          |\n",
    "|:----------:|:-------------:|:------------------------------------:|\n",
    "| *    | 'NA', *      | '', *                  |\n",
    "| *      | np.NaN / NaN      | ''                  |\n"
   ]
  },
  {
   "attachments": {},
   "cell_type": "markdown",
   "metadata": {},
   "source": [
    "### 2.4.1. Removendo 'N/I' por um valor ''/string.empty"
   ]
  },
  {
   "cell_type": "code",
   "execution_count": null,
   "metadata": {},
   "outputs": [],
   "source": [
    "for coluna in AnacVoos.dados.columns:\n",
    "    AnacVoos.dados[coluna] = AnacVoos.dados[coluna].replace('N/I', '')"
   ]
  },
  {
   "attachments": {},
   "cell_type": "markdown",
   "metadata": {},
   "source": [
    "### 2.4.2. Removendo np.NaN por um valor None"
   ]
  },
  {
   "cell_type": "code",
   "execution_count": null,
   "metadata": {},
   "outputs": [],
   "source": [
    "AnacVoos.dados.fillna(value='', inplace=True)"
   ]
  },
  {
   "attachments": {},
   "cell_type": "markdown",
   "metadata": {},
   "source": [
    "### 2.5. Reordenando as colunas de forma semântica"
   ]
  },
  {
   "cell_type": "code",
   "execution_count": null,
   "metadata": {},
   "outputs": [],
   "source": [
    "AnacVoos.dados = AnacVoos.dados.reindex(\n",
    "    columns=Utils.nomes_colunas(), index=None)\n",
    "AnacVoos.dados.drop('codigo_justificativa', axis=1, inplace=True)\n",
    "\n",
    "# garantindo que não houveram alterações no volume de dados\n",
    "AnacVoos.dados_solidos = len(AnacVoos.dados.index) == AnacVoos.total_registros"
   ]
  },
  {
   "attachments": {},
   "cell_type": "markdown",
   "metadata": {},
   "source": [
    "### 2.6 Resultado final"
   ]
  },
  {
   "cell_type": "code",
   "execution_count": null,
   "metadata": {},
   "outputs": [],
   "source": [
    "columns = ['NomeColuna', 'DescricaoColuna', 'TipoColuna']\n",
    "values = [[value, Utils.descricao_coluna(value), Utils.tipo_coluna(\n",
    "    value).__name__] for value in AnacVoos.dados.columns]\n",
    "\n",
    "pd.DataFrame(data=values, columns=columns).style.set_table_styles([\n",
    "    dict(selector='th', props=[('text-align', 'center')]),\n",
    "    dict(selector='td', props=[('text-align', 'center')])\n",
    "])"
   ]
  },
  {
   "attachments": {},
   "cell_type": "markdown",
   "metadata": {},
   "source": [
    "# 3. Análise dos Dados"
   ]
  },
  {
   "attachments": {},
   "cell_type": "markdown",
   "metadata": {},
   "source": [
    "## 3.1. Qual destino mais procurado nas férias?\n",
    "Iremos analisar os principais destinos internacionais e nacionais e os períodos de julho, dezembro e janeiro."
   ]
  },
  {
   "cell_type": "code",
   "execution_count": null,
   "metadata": {},
   "outputs": [],
   "source": [
    "#Dataframe\n",
    "voos_ferias_agg = AnacVoos.get_voos_ferias_agg(\n",
    "    filtrar_periodo_ferias = True,\n",
    "    percentuais = [\n",
    "        ['tx_realizados', 'realizados_s_atraso'],\n",
    "        ['tx_atrasos', 'realizados_c_atraso'], \n",
    "        ['tx_cancelados', 'cancelados']],\n",
    "    round = 2,\n",
    "    cols_groupby=['codigo_tipo_linha', 'periodo_ferias'],\n",
    "    )\n",
    "\n",
    "for periodo in AnacVoos.periodo_ferias: \n",
    "    display(voos_ferias_agg.query(\"periodo_ferias == @periodo\").reset_index(drop=True) )"
   ]
  },
  {
   "cell_type": "code",
   "execution_count": null,
   "metadata": {},
   "outputs": [],
   "source": [
    "# Plot\n",
    "Plot.periodo_ferias_geral(\n",
    "    dataframe=voos_ferias_agg, \n",
    "    periodo_ferias=AnacVoos.periodo_ferias,\n",
    "    grid = False,\n",
    "    context = 'cyberpunk',\n",
    "    figsize=(19, 10),\n",
    "    suptitle = 'Análise dos destinos mais procurados nos períodos de férias.'\n",
    "    )"
   ]
  },
  {
   "attachments": {},
   "cell_type": "markdown",
   "metadata": {},
   "source": [
    "### 3.1.1 Principais destinos regionais nos períodos de julho, dezembro e janeiro"
   ]
  },
  {
   "cell_type": "code",
   "execution_count": null,
   "metadata": {},
   "outputs": [],
   "source": [
    "#Dataframe\n",
    "regionais = AnacVoos.get_voos_ferias_tipo_linha(\n",
    "    codigo_tipo_linha = 'Regional',\n",
    "    percentuais = [\n",
    "        ['tx_realizados', 'realizados_s_atraso'],\n",
    "        ['tx_atrasos', 'realizados_c_atraso'], \n",
    "        ['tx_cancelados', 'cancelados']],\n",
    "    round = 2\n",
    ")\n",
    "\n",
    "for periodo in AnacVoos.periodo_ferias:\n",
    "    print(f\"\\n\\n10 Destinos regionais mais procurados no período de {periodo}:\")\n",
    "    display(regionais.query(\"periodo_ferias == @periodo\").nlargest(10, 'voos').reset_index(drop=True))"
   ]
  },
  {
   "cell_type": "code",
   "execution_count": null,
   "metadata": {},
   "outputs": [],
   "source": [
    "#Plot"
   ]
  },
  {
   "attachments": {},
   "cell_type": "markdown",
   "metadata": {},
   "source": [
    "### 3.1.2 Principais destinos nacionais nos períodos de julho, dezembro e janeiro"
   ]
  },
  {
   "cell_type": "code",
   "execution_count": null,
   "metadata": {},
   "outputs": [],
   "source": [
    "#Dataframe\n",
    "nacionais = AnacVoos.get_voos_ferias_tipo_linha(\n",
    "    codigo_tipo_linha = 'Nacional',\n",
    "    percentuais = [\n",
    "        ['tx_realizados', 'realizados_s_atraso'],\n",
    "        ['tx_atrasos', 'realizados_c_atraso'], \n",
    "        ['tx_cancelados', 'cancelados']],\n",
    "    round = 2\n",
    ")\n",
    "\n",
    "for periodo in AnacVoos.periodo_ferias:\n",
    "    print(f\"10 Destinos nacionais mais procurados no período de {periodo}:\")\n",
    "    display(nacionais.query(\"periodo_ferias == @periodo\").nlargest(10, 'voos').reset_index(drop=True))\n",
    "    print()"
   ]
  },
  {
   "cell_type": "code",
   "execution_count": null,
   "metadata": {},
   "outputs": [],
   "source": [
    "#Plot"
   ]
  },
  {
   "attachments": {},
   "cell_type": "markdown",
   "metadata": {},
   "source": [
    "### 3.1.3 Principais destinos internacionais nos períodos de julho, dezembro e janeiro"
   ]
  },
  {
   "cell_type": "code",
   "execution_count": null,
   "metadata": {},
   "outputs": [],
   "source": [
    "#Dataframe\n",
    "internacionais = AnacVoos.get_voos_ferias_tipo_linha(\n",
    "    codigo_tipo_linha = 'Internacional',\n",
    "    percentuais = [\n",
    "        ['tx_realizados', 'realizados_s_atraso'],\n",
    "        ['tx_atrasos', 'realizados_c_atraso'], \n",
    "        ['tx_cancelados', 'cancelados']],\n",
    "    round = 2\n",
    ")\n",
    "\n",
    "for periodo in AnacVoos.periodo_ferias:\n",
    "    print(f\"\\n\\n10 Destinos internacionais mais procurados no período de {periodo}:\")\n",
    "    display(internacionais.query(\"periodo_ferias == @periodo\").nlargest(10, 'voos').reset_index(drop=True))"
   ]
  },
  {
   "cell_type": "code",
   "execution_count": null,
   "metadata": {},
   "outputs": [],
   "source": [
    "#Plot"
   ]
  },
  {
   "attachments": {},
   "cell_type": "markdown",
   "metadata": {},
   "source": [
    "## 3.2. Como ficam os aeroportos nesses meses?\n",
    "Iremos analisar o aumento de atrasos, vôos cancelados, e os principais motivos, o dia mais provável de ter algum problema com o voo."
   ]
  },
  {
   "cell_type": "code",
   "execution_count": null,
   "metadata": {},
   "outputs": [],
   "source": [
    "#Dataframe voos em atraso justificativa\n",
    "\n",
    "atrasos = voos_ferias[voos_ferias['partida_atrasou'] == 'S'].groupby(['periodo_ferias','aeroporto_destino','justificativa_atraso'])\\\n",
    "    .size().reset_index(name = 'qtd_atraso')\\\n",
    "        .sort_values('qtd_atraso',ascending = False)\n",
    "\n",
    "for periodo in AnacVoos.periodo_ferias:\n",
    "    print(f\"\\n\\n10 Destinos com mais atrasos por justificativa no período de {periodo}:\")\n",
    "    display(atrasos.query(\"periodo_ferias == @periodo\").nlargest(10, 'qtd_atraso').reset_index(drop=True))"
   ]
  },
  {
   "cell_type": "code",
   "execution_count": null,
   "metadata": {},
   "outputs": [],
   "source": [
    "#Plot"
   ]
  },
  {
   "attachments": {},
   "cell_type": "markdown",
   "metadata": {},
   "source": [
    "## 3.3. Qual a melhor opção uma viagem nacional ou internacional?\n",
    "Após as análises da questão 02, vamos analisar se existe algum favorecimento de vôos internacionais sobre os nacionais."
   ]
  },
  {
   "cell_type": "code",
   "execution_count": null,
   "metadata": {},
   "outputs": [],
   "source": [
    "#Dataframe voos em atraso dia_semana\n",
    "\n",
    "atrasos = voos_ferias[voos_ferias['partida_atrasou'] == 'S'].groupby(['periodo_ferias','aeroporto_destino','dia_semana'])\\\n",
    "    .size().reset_index(name = 'qtd_atraso')\\\n",
    "        .sort_values('qtd_atraso',ascending = False)\n",
    "\n",
    "for periodo in AnacVoos.periodo_ferias:\n",
    "    print(f\"\\n\\n10 Destinos com mais atrasos por dia da semana no período de {periodo}:\")\n",
    "    display(atrasos.query(\"periodo_ferias == @periodo\").nlargest(10, 'qtd_atraso').reset_index(drop=True))"
   ]
  },
  {
   "cell_type": "code",
   "execution_count": null,
   "metadata": {},
   "outputs": [],
   "source": [
    "#Plot"
   ]
  },
  {
   "attachments": {},
   "cell_type": "markdown",
   "metadata": {},
   "source": [
    "## 3.4. Qual a melhor rota?\n",
    "Aqui faremos o DE-PARA entre os  aeroporto origem/destino, para os principais destinos, levantados na pergunta 01."
   ]
  },
  {
   "cell_type": "code",
   "execution_count": null,
   "metadata": {},
   "outputs": [],
   "source": [
    "#Dataframe Internacional\n",
    "internacionais = voos_ferias[voos_ferias['codigo_tipo_linha'] == 'Internacional']\\\n",
    "    .groupby(['periodo_ferias', 'aeroporto_destino']).size()\\\n",
    "    .reset_index(name='voos')\n",
    "\n",
    "nacionais = voos_ferias[voos_ferias['codigo_tipo_linha'] == 'Nacional']\\\n",
    "    .groupby(['periodo_ferias', 'aeroporto_destino']).size()\\\n",
    "    .reset_index(name='voos')\n",
    "\n",
    "for periodo in AnacVoos.periodo_ferias:\n",
    "    internacionais_periodo = internacionais.query(\"periodo_ferias == @periodo\")\n",
    "    nacionais_periodo = nacionais.query(\"periodo_ferias == @periodo\")\n",
    "    \n",
    "    top_internacionais = internacionais_periodo.nlargest(1, 'voos')\n",
    "    top_nacionais = nacionais_periodo.nlargest(1, 'voos')\n",
    "    \n",
    "    print(f\"Comparando os destinos mais procurados no período de {periodo}:\")\n",
    "    \n",
    "    if not top_internacionais.empty and not top_nacionais.empty:\n",
    "        if top_internacionais['voos'].values[0] > top_nacionais['voos'].values[0]:\n",
    "            print(\"O destino internacional mais procurado supera o destino nacional mais procurado.\")\n",
    "        elif top_internacionais['voos'].values[0] < top_nacionais['voos'].values[0]:\n",
    "            print(\"O destino nacional mais procurado supera o destino internacional mais procurado.\")\n",
    "        else:\n",
    "            print(\"O destino internacional e o destino nacional mais procurados têm a mesma quantidade de voos.\")\n",
    "        \n",
    "        print(\"Destino internacional mais procurado:\")\n",
    "        display(top_internacionais.reset_index(drop=True))\n",
    "        \n",
    "        print(\"Destino nacional mais procurado:\")\n",
    "        display(top_nacionais.reset_index(drop=True))\n",
    "    elif not top_internacionais.empty:\n",
    "        print(\"Não foram encontrados destinos nacionais mais procurados neste período.\")\n",
    "        \n",
    "        print(\"Destino internacional mais procurado:\")\n",
    "        display(top_internacionais.reset_index(drop=True))\n",
    "    elif not top_nacionais.empty:\n",
    "        print(\"Não foram encontrados destinos internacionais mais procurados neste período.\")\n",
    "        \n",
    "        print(\"Destino nacional mais procurado:\")\n",
    "        display(top_nacionais.reset_index(drop=True))\n",
    "    else:\n",
    "        print(\"Não foram encontrados destinos internacionais nem nacionais mais procurados neste período.\")\n",
    "        \n",
    "    print()"
   ]
  },
  {
   "cell_type": "code",
   "execution_count": null,
   "metadata": {},
   "outputs": [],
   "source": [
    "#Plot"
   ]
  },
  {
   "attachments": {},
   "cell_type": "markdown",
   "metadata": {},
   "source": [
    "## 3.5. Qual melhor dia da semana para pegar um vôo?\n",
    "Iremos cruzar as informações de cancelamentos e atrasados com os dias da semana e verificar qual o dia tem uma menor probabilidade de ter algum problema."
   ]
  },
  {
   "cell_type": "code",
   "execution_count": null,
   "metadata": {},
   "outputs": [],
   "source": [
    "#Dataframe\n",
    "atrasos = voos_ferias[voos_ferias['partida_atrasou'] == 'S'].groupby(['periodo_ferias','aeroporto_destino','dia_semana'])\\\n",
    "    .size().reset_index(name = 'qtd_atraso')\\\n",
    "        .sort_values('qtd_atraso',ascending = False)\n",
    "\n",
    "periodos = atrasos['periodo_ferias'].unique()\n",
    "\n",
    "for periodo in AnacVoos.periodo_ferias:\n",
    "    print(f\"\\n\\nMelhor dia da semana para pegar um voo no {periodo}:\")\n",
    "    display(atrasos.query(\"periodo_ferias == @periodo\").nlargest(10, 'qtd_atraso').reset_index(drop=True).sort_values('qtd_atraso'))"
   ]
  },
  {
   "cell_type": "code",
   "execution_count": null,
   "metadata": {},
   "outputs": [],
   "source": [
    "#Plot"
   ]
  },
  {
   "cell_type": "code",
   "execution_count": null,
   "metadata": {},
   "outputs": [],
   "source": [
    "# Atualizando tempo do processo\n",
    "AnacVoos.tempo_execucao = (time.time() - AnacVoos.tempo_execucao) / 60\n",
    "AnacVoos.tempo_execucao"
   ]
  }
 ],
 "metadata": {
  "kernelspec": {
   "display_name": "Python 3",
   "language": "python",
   "name": "python3"
  },
  "language_info": {
   "codemirror_mode": {
    "name": "ipython",
    "version": 3
   },
   "file_extension": ".py",
   "mimetype": "text/x-python",
   "name": "python",
   "nbconvert_exporter": "python",
   "pygments_lexer": "ipython3",
   "version": "3.11.2"
  },
  "orig_nbformat": 4
 },
 "nbformat": 4,
 "nbformat_minor": 2
}
