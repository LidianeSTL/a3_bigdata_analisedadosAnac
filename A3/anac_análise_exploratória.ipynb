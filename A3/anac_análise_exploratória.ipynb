{
 "cells": [
  {
   "attachments": {},
   "cell_type": "markdown",
   "metadata": {},
   "source": [
    "# Análise de Dados Exploratória da ANAC\n",
    "\n",
    "![ANAC](imgs/anac-logo.png \"Logo ANAC\")"
   ]
  },
  {
   "attachments": {},
   "cell_type": "markdown",
   "metadata": {},
   "source": [
    "# 1. Introdução\n",
    "\n",
    "Este estudo tem como objetivo analisar um conjunto de dados de voos internacionais registrados pela Agência Nacional de Aviação Civil (ANAC) do Brasil, durante o período de janeiro de 2015 a agosto de 2017. \n",
    "\n",
    "A ANAC é a agência reguladora responsável pela aviação civil no país, e as informações contidas nesses dados são de grande importância para a compreensão da dinâmica da aviação internacional no Brasil, bem como para a tomada de decisões estratégicas no setor. O conjunto de dados inclui informações como o número do voo, nome da companhia aérea, horários de partida e chegada previstos e reais, situação do voo e localização dos aeroportos de origem e destino, entre outros. Esses dados permitem uma análise detalhada das tendências e padrões de voos internacionais no Brasil, bem como a identificação de fatores que possam influenciar o desempenho da aviação internacional no país."
   ]
  },
  {
   "attachments": {},
   "cell_type": "markdown",
   "metadata": {},
   "source": [
    "## 1.1. Objetivos\n",
    "\n",
    "O objetivo deste estudo é realizar uma Análise Exploratória dos Dados (Exploratory Data Analysis - EDA) do conjunto de dados disposto em [bases/](bases/), e analisar dados de voos internacionais rastreados pela ANAC.\n",
    "\n",
    "Com base nas informações disponíveis, pretendemos avaliar o desempenho das companhias aéreas em relação ao cumprimento dos horários previstos de partida e chegada, bem como investigar a frequência de cancelamentos e as justificativas apresentadas para esses casos. \n",
    "\n",
    "Também vamos examinar as rotas mais utilizadas e os destinos mais comuns para os voos internacionais saindo do Brasil, bem como avaliar a pontualidade e a eficiência dos aeroportos de origem e destino. \n",
    "\n",
    "1. [Análise 1](#Análise1)\n",
    "2. [Análise 2](#Análise2)\n",
    "3. [Análise 3](#Análise3)\n",
    "4. [Análise 4](#Análise4)\n"
   ]
  },
  {
   "attachments": {},
   "cell_type": "markdown",
   "metadata": {},
   "source": [
    "# 2. Metodologia\n",
    "\n",
    "Nesta seção será apresentado todo o processo de preparação, organização e limpeza de dados feito no *dataset* que possui os seguintes dados:\n",
    "\n",
    "| Coluna               | Tipo     | Descrição                                                 |\n",
    "|----------------------|----------|-----------------------------------------------------------|\n",
    "| voos                 | str      | Número do voo                                             |\n",
    "| companhia_aerea      | str      | Nome da companhia aérea                                   |\n",
    "| codigo_tipo_linha    | str      | Código do tipo de linha (internacional)                   |\n",
    "| partida_prevista     | datetime | Horário previsto de partida                               |\n",
    "| partida_real         | datetime | Horário real de partida                                   |\n",
    "| chegada_prevista     | datetime | Horário previsto de chegada                               |\n",
    "| chegada_real         | datetime | Horário real de chegada                                   |\n",
    "| situacao_voo         | str      | Situação do voo (realizado, cancelado, etc)               |\n",
    "| codigo_justificativa | str      | Código de justificativa (caso o voo tenha sido cancelado) |\n",
    "| aeroporto_origem     | str      | Código do aeroporto de origem                             |\n",
    "| cidade_origem        | str      | Cidade de origem                                          |\n",
    "| estado_origem        | str      | Estado de origem                                          |\n",
    "| pais_origem          | str      | País de origem                                            |\n",
    "| aeroporto_destino    | str      | Código do aeroporto de destino                            |\n",
    "| cidade_destino       | str      | Cidade de destino                                         |\n",
    "| estado_destino       | str      | Estado de destino                                         |\n",
    "| pais_destino         | str      | País de destino                                           |\n",
    "| long_dest             | int      | Longitude do aeroporto de destino                         |\n",
    "| lat_dest              | int      | Latitude do aeroporto de destino                          |\n",
    "| long_orig             | int      | Longitude do aeroporto de origem                          |\n",
    "| lat_orig              | int      | Latitude do aeroporto de origem                           |"
   ]
  },
  {
   "attachments": {},
   "cell_type": "markdown",
   "metadata": {},
   "source": [
    "## 2.1. Configuração do Ambiente"
   ]
  },
  {
   "attachments": {},
   "cell_type": "markdown",
   "metadata": {},
   "source": [
    "### 2.1.1. Bibliotecas e Ferramentas Necessárias (Built-ins)\n",
    "\n",
    "1. ```os```:       Para manipular os arquivos de base e seus respectivos diretórios de forma multiplataforma e eficiente.\n",
    "2. ```re```:       Utilizado em expressões regulares durante o processo de limpeza dos dados.\n",
    "3. ```enum```:     Auxilia nos processos de padronizar e regular algumas convenções do projeto.\n",
    "4. ```datetime```: Auxilia nos processos de padronizar e regular algumas convenções do projeto"
   ]
  },
  {
   "attachments": {},
   "cell_type": "markdown",
   "metadata": {},
   "source": [
    "### 2.1.2. Bibliotecas e Ferramentas Necessárias (pip)\n",
    "\n",
    "1. Pandas: Para manipular e exibir os dados de forma coesa e relata.\n",
    "\n",
    "    ```pip install pandas```       \n",
    "    ```import pandas as pd```\n",
    "\n",
    "2. JinJa2: Complemento de estilização do Pandas.\n",
    "\n",
    "    ```pip install Jinja2```\n",
    "\n",
    "3. DescricaoColuna e DescricaoTipo: São classes estáticas compostar por Enums estabelecidos com base nas convenções de nome das colunas do *dataset*.   \n",
    "   **Utils** possui complementos para tratativas de alguns campos.   \n",
    "   **DescricaoColuna** é responsável pelas informações de descrição dos campos.   \n",
    "   **DescricaoTipo** é responsável pelas informações de tipo dos campos.\n",
    "\n",
    "    ```from libs.utils import Utils, DescricaoColuna, DescricaoTipo```"
   ]
  },
  {
   "attachments": {},
   "cell_type": "markdown",
   "metadata": {},
   "source": [
    "### 2.1.3. Importações gerais para o projeto"
   ]
  },
  {
   "cell_type": "code",
   "execution_count": 1,
   "metadata": {},
   "outputs": [],
   "source": [
    "import os\n",
    "import re\n",
    "import pandas as pd\n",
    "\n",
    "from libs.utils import Utils, DescricaoColuna, DescricaoTipo"
   ]
  },
  {
   "attachments": {},
   "cell_type": "markdown",
   "metadata": {},
   "source": [
    "## 2.2. Carregamento da base"
   ]
  },
  {
   "cell_type": "code",
   "execution_count": 2,
   "metadata": {},
   "outputs": [],
   "source": [
    "caminho = os.path.join(\n",
    "            os.path.dirname(\n",
    "                os.path.abspath(\n",
    "                    os.path.join(__name__, '.'))), 'bases')\n",
    "\n",
    "arquivos = [arquivo for arquivo in os.listdir(caminho) if arquivo.endswith(\".csv\")]\n",
    "\n",
    "dataframes = [pd.read_csv(os.path.join(caminho, arquivo)) for arquivo in arquivos]\n",
    "\n",
    "flights_dataframe = pd.concat(dataframes)"
   ]
  },
  {
   "attachments": {},
   "cell_type": "markdown",
   "metadata": {},
   "source": [
    "## 2.3. Organização e Limpeza dos Dados"
   ]
  },
  {
   "attachments": {},
   "cell_type": "markdown",
   "metadata": {},
   "source": [
    "### 2.3.1. Padrozinação dos nomes das colunas"
   ]
  },
  {
   "cell_type": "code",
   "execution_count": 3,
   "metadata": {},
   "outputs": [],
   "source": [
    "nomes_colunas_tratadas = []\n",
    "\n",
    "for coluna in flights_dataframe.columns:\n",
    "    if any(char.isupper() for char in coluna):\n",
    "        nomes_colunas_tratadas.append('_'.join(word.lower() for word in re.findall('[A-Z][^A-Z]*', coluna)).lower().replace('.', ''))\n",
    "\n",
    "flights_dataframe.columns = nomes_colunas_tratadas"
   ]
  },
  {
   "attachments": {},
   "cell_type": "markdown",
   "metadata": {},
   "source": [
    "### 2.3.2. Padrozinação dos tipos das colunas de data/hora"
   ]
  },
  {
   "cell_type": "code",
   "execution_count": 4,
   "metadata": {},
   "outputs": [],
   "source": [
    "for coluna in flights_dataframe.columns:\n",
    "    tipo = DescricaoTipo.get(coluna)\n",
    "    if tipo.__name__ == 'datetime': \n",
    "        flights_dataframe[coluna] = Utils.formatar_data_hora(flights_dataframe, coluna)"
   ]
  },
  {
   "attachments": {},
   "cell_type": "markdown",
   "metadata": {},
   "source": [
    "### 2.3.3. Gerando coluna que contém a distância em KM (para *lat_long_orig* e *lat_long_dest*)"
   ]
  },
  {
   "cell_type": "code",
   "execution_count": 5,
   "metadata": {},
   "outputs": [],
   "source": [
    "flights_dataframe['distancia_km'] = Utils.calcular_distancia_km(\n",
    "    flights_dataframe['lat_orig'],\n",
    "    flights_dataframe['long_orig'],\n",
    "    flights_dataframe['lat_dest'],\n",
    "    flights_dataframe['long_dest']\n",
    ")"
   ]
  },
  {
   "attachments": {},
   "cell_type": "markdown",
   "metadata": {},
   "source": [
    "### 2.3.1. Removendo 'N/I' por um valor ''/string.empty"
   ]
  },
  {
   "cell_type": "code",
   "execution_count": 6,
   "metadata": {},
   "outputs": [],
   "source": [
    "for coluna in flights_dataframe.columns:\n",
    "    flights_dataframe[coluna] = flights_dataframe[coluna].replace('N/I', '')"
   ]
  },
  {
   "attachments": {},
   "cell_type": "markdown",
   "metadata": {},
   "source": [
    "### 2.3.5. Removendo np.NaN por um valor None"
   ]
  },
  {
   "cell_type": "code",
   "execution_count": 7,
   "metadata": {},
   "outputs": [],
   "source": [
    "flights_dataframe.fillna(value='', inplace=True)"
   ]
  },
  {
   "attachments": {},
   "cell_type": "markdown",
   "metadata": {},
   "source": [
    "### 2.3.n Resultado final"
   ]
  },
  {
   "cell_type": "code",
   "execution_count": 8,
   "metadata": {},
   "outputs": [
    {
     "data": {
      "text/html": [
       "<style type=\"text/css\">\n",
       "#T_0c609 th {\n",
       "  text-align: center;\n",
       "}\n",
       "#T_0c609 td {\n",
       "  text-align: center;\n",
       "}\n",
       "</style>\n",
       "<table id=\"T_0c609\">\n",
       "  <thead>\n",
       "    <tr>\n",
       "      <th class=\"blank level0\" >&nbsp;</th>\n",
       "      <th id=\"T_0c609_level0_col0\" class=\"col_heading level0 col0\" >NomeColuna</th>\n",
       "      <th id=\"T_0c609_level0_col1\" class=\"col_heading level0 col1\" >DescricaoColuna</th>\n",
       "      <th id=\"T_0c609_level0_col2\" class=\"col_heading level0 col2\" >DescricaoTipo</th>\n",
       "    </tr>\n",
       "  </thead>\n",
       "  <tbody>\n",
       "    <tr>\n",
       "      <th id=\"T_0c609_level0_row0\" class=\"row_heading level0 row0\" >0</th>\n",
       "      <td id=\"T_0c609_row0_col0\" class=\"data row0 col0\" >voos</td>\n",
       "      <td id=\"T_0c609_row0_col1\" class=\"data row0 col1\" >Número do voo</td>\n",
       "      <td id=\"T_0c609_row0_col2\" class=\"data row0 col2\" >str</td>\n",
       "    </tr>\n",
       "    <tr>\n",
       "      <th id=\"T_0c609_level0_row1\" class=\"row_heading level0 row1\" >1</th>\n",
       "      <td id=\"T_0c609_row1_col0\" class=\"data row1 col0\" >companhia_aerea</td>\n",
       "      <td id=\"T_0c609_row1_col1\" class=\"data row1 col1\" >Nome da companhia aérea</td>\n",
       "      <td id=\"T_0c609_row1_col2\" class=\"data row1 col2\" >str</td>\n",
       "    </tr>\n",
       "    <tr>\n",
       "      <th id=\"T_0c609_level0_row2\" class=\"row_heading level0 row2\" >2</th>\n",
       "      <td id=\"T_0c609_row2_col0\" class=\"data row2 col0\" >codigo_tipo_linha</td>\n",
       "      <td id=\"T_0c609_row2_col1\" class=\"data row2 col1\" >Código do tipo de linha (internacional)</td>\n",
       "      <td id=\"T_0c609_row2_col2\" class=\"data row2 col2\" >str</td>\n",
       "    </tr>\n",
       "    <tr>\n",
       "      <th id=\"T_0c609_level0_row3\" class=\"row_heading level0 row3\" >3</th>\n",
       "      <td id=\"T_0c609_row3_col0\" class=\"data row3 col0\" >partida_prevista</td>\n",
       "      <td id=\"T_0c609_row3_col1\" class=\"data row3 col1\" >Horário previsto de partida</td>\n",
       "      <td id=\"T_0c609_row3_col2\" class=\"data row3 col2\" >datetime</td>\n",
       "    </tr>\n",
       "    <tr>\n",
       "      <th id=\"T_0c609_level0_row4\" class=\"row_heading level0 row4\" >4</th>\n",
       "      <td id=\"T_0c609_row4_col0\" class=\"data row4 col0\" >partida_real</td>\n",
       "      <td id=\"T_0c609_row4_col1\" class=\"data row4 col1\" >Horário real de partida</td>\n",
       "      <td id=\"T_0c609_row4_col2\" class=\"data row4 col2\" >datetime</td>\n",
       "    </tr>\n",
       "    <tr>\n",
       "      <th id=\"T_0c609_level0_row5\" class=\"row_heading level0 row5\" >5</th>\n",
       "      <td id=\"T_0c609_row5_col0\" class=\"data row5 col0\" >chegada_prevista</td>\n",
       "      <td id=\"T_0c609_row5_col1\" class=\"data row5 col1\" >Horário previsto de chegada</td>\n",
       "      <td id=\"T_0c609_row5_col2\" class=\"data row5 col2\" >datetime</td>\n",
       "    </tr>\n",
       "    <tr>\n",
       "      <th id=\"T_0c609_level0_row6\" class=\"row_heading level0 row6\" >6</th>\n",
       "      <td id=\"T_0c609_row6_col0\" class=\"data row6 col0\" >chegada_real</td>\n",
       "      <td id=\"T_0c609_row6_col1\" class=\"data row6 col1\" >Horário real de chegada</td>\n",
       "      <td id=\"T_0c609_row6_col2\" class=\"data row6 col2\" >datetime</td>\n",
       "    </tr>\n",
       "    <tr>\n",
       "      <th id=\"T_0c609_level0_row7\" class=\"row_heading level0 row7\" >7</th>\n",
       "      <td id=\"T_0c609_row7_col0\" class=\"data row7 col0\" >situacao_voo</td>\n",
       "      <td id=\"T_0c609_row7_col1\" class=\"data row7 col1\" >Situação do voo (realizado, cancelado, etc)</td>\n",
       "      <td id=\"T_0c609_row7_col2\" class=\"data row7 col2\" >str</td>\n",
       "    </tr>\n",
       "    <tr>\n",
       "      <th id=\"T_0c609_level0_row8\" class=\"row_heading level0 row8\" >8</th>\n",
       "      <td id=\"T_0c609_row8_col0\" class=\"data row8 col0\" >codigo_justificativa</td>\n",
       "      <td id=\"T_0c609_row8_col1\" class=\"data row8 col1\" >Código de justificativa (caso o voo tenha sido cancelado)</td>\n",
       "      <td id=\"T_0c609_row8_col2\" class=\"data row8 col2\" >str</td>\n",
       "    </tr>\n",
       "    <tr>\n",
       "      <th id=\"T_0c609_level0_row9\" class=\"row_heading level0 row9\" >9</th>\n",
       "      <td id=\"T_0c609_row9_col0\" class=\"data row9 col0\" >aeroporto_origem</td>\n",
       "      <td id=\"T_0c609_row9_col1\" class=\"data row9 col1\" >Código do aeroporto de origem</td>\n",
       "      <td id=\"T_0c609_row9_col2\" class=\"data row9 col2\" >str</td>\n",
       "    </tr>\n",
       "    <tr>\n",
       "      <th id=\"T_0c609_level0_row10\" class=\"row_heading level0 row10\" >10</th>\n",
       "      <td id=\"T_0c609_row10_col0\" class=\"data row10 col0\" >cidade_origem</td>\n",
       "      <td id=\"T_0c609_row10_col1\" class=\"data row10 col1\" >Cidade de origem</td>\n",
       "      <td id=\"T_0c609_row10_col2\" class=\"data row10 col2\" >str</td>\n",
       "    </tr>\n",
       "    <tr>\n",
       "      <th id=\"T_0c609_level0_row11\" class=\"row_heading level0 row11\" >11</th>\n",
       "      <td id=\"T_0c609_row11_col0\" class=\"data row11 col0\" >estado_origem</td>\n",
       "      <td id=\"T_0c609_row11_col1\" class=\"data row11 col1\" >Estado de origem</td>\n",
       "      <td id=\"T_0c609_row11_col2\" class=\"data row11 col2\" >str</td>\n",
       "    </tr>\n",
       "    <tr>\n",
       "      <th id=\"T_0c609_level0_row12\" class=\"row_heading level0 row12\" >12</th>\n",
       "      <td id=\"T_0c609_row12_col0\" class=\"data row12 col0\" >pais_origem</td>\n",
       "      <td id=\"T_0c609_row12_col1\" class=\"data row12 col1\" >País de origem</td>\n",
       "      <td id=\"T_0c609_row12_col2\" class=\"data row12 col2\" >str</td>\n",
       "    </tr>\n",
       "    <tr>\n",
       "      <th id=\"T_0c609_level0_row13\" class=\"row_heading level0 row13\" >13</th>\n",
       "      <td id=\"T_0c609_row13_col0\" class=\"data row13 col0\" >aeroporto_destino</td>\n",
       "      <td id=\"T_0c609_row13_col1\" class=\"data row13 col1\" >Código do aeroporto de destino</td>\n",
       "      <td id=\"T_0c609_row13_col2\" class=\"data row13 col2\" >str</td>\n",
       "    </tr>\n",
       "    <tr>\n",
       "      <th id=\"T_0c609_level0_row14\" class=\"row_heading level0 row14\" >14</th>\n",
       "      <td id=\"T_0c609_row14_col0\" class=\"data row14 col0\" >cidade_destino</td>\n",
       "      <td id=\"T_0c609_row14_col1\" class=\"data row14 col1\" >Cidade de destino</td>\n",
       "      <td id=\"T_0c609_row14_col2\" class=\"data row14 col2\" >str</td>\n",
       "    </tr>\n",
       "    <tr>\n",
       "      <th id=\"T_0c609_level0_row15\" class=\"row_heading level0 row15\" >15</th>\n",
       "      <td id=\"T_0c609_row15_col0\" class=\"data row15 col0\" >estado_destino</td>\n",
       "      <td id=\"T_0c609_row15_col1\" class=\"data row15 col1\" >Estado de destino</td>\n",
       "      <td id=\"T_0c609_row15_col2\" class=\"data row15 col2\" >str</td>\n",
       "    </tr>\n",
       "    <tr>\n",
       "      <th id=\"T_0c609_level0_row16\" class=\"row_heading level0 row16\" >16</th>\n",
       "      <td id=\"T_0c609_row16_col0\" class=\"data row16 col0\" >pais_destino</td>\n",
       "      <td id=\"T_0c609_row16_col1\" class=\"data row16 col1\" >País de destino</td>\n",
       "      <td id=\"T_0c609_row16_col2\" class=\"data row16 col2\" >str</td>\n",
       "    </tr>\n",
       "    <tr>\n",
       "      <th id=\"T_0c609_level0_row17\" class=\"row_heading level0 row17\" >17</th>\n",
       "      <td id=\"T_0c609_row17_col0\" class=\"data row17 col0\" >long_dest</td>\n",
       "      <td id=\"T_0c609_row17_col1\" class=\"data row17 col1\" >Longitude do aeroporto de destino</td>\n",
       "      <td id=\"T_0c609_row17_col2\" class=\"data row17 col2\" >int</td>\n",
       "    </tr>\n",
       "    <tr>\n",
       "      <th id=\"T_0c609_level0_row18\" class=\"row_heading level0 row18\" >18</th>\n",
       "      <td id=\"T_0c609_row18_col0\" class=\"data row18 col0\" >lat_dest</td>\n",
       "      <td id=\"T_0c609_row18_col1\" class=\"data row18 col1\" >Latitude do aeroporto de destino</td>\n",
       "      <td id=\"T_0c609_row18_col2\" class=\"data row18 col2\" >int</td>\n",
       "    </tr>\n",
       "    <tr>\n",
       "      <th id=\"T_0c609_level0_row19\" class=\"row_heading level0 row19\" >19</th>\n",
       "      <td id=\"T_0c609_row19_col0\" class=\"data row19 col0\" >long_orig</td>\n",
       "      <td id=\"T_0c609_row19_col1\" class=\"data row19 col1\" >Longitude do aeroporto de origem</td>\n",
       "      <td id=\"T_0c609_row19_col2\" class=\"data row19 col2\" >int</td>\n",
       "    </tr>\n",
       "    <tr>\n",
       "      <th id=\"T_0c609_level0_row20\" class=\"row_heading level0 row20\" >20</th>\n",
       "      <td id=\"T_0c609_row20_col0\" class=\"data row20 col0\" >lat_orig</td>\n",
       "      <td id=\"T_0c609_row20_col1\" class=\"data row20 col1\" >Latitude do aeroporto de origem</td>\n",
       "      <td id=\"T_0c609_row20_col2\" class=\"data row20 col2\" >int</td>\n",
       "    </tr>\n",
       "    <tr>\n",
       "      <th id=\"T_0c609_level0_row21\" class=\"row_heading level0 row21\" >21</th>\n",
       "      <td id=\"T_0c609_row21_col0\" class=\"data row21 col0\" >distancia_km</td>\n",
       "      <td id=\"T_0c609_row21_col1\" class=\"data row21 col1\" >Total em Kilômetros entre o local Origem e Destino</td>\n",
       "      <td id=\"T_0c609_row21_col2\" class=\"data row21 col2\" >float</td>\n",
       "    </tr>\n",
       "  </tbody>\n",
       "</table>\n"
      ],
      "text/plain": [
       "<pandas.io.formats.style.Styler at 0x221003f5b10>"
      ]
     },
     "execution_count": 8,
     "metadata": {},
     "output_type": "execute_result"
    }
   ],
   "source": [
    "columns = ['NomeColuna', DescricaoColuna.__name__, DescricaoTipo.__name__]\n",
    "values = [[value, DescricaoColuna.get(value), DescricaoTipo.get(value).__name__] for value in flights_dataframe.columns]\n",
    "propertys = [dict(selector='th', props=[('text-align', 'center')]), dict(selector='td', props=[('text-align', 'center')])]\n",
    "pd.DataFrame(data=values, columns=columns).style.set_table_styles(propertys)"
   ]
  },
  {
   "attachments": {},
   "cell_type": "markdown",
   "metadata": {},
   "source": [
    "# 3. Análise dos Dados"
   ]
  },
  {
   "attachments": {},
   "cell_type": "markdown",
   "metadata": {},
   "source": [
    "## 3.1. Quantidade de voos por companhia aérea.\n",
    "Verificar a quantidade de voos realizados por cada companhia aérea, ou seja, analisar a distribuição de frequência da coluna 'Companhia.Aerea'."
   ]
  },
  {
   "attachments": {},
   "cell_type": "markdown",
   "metadata": {},
   "source": [
    "## 3.2. Quantidade de voos por tipo de linha.\n",
    "Verificar a quantidade de voos internacionais, nacionais e regionais, ou seja, analisar a distribuição de frequência da coluna 'Codigo.Tipo.Linha'."
   ]
  },
  {
   "attachments": {},
   "cell_type": "markdown",
   "metadata": {},
   "source": [
    "## 3.3. Pontualidade dos voos.\n",
    "Analisar a pontualidade dos voos, comparando a hora de partida prevista com a hora de partida real e a hora de chegada prevista com a hora de chegada real, utilizando gráficos de dispersão ou histogramas, e identificar os voos que tiveram maior atraso."
   ]
  },
  {
   "attachments": {},
   "cell_type": "markdown",
   "metadata": {},
   "source": [
    "### 3.3.1 Pontualidade por companhia aérea.\n"
   ]
  },
  {
   "attachments": {},
   "cell_type": "markdown",
   "metadata": {},
   "source": [
    "### 3.3.2 Pontualidade por tipo de linha.\n"
   ]
  },
  {
   "attachments": {},
   "cell_type": "markdown",
   "metadata": {},
   "source": [
    "## 3.4. frequência de voos cancelados.\n",
    "Investigar a frequência de voos cancelados em função da justificativa apresentada na coluna 'Codigo.Justificativa'."
   ]
  },
  {
   "attachments": {},
   "cell_type": "markdown",
   "metadata": {},
   "source": [
    "## 3.5. Correlação entre a localização dos aeroportos de origem e destino.\n",
    "Analisar a correlação entre a localização dos aeroportos de origem e destino (latitude e longitude) e as companhias aéreas e tipo de linha dos voos utilizando gráficos de dispersão."
   ]
  },
  {
   "attachments": {},
   "cell_type": "markdown",
   "metadata": {},
   "source": [
    "## 3.6. Aeroportos mais movimentados.\n",
    "Identificar os aeroportos com maior quantidade de voos de partida e de chegada, utilizando gráficos de barras."
   ]
  },
  {
   "attachments": {},
   "cell_type": "markdown",
   "metadata": {},
   "source": [
    "## 3.7. Distribuição geográfica dos voos internacionais\n",
    "Analisar a distribuição geográfica dos voos internacionais em função dos países de origem e destino, utilizando mapas."
   ]
  }
 ],
 "metadata": {
  "kernelspec": {
   "display_name": "Python 3",
   "language": "python",
   "name": "python3"
  },
  "language_info": {
   "codemirror_mode": {
    "name": "ipython",
    "version": 3
   },
   "file_extension": ".py",
   "mimetype": "text/x-python",
   "name": "python",
   "nbconvert_exporter": "python",
   "pygments_lexer": "ipython3",
   "version": "3.11.2"
  },
  "orig_nbformat": 4
 },
 "nbformat": 4,
 "nbformat_minor": 2
}
