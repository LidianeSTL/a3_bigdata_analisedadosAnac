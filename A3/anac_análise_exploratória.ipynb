{
 "cells": [
  {
   "attachments": {},
   "cell_type": "markdown",
   "metadata": {},
   "source": [
    "# Análise de Dados Exploratória da ANAC\n",
    "\n",
    "![ANAC](imgs/anac-logo.png \"Logo ANAC\")"
   ]
  },
  {
   "attachments": {},
   "cell_type": "markdown",
   "metadata": {},
   "source": [
    "# 1. Introdução\n",
    "\n",
    "Este estudo tem como objetivo analisar um conjunto de dados de voos internacionais registrados pela Agência Nacional de Aviação Civil (ANAC) do Brasil, durante o período de janeiro de 2015 a agosto de 2017. \n",
    "\n",
    "A ANAC é a agência reguladora responsável pela aviação civil no país, e as informações contidas nesses dados são de grande importância para a compreensão da dinâmica da aviação internacional no Brasil, bem como para a tomada de decisões estratégicas no setor. O conjunto de dados inclui informações como o número do voo, nome da companhia aérea, horários de partida e chegada previstos e reais, situação do voo e localização dos aeroportos de origem e destino, entre outros. Esses dados permitem uma análise detalhada das tendências e padrões de voos internacionais no Brasil, bem como a identificação de fatores que possam influenciar o desempenho da aviação internacional no país."
   ]
  },
  {
   "attachments": {},
   "cell_type": "markdown",
   "metadata": {},
   "source": [
    "## 1.1. Objetivos\n",
    "\n",
    "O objetivo deste estudo é realizar uma Análise Exploratória dos Dados (Exploratory Data Analysis - EDA) do conjunto de dados disposto em [bases/](bases/), e analisar dados de voos internacionais rastreados pela ANAC.\n",
    "\n",
    "Com base nas informações disponíveis, pretendemos avaliar o desempenho das companhias aéreas em relação ao cumprimento dos horários previstos de partida e chegada, bem como investigar a frequência de cancelamentos e as justificativas apresentadas para esses casos. \n",
    "\n",
    "Também vamos examinar as rotas mais utilizadas e os destinos mais comuns para os voos internacionais saindo do Brasil, bem como avaliar a pontualidade e a eficiência dos aeroportos de origem e destino. \n",
    "\n",
    "1. [Qual destino mais procurado nas férias?](#analisedados.1)\n",
    "2. [Principais destinos nacionais julho, dezembro e janeiro](#Análise2)\n",
    "3. [Principais destinos internacionais julho, dezembro e janeiro.](#Análise3)\n",
    "4. [Análise 4](#Análise4)\n"
   ]
  },
  {
   "attachments": {},
   "cell_type": "markdown",
   "metadata": {},
   "source": [
    "# 2. Metodologia\n",
    "\n",
    "Nesta seção será apresentado todo o processo de preparação, organização e limpeza de dados feito no *dataset* que possui os seguintes dados brutos. Ao final desta, apresentaremos os dados padronizados e devidamente tratados:\n",
    "\n",
    "|        Coluna        | Tipo |                         Descrição                         |\n",
    "|:--------------------:|:----:|:---------------------------------------------------------:|\n",
    "|         Voos         |  str |                       Número do voo                       |\n",
    "|    Companhia.Aerea   |  str |                  Nome da companhia aérea                  |\n",
    "|   Codigo.Tipo.Linha  |  str |          Código do tipo de linha (internacional)          |\n",
    "|   Partida.Prevista   |  str |                Horário previsto de partida                |\n",
    "|     Partida.Real     |  str |                  Horário real de partida                  |\n",
    "|   Chegada.Prevista   |  str |                Horário previsto de chegada                |\n",
    "|     Chegada.Real     |  str |                  Horário real de chegada                  |\n",
    "|     Situacao.Voo     |  str |        Situação do voo (realizado, cancelado, etc)        |\n",
    "| Codigo.Justificativa |  str | Código de justificativa (caso o voo tenha sido cancelado) |\n",
    "|   Aeroporto.Origem   |  str |               Código do aeroporto de origem               |\n",
    "|     Cidade.Origem    |  str |                      Cidade de origem                     |\n",
    "|     Estado.Origem    |  str |                      Estado de origem                     |\n",
    "|      Pais.Origem     |  str |                       País de origem                      |\n",
    "|   Aeroporto.Destino  |  str |               Código do aeroporto de destino              |\n",
    "|    Cidade.Destino    |  str |                     Cidade de destino                     |\n",
    "|    Estado.Destino    |  str |                     Estado de destino                     |\n",
    "|     Pais.Destino     |  str |                      País de destino                      |\n",
    "|       LongDest       |  str |             Longitude do aeroporto de destino             |\n",
    "|        LatDest       |  str |              Latitude do aeroporto de destino             |\n",
    "|       LongOrig       |  str |              Longitude do aeroporto de origem             |\n",
    "|        LatOrig       |  str |              Latitude do aeroporto de origem              |\n"
   ]
  },
  {
   "attachments": {},
   "cell_type": "markdown",
   "metadata": {},
   "source": [
    "## 2.1. Configuração do Ambiente"
   ]
  },
  {
   "attachments": {},
   "cell_type": "markdown",
   "metadata": {},
   "source": [
    "### 2.1.1. Bibliotecas e Ferramentas Necessárias (Built-ins)\n",
    "\n",
    "1. ```os```:       Para manipular os arquivos de base e seus respectivos diretórios de forma multiplataforma e eficiente.\n",
    "2. ```re```:       Utilizado em expressões regulares durante o processo de limpeza dos dados.\n",
    "3. ```enum```:     Auxilia nos processos de padronizar e regular algumas convenções do projeto.\n",
    "4. ```datetime```: Auxilia nos processos de padronizar e regular algumas convenções do projeto"
   ]
  },
  {
   "attachments": {},
   "cell_type": "markdown",
   "metadata": {},
   "source": [
    "### 2.1.2. Bibliotecas e Ferramentas Necessárias (pip)\n",
    "\n",
    "1. Pandas: Para manipular e exibir os dados de forma coesa e relata.   \n",
    "    ```pip install pandas```       \n",
    "    ```import pandas as pd```\n",
    "\n",
    "2. JinJa2: Complemento de estilização do Pandas.   \n",
    "    ```pip install Jinja2```\n",
    "\n",
    "3. Matplotlib: Para exibição visual dos dados por meio de gráficos.   \n",
    "    ```pip install matplotlib```   \n",
    "    ```import matplotlib.pyplot as plt```\n",
    "\n",
    "4. DescricaoColuna e DescricaoTipo: São classes estáticas compostar por Enums estabelecidos com base nas convenções de nome das colunas do *dataset*.   \n",
    "   **Utils** possui complementos para tratativas de alguns campos.   \n",
    "    ```from libs.utils import Utils```"
   ]
  },
  {
   "attachments": {},
   "cell_type": "markdown",
   "metadata": {},
   "source": [
    "### 2.1.3. Importações gerais para o projeto"
   ]
  },
  {
   "cell_type": "code",
   "execution_count": 1,
   "metadata": {},
   "outputs": [],
   "source": [
    "import os\n",
    "import re\n",
    "import pandas as pd\n",
    "import numpy as np\n",
    "import matplotlib.pyplot as plt\n",
    "from libs.utils import Utils, AnacVoos"
   ]
  },
  {
   "attachments": {},
   "cell_type": "markdown",
   "metadata": {},
   "source": [
    "## 2.2. Carregamento da base"
   ]
  },
  {
   "cell_type": "code",
   "execution_count": 2,
   "metadata": {},
   "outputs": [],
   "source": [
    "caminho = os.path.join(\n",
    "    os.path.dirname(\n",
    "        os.path.abspath(\n",
    "            os.path.join(__name__, '.'))), 'bases')\n",
    "\n",
    "arquivos = [arquivo for arquivo in os.listdir(\n",
    "    caminho) if arquivo.endswith(\".csv\")]\n",
    "\n",
    "dataframes = [pd.read_csv(os.path.join(caminho, arquivo))\n",
    "              for arquivo in arquivos]\n",
    "\n",
    "AnacVoos.dados = pd.concat(dataframes)\n",
    "AnacVoos.total_arquivos = len(arquivos)\n",
    "AnacVoos.dados_solidos = False\n",
    "AnacVoos.total_registros = len(AnacVoos.dados.index)"
   ]
  },
  {
   "attachments": {},
   "cell_type": "markdown",
   "metadata": {},
   "source": [
    "## 2.3. Organização e Limpeza dos Dados"
   ]
  },
  {
   "attachments": {},
   "cell_type": "markdown",
   "metadata": {},
   "source": [
    "### 2.3.1. Padrozinação dos nomes das colunas"
   ]
  },
  {
   "cell_type": "code",
   "execution_count": 3,
   "metadata": {},
   "outputs": [],
   "source": [
    "nomes_colunas_tratadas = []\n",
    "\n",
    "for coluna in AnacVoos.dados.columns:\n",
    "    if any(char.isupper() for char in coluna):\n",
    "        if coluna == 'Voos':\n",
    "            coluna = 'Num.Voo'\n",
    "        nomes_colunas_tratadas.append('_'.join(word.lower() for word in re.findall(\n",
    "            '[A-Z][^A-Z]*', coluna)).lower().replace('.', ''))\n",
    "\n",
    "AnacVoos.dados.columns = nomes_colunas_tratadas"
   ]
  },
  {
   "attachments": {},
   "cell_type": "markdown",
   "metadata": {},
   "source": [
    "### 2.3.2. Padrozinação dos tipos das colunas de data/hora, string e númericos"
   ]
  },
  {
   "cell_type": "code",
   "execution_count": 4,
   "metadata": {},
   "outputs": [],
   "source": [
    "for coluna in AnacVoos.dados.columns:\n",
    "    tipo = Utils.tipo_coluna(coluna)\n",
    "    if tipo.__name__ == 'datetime': \n",
    "        AnacVoos.dados = Utils.formatar_colunas_datetime(AnacVoos.dados, coluna)"
   ]
  },
  {
   "attachments": {},
   "cell_type": "markdown",
   "metadata": {},
   "source": [
    "### 2.3.3. Padrozinação no nome das companhias aérea."
   ]
  },
  {
   "cell_type": "code",
   "execution_count": 5,
   "metadata": {},
   "outputs": [],
   "source": [
    "AnacVoos.dados['companhia_aerea'] = AnacVoos.dados.apply(\n",
    "    lambda row: Utils.nome_companhia_aerea_normalizado(\n",
    "        row['companhia_aerea'],\n",
    "    ), axis=1)"
   ]
  },
  {
   "attachments": {},
   "cell_type": "markdown",
   "metadata": {},
   "source": [
    "### 2.3.4. Feature Engineering\n",
    "A engenharia de recursos (*Feature Engineering*) é o processo de usar o conhecimento do domínio para extrair recursos dos dados brutos. Neste estudo serão acrescentadas as seguintes colunas para enriquecer a análise de dados:\n",
    "\n",
    "| Coluna         | Descrição                                                            | Base         |\n",
    "|:--------------:|:--------------------------------------------------------------------:|:--------------:|\n",
    "| partida_atrasou | Houve atraso na partida (S/N)                                       | `partida_prevista - partida_real` |\n",
    "| chegada_atrasou | Houve atraso na chegada (S/N)                                       | `chegada_prevista - chegada_real` |\n",
    "| distancia_km   | Distância total em kms da origem ao destino                          | `lat_long_orig - lat_long_dest` |\n",
    "| justificativa_atraso   | Informação e correlata à justificativa no atraso do voo      | `codigo_justificativa` |\n",
    "| justificativa_cancelamento   | Informação e correlata à justificativa do cancelamento do voo| `codigo_justificativa` |\n",
    "| rota           | Origem x Destino                                                     | `cidade_origem + cidade_destino` |\n",
    "| periodo_ferias           | Contém o mês condizente a um período de férias (Janeiro, Julho ou Dezembro)    | `partida_prevista` **in** [1, 7, 12]  |"
   ]
  },
  {
   "attachments": {},
   "cell_type": "markdown",
   "metadata": {},
   "source": [
    "#### 2.3.3.1. Atraso na partida"
   ]
  },
  {
   "cell_type": "code",
   "execution_count": 6,
   "metadata": {},
   "outputs": [],
   "source": [
    "AnacVoos.dados['partida_atrasou'] = AnacVoos.dados.apply(\n",
    "    lambda row: Utils.validar_atraso(\n",
    "        row['situacao_voo'],\n",
    "        row['partida_prevista'],\n",
    "        row['partida_real']\n",
    "    ), axis=1)"
   ]
  },
  {
   "attachments": {},
   "cell_type": "markdown",
   "metadata": {},
   "source": [
    "#### 2.3.3.2. Atraso na chegada"
   ]
  },
  {
   "cell_type": "code",
   "execution_count": 7,
   "metadata": {},
   "outputs": [],
   "source": [
    "AnacVoos.dados['chegada_atrasou'] = AnacVoos.dados.apply(\n",
    "    lambda row: Utils.validar_atraso(\n",
    "        row['situacao_voo'],\n",
    "        row['chegada_prevista'],\n",
    "        row['chegada_real']\n",
    "    ), axis=1)"
   ]
  },
  {
   "attachments": {},
   "cell_type": "markdown",
   "metadata": {},
   "source": [
    "#### 2.3.3.3. distancia_km (para *lat_long_orig* e *lat_long_dest*)"
   ]
  },
  {
   "cell_type": "code",
   "execution_count": 8,
   "metadata": {},
   "outputs": [],
   "source": [
    "AnacVoos.dados['distancia_km'] = AnacVoos.dados.apply(\n",
    "    lambda row: Utils.calcular_distancia_km(\n",
    "        row['lat_orig'],\n",
    "        row['long_orig'],\n",
    "        row['lat_dest'],\n",
    "        row['long_dest']\n",
    "    ), axis=1)"
   ]
  },
  {
   "attachments": {},
   "cell_type": "markdown",
   "metadata": {},
   "source": [
    "#### 2.3.3.4. Justificativa atraso"
   ]
  },
  {
   "cell_type": "code",
   "execution_count": 9,
   "metadata": {},
   "outputs": [],
   "source": [
    "AnacVoos.dados['justificativa_atraso'] = ''\n",
    "AnacVoos.dados['justificativa_atraso'] = np.where(\n",
    "    ((AnacVoos.dados['partida_atrasou'] == 'S') |\n",
    "     (AnacVoos.dados['chegada_atrasou'] == 'S')),\n",
    "    AnacVoos.dados.apply(lambda row: Utils.motivo_atraso(\n",
    "        row['codigo_justificativa']), axis=1),\n",
    "    AnacVoos.dados['justificativa_atraso']\n",
    ")"
   ]
  },
  {
   "attachments": {},
   "cell_type": "markdown",
   "metadata": {},
   "source": [
    "#### 2.3.3.5. Justificativa cancelamento"
   ]
  },
  {
   "cell_type": "code",
   "execution_count": 10,
   "metadata": {},
   "outputs": [],
   "source": [
    "AnacVoos.dados['justificativa_cancelamento'] = ''\n",
    "AnacVoos.dados['justificativa_cancelamento'] = np.where(\n",
    "    AnacVoos.dados['situacao_voo'] == 'Cancelado',\n",
    "    AnacVoos.dados.apply(lambda row: Utils.motivo_cancelamento(\n",
    "        row['codigo_justificativa']), axis=1),\n",
    "    AnacVoos.dados['justificativa_cancelamento']\n",
    ")"
   ]
  },
  {
   "attachments": {},
   "cell_type": "markdown",
   "metadata": {},
   "source": [
    "#### 2.3.3.6. Rota"
   ]
  },
  {
   "cell_type": "code",
   "execution_count": 11,
   "metadata": {},
   "outputs": [],
   "source": [
    "AnacVoos.dados = AnacVoos.dados.assign(\n",
    "    rota=AnacVoos.dados['cidade_origem'] + ' - ' + AnacVoos.dados['cidade_destino'])"
   ]
  },
  {
   "attachments": {},
   "cell_type": "markdown",
   "metadata": {},
   "source": [
    "#### 2.3.3.7. Período Férias"
   ]
  },
  {
   "cell_type": "code",
   "execution_count": 12,
   "metadata": {},
   "outputs": [],
   "source": [
    "AnacVoos.dados['periodo_ferias'] = Utils.atribuir_periodo_ferias(AnacVoos.dados['partida_prevista'])"
   ]
  },
  {
   "attachments": {},
   "cell_type": "markdown",
   "metadata": {},
   "source": [
    "## 2.4. Mapeamento de Dados\n",
    "Para melhorar a análise e interpretação dos dados os seguintes atributos serão modificados:\n",
    "\n",
    "| Coluna    | Original     | Modificado                          |\n",
    "|:----------:|:-------------:|:------------------------------------:|\n",
    "| *    | 'NA', *      | '', *                  |\n",
    "| *      | np.NaN / NaN      | ''                  |\n"
   ]
  },
  {
   "attachments": {},
   "cell_type": "markdown",
   "metadata": {},
   "source": [
    "### 2.4.1. Removendo 'N/I' por um valor ''/string.empty"
   ]
  },
  {
   "cell_type": "code",
   "execution_count": 13,
   "metadata": {},
   "outputs": [],
   "source": [
    "for coluna in AnacVoos.dados.columns:\n",
    "    AnacVoos.dados[coluna] = AnacVoos.dados[coluna].replace('N/I', '')"
   ]
  },
  {
   "attachments": {},
   "cell_type": "markdown",
   "metadata": {},
   "source": [
    "### 2.4.2. Removendo np.NaN por um valor None"
   ]
  },
  {
   "cell_type": "code",
   "execution_count": 14,
   "metadata": {},
   "outputs": [],
   "source": [
    "AnacVoos.dados.fillna(value='', inplace=True)"
   ]
  },
  {
   "attachments": {},
   "cell_type": "markdown",
   "metadata": {},
   "source": [
    "### 2.5. Reordenando as colunas de forma semântica"
   ]
  },
  {
   "cell_type": "code",
   "execution_count": 15,
   "metadata": {},
   "outputs": [],
   "source": [
    "AnacVoos.dados = AnacVoos.dados.reindex(\n",
    "    columns=Utils.nomes_colunas(), index=None)\n",
    "AnacVoos.dados.drop('codigo_justificativa', axis=1, inplace=True)\n",
    "\n",
    "# garantindo que não houveram alterações no volume de dados\n",
    "AnacVoos.dados_solidos = len(AnacVoos.dados.index) == AnacVoos.total_registros"
   ]
  },
  {
   "attachments": {},
   "cell_type": "markdown",
   "metadata": {},
   "source": [
    "### 2.6 Resultado final"
   ]
  },
  {
   "cell_type": "code",
   "execution_count": 16,
   "metadata": {},
   "outputs": [
    {
     "data": {
      "text/html": [
       "<style type=\"text/css\">\n",
       "#T_a2d3f th {\n",
       "  text-align: center;\n",
       "}\n",
       "#T_a2d3f td {\n",
       "  text-align: center;\n",
       "}\n",
       "</style>\n",
       "<table id=\"T_a2d3f\">\n",
       "  <thead>\n",
       "    <tr>\n",
       "      <th class=\"blank level0\" >&nbsp;</th>\n",
       "      <th id=\"T_a2d3f_level0_col0\" class=\"col_heading level0 col0\" >NomeColuna</th>\n",
       "      <th id=\"T_a2d3f_level0_col1\" class=\"col_heading level0 col1\" >DescricaoColuna</th>\n",
       "      <th id=\"T_a2d3f_level0_col2\" class=\"col_heading level0 col2\" >TipoColuna</th>\n",
       "    </tr>\n",
       "  </thead>\n",
       "  <tbody>\n",
       "    <tr>\n",
       "      <th id=\"T_a2d3f_level0_row0\" class=\"row_heading level0 row0\" >0</th>\n",
       "      <td id=\"T_a2d3f_row0_col0\" class=\"data row0 col0\" >num_voo</td>\n",
       "      <td id=\"T_a2d3f_row0_col1\" class=\"data row0 col1\" >Número do voo</td>\n",
       "      <td id=\"T_a2d3f_row0_col2\" class=\"data row0 col2\" >str</td>\n",
       "    </tr>\n",
       "    <tr>\n",
       "      <th id=\"T_a2d3f_level0_row1\" class=\"row_heading level0 row1\" >1</th>\n",
       "      <td id=\"T_a2d3f_row1_col0\" class=\"data row1 col0\" >companhia_aerea</td>\n",
       "      <td id=\"T_a2d3f_row1_col1\" class=\"data row1 col1\" >Nome da companhia aérea</td>\n",
       "      <td id=\"T_a2d3f_row1_col2\" class=\"data row1 col2\" >str</td>\n",
       "    </tr>\n",
       "    <tr>\n",
       "      <th id=\"T_a2d3f_level0_row2\" class=\"row_heading level0 row2\" >2</th>\n",
       "      <td id=\"T_a2d3f_row2_col0\" class=\"data row2 col0\" >codigo_tipo_linha</td>\n",
       "      <td id=\"T_a2d3f_row2_col1\" class=\"data row2 col1\" >Código do tipo de linha (internacional)</td>\n",
       "      <td id=\"T_a2d3f_row2_col2\" class=\"data row2 col2\" >str</td>\n",
       "    </tr>\n",
       "    <tr>\n",
       "      <th id=\"T_a2d3f_level0_row3\" class=\"row_heading level0 row3\" >3</th>\n",
       "      <td id=\"T_a2d3f_row3_col0\" class=\"data row3 col0\" >rota</td>\n",
       "      <td id=\"T_a2d3f_row3_col1\" class=\"data row3 col1\" >Origem x Destino</td>\n",
       "      <td id=\"T_a2d3f_row3_col2\" class=\"data row3 col2\" >str</td>\n",
       "    </tr>\n",
       "    <tr>\n",
       "      <th id=\"T_a2d3f_level0_row4\" class=\"row_heading level0 row4\" >4</th>\n",
       "      <td id=\"T_a2d3f_row4_col0\" class=\"data row4 col0\" >periodo_ferias</td>\n",
       "      <td id=\"T_a2d3f_row4_col1\" class=\"data row4 col1\" >Contém o mês condizente a um período de férias (Janeiro, Julho ou Dezembro)</td>\n",
       "      <td id=\"T_a2d3f_row4_col2\" class=\"data row4 col2\" >str</td>\n",
       "    </tr>\n",
       "    <tr>\n",
       "      <th id=\"T_a2d3f_level0_row5\" class=\"row_heading level0 row5\" >5</th>\n",
       "      <td id=\"T_a2d3f_row5_col0\" class=\"data row5 col0\" >aeroporto_origem</td>\n",
       "      <td id=\"T_a2d3f_row5_col1\" class=\"data row5 col1\" >Código do aeroporto de origem</td>\n",
       "      <td id=\"T_a2d3f_row5_col2\" class=\"data row5 col2\" >str</td>\n",
       "    </tr>\n",
       "    <tr>\n",
       "      <th id=\"T_a2d3f_level0_row6\" class=\"row_heading level0 row6\" >6</th>\n",
       "      <td id=\"T_a2d3f_row6_col0\" class=\"data row6 col0\" >cidade_origem</td>\n",
       "      <td id=\"T_a2d3f_row6_col1\" class=\"data row6 col1\" >Cidade de origem</td>\n",
       "      <td id=\"T_a2d3f_row6_col2\" class=\"data row6 col2\" >str</td>\n",
       "    </tr>\n",
       "    <tr>\n",
       "      <th id=\"T_a2d3f_level0_row7\" class=\"row_heading level0 row7\" >7</th>\n",
       "      <td id=\"T_a2d3f_row7_col0\" class=\"data row7 col0\" >estado_origem</td>\n",
       "      <td id=\"T_a2d3f_row7_col1\" class=\"data row7 col1\" >Estado de origem</td>\n",
       "      <td id=\"T_a2d3f_row7_col2\" class=\"data row7 col2\" >str</td>\n",
       "    </tr>\n",
       "    <tr>\n",
       "      <th id=\"T_a2d3f_level0_row8\" class=\"row_heading level0 row8\" >8</th>\n",
       "      <td id=\"T_a2d3f_row8_col0\" class=\"data row8 col0\" >pais_origem</td>\n",
       "      <td id=\"T_a2d3f_row8_col1\" class=\"data row8 col1\" >País de origem</td>\n",
       "      <td id=\"T_a2d3f_row8_col2\" class=\"data row8 col2\" >str</td>\n",
       "    </tr>\n",
       "    <tr>\n",
       "      <th id=\"T_a2d3f_level0_row9\" class=\"row_heading level0 row9\" >9</th>\n",
       "      <td id=\"T_a2d3f_row9_col0\" class=\"data row9 col0\" >lat_orig</td>\n",
       "      <td id=\"T_a2d3f_row9_col1\" class=\"data row9 col1\" >Latitude do aeroporto de origem</td>\n",
       "      <td id=\"T_a2d3f_row9_col2\" class=\"data row9 col2\" >float</td>\n",
       "    </tr>\n",
       "    <tr>\n",
       "      <th id=\"T_a2d3f_level0_row10\" class=\"row_heading level0 row10\" >10</th>\n",
       "      <td id=\"T_a2d3f_row10_col0\" class=\"data row10 col0\" >long_orig</td>\n",
       "      <td id=\"T_a2d3f_row10_col1\" class=\"data row10 col1\" >Longitude do aeroporto de origem</td>\n",
       "      <td id=\"T_a2d3f_row10_col2\" class=\"data row10 col2\" >float</td>\n",
       "    </tr>\n",
       "    <tr>\n",
       "      <th id=\"T_a2d3f_level0_row11\" class=\"row_heading level0 row11\" >11</th>\n",
       "      <td id=\"T_a2d3f_row11_col0\" class=\"data row11 col0\" >partida_prevista</td>\n",
       "      <td id=\"T_a2d3f_row11_col1\" class=\"data row11 col1\" >Horário previsto de partida</td>\n",
       "      <td id=\"T_a2d3f_row11_col2\" class=\"data row11 col2\" >datetime</td>\n",
       "    </tr>\n",
       "    <tr>\n",
       "      <th id=\"T_a2d3f_level0_row12\" class=\"row_heading level0 row12\" >12</th>\n",
       "      <td id=\"T_a2d3f_row12_col0\" class=\"data row12 col0\" >partida_real</td>\n",
       "      <td id=\"T_a2d3f_row12_col1\" class=\"data row12 col1\" >Horário real de partida</td>\n",
       "      <td id=\"T_a2d3f_row12_col2\" class=\"data row12 col2\" >datetime</td>\n",
       "    </tr>\n",
       "    <tr>\n",
       "      <th id=\"T_a2d3f_level0_row13\" class=\"row_heading level0 row13\" >13</th>\n",
       "      <td id=\"T_a2d3f_row13_col0\" class=\"data row13 col0\" >partida_atrasou</td>\n",
       "      <td id=\"T_a2d3f_row13_col1\" class=\"data row13 col1\" >Houve atraso na partida do voo?</td>\n",
       "      <td id=\"T_a2d3f_row13_col2\" class=\"data row13 col2\" >bool</td>\n",
       "    </tr>\n",
       "    <tr>\n",
       "      <th id=\"T_a2d3f_level0_row14\" class=\"row_heading level0 row14\" >14</th>\n",
       "      <td id=\"T_a2d3f_row14_col0\" class=\"data row14 col0\" >aeroporto_destino</td>\n",
       "      <td id=\"T_a2d3f_row14_col1\" class=\"data row14 col1\" >Código do aeroporto de destino</td>\n",
       "      <td id=\"T_a2d3f_row14_col2\" class=\"data row14 col2\" >str</td>\n",
       "    </tr>\n",
       "    <tr>\n",
       "      <th id=\"T_a2d3f_level0_row15\" class=\"row_heading level0 row15\" >15</th>\n",
       "      <td id=\"T_a2d3f_row15_col0\" class=\"data row15 col0\" >cidade_destino</td>\n",
       "      <td id=\"T_a2d3f_row15_col1\" class=\"data row15 col1\" >Cidade de destino</td>\n",
       "      <td id=\"T_a2d3f_row15_col2\" class=\"data row15 col2\" >str</td>\n",
       "    </tr>\n",
       "    <tr>\n",
       "      <th id=\"T_a2d3f_level0_row16\" class=\"row_heading level0 row16\" >16</th>\n",
       "      <td id=\"T_a2d3f_row16_col0\" class=\"data row16 col0\" >estado_destino</td>\n",
       "      <td id=\"T_a2d3f_row16_col1\" class=\"data row16 col1\" >Estado de destino</td>\n",
       "      <td id=\"T_a2d3f_row16_col2\" class=\"data row16 col2\" >str</td>\n",
       "    </tr>\n",
       "    <tr>\n",
       "      <th id=\"T_a2d3f_level0_row17\" class=\"row_heading level0 row17\" >17</th>\n",
       "      <td id=\"T_a2d3f_row17_col0\" class=\"data row17 col0\" >pais_destino</td>\n",
       "      <td id=\"T_a2d3f_row17_col1\" class=\"data row17 col1\" >País de destino</td>\n",
       "      <td id=\"T_a2d3f_row17_col2\" class=\"data row17 col2\" >str</td>\n",
       "    </tr>\n",
       "    <tr>\n",
       "      <th id=\"T_a2d3f_level0_row18\" class=\"row_heading level0 row18\" >18</th>\n",
       "      <td id=\"T_a2d3f_row18_col0\" class=\"data row18 col0\" >lat_dest</td>\n",
       "      <td id=\"T_a2d3f_row18_col1\" class=\"data row18 col1\" >Latitude do aeroporto de destino</td>\n",
       "      <td id=\"T_a2d3f_row18_col2\" class=\"data row18 col2\" >float</td>\n",
       "    </tr>\n",
       "    <tr>\n",
       "      <th id=\"T_a2d3f_level0_row19\" class=\"row_heading level0 row19\" >19</th>\n",
       "      <td id=\"T_a2d3f_row19_col0\" class=\"data row19 col0\" >long_dest</td>\n",
       "      <td id=\"T_a2d3f_row19_col1\" class=\"data row19 col1\" >Longitude do aeroporto de destino</td>\n",
       "      <td id=\"T_a2d3f_row19_col2\" class=\"data row19 col2\" >float</td>\n",
       "    </tr>\n",
       "    <tr>\n",
       "      <th id=\"T_a2d3f_level0_row20\" class=\"row_heading level0 row20\" >20</th>\n",
       "      <td id=\"T_a2d3f_row20_col0\" class=\"data row20 col0\" >chegada_prevista</td>\n",
       "      <td id=\"T_a2d3f_row20_col1\" class=\"data row20 col1\" >Horário previsto de chegada</td>\n",
       "      <td id=\"T_a2d3f_row20_col2\" class=\"data row20 col2\" >datetime</td>\n",
       "    </tr>\n",
       "    <tr>\n",
       "      <th id=\"T_a2d3f_level0_row21\" class=\"row_heading level0 row21\" >21</th>\n",
       "      <td id=\"T_a2d3f_row21_col0\" class=\"data row21 col0\" >chegada_real</td>\n",
       "      <td id=\"T_a2d3f_row21_col1\" class=\"data row21 col1\" >Horário real de chegada</td>\n",
       "      <td id=\"T_a2d3f_row21_col2\" class=\"data row21 col2\" >datetime</td>\n",
       "    </tr>\n",
       "    <tr>\n",
       "      <th id=\"T_a2d3f_level0_row22\" class=\"row_heading level0 row22\" >22</th>\n",
       "      <td id=\"T_a2d3f_row22_col0\" class=\"data row22 col0\" >chegada_atrasou</td>\n",
       "      <td id=\"T_a2d3f_row22_col1\" class=\"data row22 col1\" >Houve atraso na chegada do voo?</td>\n",
       "      <td id=\"T_a2d3f_row22_col2\" class=\"data row22 col2\" >bool</td>\n",
       "    </tr>\n",
       "    <tr>\n",
       "      <th id=\"T_a2d3f_level0_row23\" class=\"row_heading level0 row23\" >23</th>\n",
       "      <td id=\"T_a2d3f_row23_col0\" class=\"data row23 col0\" >distancia_km</td>\n",
       "      <td id=\"T_a2d3f_row23_col1\" class=\"data row23 col1\" >Total em quilômetros entre o local de origem e destino</td>\n",
       "      <td id=\"T_a2d3f_row23_col2\" class=\"data row23 col2\" >float</td>\n",
       "    </tr>\n",
       "    <tr>\n",
       "      <th id=\"T_a2d3f_level0_row24\" class=\"row_heading level0 row24\" >24</th>\n",
       "      <td id=\"T_a2d3f_row24_col0\" class=\"data row24 col0\" >situacao_voo</td>\n",
       "      <td id=\"T_a2d3f_row24_col1\" class=\"data row24 col1\" >Situação do voo (realizado, cancelado, etc)</td>\n",
       "      <td id=\"T_a2d3f_row24_col2\" class=\"data row24 col2\" >str</td>\n",
       "    </tr>\n",
       "    <tr>\n",
       "      <th id=\"T_a2d3f_level0_row25\" class=\"row_heading level0 row25\" >25</th>\n",
       "      <td id=\"T_a2d3f_row25_col0\" class=\"data row25 col0\" >justificativa_atraso</td>\n",
       "      <td id=\"T_a2d3f_row25_col1\" class=\"data row25 col1\" >Informação e correlata à justificativa no atraso do voo</td>\n",
       "      <td id=\"T_a2d3f_row25_col2\" class=\"data row25 col2\" >str</td>\n",
       "    </tr>\n",
       "    <tr>\n",
       "      <th id=\"T_a2d3f_level0_row26\" class=\"row_heading level0 row26\" >26</th>\n",
       "      <td id=\"T_a2d3f_row26_col0\" class=\"data row26 col0\" >justificativa_cancelamento</td>\n",
       "      <td id=\"T_a2d3f_row26_col1\" class=\"data row26 col1\" >Informação e correlata à justificativa do cancelamento do voo</td>\n",
       "      <td id=\"T_a2d3f_row26_col2\" class=\"data row26 col2\" >str</td>\n",
       "    </tr>\n",
       "  </tbody>\n",
       "</table>\n"
      ],
      "text/plain": [
       "<pandas.io.formats.style.Styler at 0x226694ded50>"
      ]
     },
     "execution_count": 16,
     "metadata": {},
     "output_type": "execute_result"
    }
   ],
   "source": [
    "columns = ['NomeColuna', 'DescricaoColuna', 'TipoColuna']\n",
    "values = [[value, Utils.descricao_coluna(value), Utils.tipo_coluna(\n",
    "    value).__name__] for value in AnacVoos.dados.columns]\n",
    "\n",
    "pd.DataFrame(data=values, columns=columns).style.set_table_styles([\n",
    "    dict(selector='th', props=[('text-align', 'center')]),\n",
    "    dict(selector='td', props=[('text-align', 'center')])\n",
    "])"
   ]
  },
  {
   "attachments": {},
   "cell_type": "markdown",
   "metadata": {},
   "source": [
    "# 3. Análise dos Dados"
   ]
  },
  {
   "attachments": {},
   "cell_type": "markdown",
   "metadata": {},
   "source": [
    "## 3.1. Qual destino mais procurado nas férias?\n",
    "Iremos analisar os principais destinos internacionais e nacionais e os períodos de julho, dezembro e janeiro."
   ]
  },
  {
   "cell_type": "code",
   "execution_count": 27,
   "metadata": {},
   "outputs": [],
   "source": [
    "#Dataframe\n",
    "voos_ferias = AnacVoos.dados[AnacVoos.dados['periodo_ferias'] != '']\n",
    "nacionais = voos_ferias[voos_ferias['codigo_tipo_linha'].isin(['Nacional', 'Regional'])]\n",
    "periodos = voos_ferias['periodo_ferias'].unique()"
   ]
  },
  {
   "attachments": {},
   "cell_type": "markdown",
   "metadata": {},
   "source": [
    "### 3.1.1 Principais destinos nacionais julho, dezembro e janeiro"
   ]
  },
  {
   "cell_type": "code",
   "execution_count": 28,
   "metadata": {},
   "outputs": [
    {
     "name": "stdout",
     "output_type": "stream",
     "text": [
      "10 Destinos nacionais mais procurados no período de janeiro:\n"
     ]
    },
    {
     "data": {
      "text/html": [
       "<div>\n",
       "<style scoped>\n",
       "    .dataframe tbody tr th:only-of-type {\n",
       "        vertical-align: middle;\n",
       "    }\n",
       "\n",
       "    .dataframe tbody tr th {\n",
       "        vertical-align: top;\n",
       "    }\n",
       "\n",
       "    .dataframe thead th {\n",
       "        text-align: right;\n",
       "    }\n",
       "</style>\n",
       "<table border=\"1\" class=\"dataframe\">\n",
       "  <thead>\n",
       "    <tr style=\"text-align: right;\">\n",
       "      <th></th>\n",
       "      <th>periodo_ferias</th>\n",
       "      <th>aeroporto_destino</th>\n",
       "      <th>voos</th>\n",
       "    </tr>\n",
       "  </thead>\n",
       "  <tbody>\n",
       "    <tr>\n",
       "      <th>0</th>\n",
       "      <td>janeiro</td>\n",
       "      <td>Guarulhos - Governador Andre Franco Montoro</td>\n",
       "      <td>21190</td>\n",
       "    </tr>\n",
       "    <tr>\n",
       "      <th>1</th>\n",
       "      <td>janeiro</td>\n",
       "      <td>Presidente Juscelino Kubitschek</td>\n",
       "      <td>15706</td>\n",
       "    </tr>\n",
       "    <tr>\n",
       "      <th>2</th>\n",
       "      <td>janeiro</td>\n",
       "      <td>Viracopos</td>\n",
       "      <td>13588</td>\n",
       "    </tr>\n",
       "    <tr>\n",
       "      <th>3</th>\n",
       "      <td>janeiro</td>\n",
       "      <td>Congonhas</td>\n",
       "      <td>11927</td>\n",
       "    </tr>\n",
       "    <tr>\n",
       "      <th>4</th>\n",
       "      <td>janeiro</td>\n",
       "      <td>Aeroporto Internacional Do Rio De Janeiro/Galeao</td>\n",
       "      <td>11406</td>\n",
       "    </tr>\n",
       "    <tr>\n",
       "      <th>5</th>\n",
       "      <td>janeiro</td>\n",
       "      <td>Tancredo Neves</td>\n",
       "      <td>11218</td>\n",
       "    </tr>\n",
       "    <tr>\n",
       "      <th>6</th>\n",
       "      <td>janeiro</td>\n",
       "      <td>Santos Dumont</td>\n",
       "      <td>8335</td>\n",
       "    </tr>\n",
       "    <tr>\n",
       "      <th>7</th>\n",
       "      <td>janeiro</td>\n",
       "      <td>Deputado Luis Eduardo Magalhaes</td>\n",
       "      <td>8207</td>\n",
       "    </tr>\n",
       "    <tr>\n",
       "      <th>8</th>\n",
       "      <td>janeiro</td>\n",
       "      <td>Afonso Pena</td>\n",
       "      <td>7394</td>\n",
       "    </tr>\n",
       "    <tr>\n",
       "      <th>9</th>\n",
       "      <td>janeiro</td>\n",
       "      <td>Salgado Filho</td>\n",
       "      <td>7226</td>\n",
       "    </tr>\n",
       "  </tbody>\n",
       "</table>\n",
       "</div>"
      ],
      "text/plain": [
       "  periodo_ferias                                 aeroporto_destino   voos\n",
       "0        janeiro       Guarulhos - Governador Andre Franco Montoro  21190\n",
       "1        janeiro                   Presidente Juscelino Kubitschek  15706\n",
       "2        janeiro                                         Viracopos  13588\n",
       "3        janeiro                                         Congonhas  11927\n",
       "4        janeiro  Aeroporto Internacional Do Rio De Janeiro/Galeao  11406\n",
       "5        janeiro                                    Tancredo Neves  11218\n",
       "6        janeiro                                     Santos Dumont   8335\n",
       "7        janeiro                   Deputado Luis Eduardo Magalhaes   8207\n",
       "8        janeiro                                       Afonso Pena   7394\n",
       "9        janeiro                                     Salgado Filho   7226"
      ]
     },
     "metadata": {},
     "output_type": "display_data"
    },
    {
     "name": "stdout",
     "output_type": "stream",
     "text": [
      "\n",
      "10 Destinos nacionais mais procurados no período de julho:\n"
     ]
    },
    {
     "data": {
      "text/html": [
       "<div>\n",
       "<style scoped>\n",
       "    .dataframe tbody tr th:only-of-type {\n",
       "        vertical-align: middle;\n",
       "    }\n",
       "\n",
       "    .dataframe tbody tr th {\n",
       "        vertical-align: top;\n",
       "    }\n",
       "\n",
       "    .dataframe thead th {\n",
       "        text-align: right;\n",
       "    }\n",
       "</style>\n",
       "<table border=\"1\" class=\"dataframe\">\n",
       "  <thead>\n",
       "    <tr style=\"text-align: right;\">\n",
       "      <th></th>\n",
       "      <th>periodo_ferias</th>\n",
       "      <th>aeroporto_destino</th>\n",
       "      <th>voos</th>\n",
       "    </tr>\n",
       "  </thead>\n",
       "  <tbody>\n",
       "    <tr>\n",
       "      <th>0</th>\n",
       "      <td>julho</td>\n",
       "      <td>Guarulhos - Governador Andre Franco Montoro</td>\n",
       "      <td>19207</td>\n",
       "    </tr>\n",
       "    <tr>\n",
       "      <th>1</th>\n",
       "      <td>julho</td>\n",
       "      <td>Presidente Juscelino Kubitschek</td>\n",
       "      <td>14060</td>\n",
       "    </tr>\n",
       "    <tr>\n",
       "      <th>2</th>\n",
       "      <td>julho</td>\n",
       "      <td>Viracopos</td>\n",
       "      <td>12486</td>\n",
       "    </tr>\n",
       "    <tr>\n",
       "      <th>3</th>\n",
       "      <td>julho</td>\n",
       "      <td>Congonhas</td>\n",
       "      <td>12178</td>\n",
       "    </tr>\n",
       "    <tr>\n",
       "      <th>4</th>\n",
       "      <td>julho</td>\n",
       "      <td>Aeroporto Internacional Do Rio De Janeiro/Galeao</td>\n",
       "      <td>10411</td>\n",
       "    </tr>\n",
       "    <tr>\n",
       "      <th>5</th>\n",
       "      <td>julho</td>\n",
       "      <td>Tancredo Neves</td>\n",
       "      <td>10083</td>\n",
       "    </tr>\n",
       "    <tr>\n",
       "      <th>6</th>\n",
       "      <td>julho</td>\n",
       "      <td>Santos Dumont</td>\n",
       "      <td>7986</td>\n",
       "    </tr>\n",
       "    <tr>\n",
       "      <th>7</th>\n",
       "      <td>julho</td>\n",
       "      <td>Salgado Filho</td>\n",
       "      <td>6914</td>\n",
       "    </tr>\n",
       "    <tr>\n",
       "      <th>8</th>\n",
       "      <td>julho</td>\n",
       "      <td>Guararapes - Gilberto Freyre</td>\n",
       "      <td>6778</td>\n",
       "    </tr>\n",
       "    <tr>\n",
       "      <th>9</th>\n",
       "      <td>julho</td>\n",
       "      <td>Deputado Luis Eduardo Magalhaes</td>\n",
       "      <td>6774</td>\n",
       "    </tr>\n",
       "  </tbody>\n",
       "</table>\n",
       "</div>"
      ],
      "text/plain": [
       "  periodo_ferias                                 aeroporto_destino   voos\n",
       "0          julho       Guarulhos - Governador Andre Franco Montoro  19207\n",
       "1          julho                   Presidente Juscelino Kubitschek  14060\n",
       "2          julho                                         Viracopos  12486\n",
       "3          julho                                         Congonhas  12178\n",
       "4          julho  Aeroporto Internacional Do Rio De Janeiro/Galeao  10411\n",
       "5          julho                                    Tancredo Neves  10083\n",
       "6          julho                                     Santos Dumont   7986\n",
       "7          julho                                     Salgado Filho   6914\n",
       "8          julho                      Guararapes - Gilberto Freyre   6778\n",
       "9          julho                   Deputado Luis Eduardo Magalhaes   6774"
      ]
     },
     "metadata": {},
     "output_type": "display_data"
    },
    {
     "name": "stdout",
     "output_type": "stream",
     "text": [
      "\n",
      "10 Destinos nacionais mais procurados no período de dezembro:\n"
     ]
    },
    {
     "data": {
      "text/html": [
       "<div>\n",
       "<style scoped>\n",
       "    .dataframe tbody tr th:only-of-type {\n",
       "        vertical-align: middle;\n",
       "    }\n",
       "\n",
       "    .dataframe tbody tr th {\n",
       "        vertical-align: top;\n",
       "    }\n",
       "\n",
       "    .dataframe thead th {\n",
       "        text-align: right;\n",
       "    }\n",
       "</style>\n",
       "<table border=\"1\" class=\"dataframe\">\n",
       "  <thead>\n",
       "    <tr style=\"text-align: right;\">\n",
       "      <th></th>\n",
       "      <th>periodo_ferias</th>\n",
       "      <th>aeroporto_destino</th>\n",
       "      <th>voos</th>\n",
       "    </tr>\n",
       "  </thead>\n",
       "  <tbody>\n",
       "    <tr>\n",
       "      <th>0</th>\n",
       "      <td>dezembro</td>\n",
       "      <td>Guarulhos - Governador Andre Franco Montoro</td>\n",
       "      <td>13667</td>\n",
       "    </tr>\n",
       "    <tr>\n",
       "      <th>1</th>\n",
       "      <td>dezembro</td>\n",
       "      <td>Presidente Juscelino Kubitschek</td>\n",
       "      <td>9928</td>\n",
       "    </tr>\n",
       "    <tr>\n",
       "      <th>2</th>\n",
       "      <td>dezembro</td>\n",
       "      <td>Viracopos</td>\n",
       "      <td>9051</td>\n",
       "    </tr>\n",
       "    <tr>\n",
       "      <th>3</th>\n",
       "      <td>dezembro</td>\n",
       "      <td>Congonhas</td>\n",
       "      <td>8117</td>\n",
       "    </tr>\n",
       "    <tr>\n",
       "      <th>4</th>\n",
       "      <td>dezembro</td>\n",
       "      <td>Tancredo Neves</td>\n",
       "      <td>7500</td>\n",
       "    </tr>\n",
       "    <tr>\n",
       "      <th>5</th>\n",
       "      <td>dezembro</td>\n",
       "      <td>Aeroporto Internacional Do Rio De Janeiro/Galeao</td>\n",
       "      <td>6963</td>\n",
       "    </tr>\n",
       "    <tr>\n",
       "      <th>6</th>\n",
       "      <td>dezembro</td>\n",
       "      <td>Santos Dumont</td>\n",
       "      <td>5519</td>\n",
       "    </tr>\n",
       "    <tr>\n",
       "      <th>7</th>\n",
       "      <td>dezembro</td>\n",
       "      <td>Afonso Pena</td>\n",
       "      <td>4884</td>\n",
       "    </tr>\n",
       "    <tr>\n",
       "      <th>8</th>\n",
       "      <td>dezembro</td>\n",
       "      <td>Deputado Luis Eduardo Magalhaes</td>\n",
       "      <td>4792</td>\n",
       "    </tr>\n",
       "    <tr>\n",
       "      <th>9</th>\n",
       "      <td>dezembro</td>\n",
       "      <td>Salgado Filho</td>\n",
       "      <td>4697</td>\n",
       "    </tr>\n",
       "  </tbody>\n",
       "</table>\n",
       "</div>"
      ],
      "text/plain": [
       "  periodo_ferias                                 aeroporto_destino   voos\n",
       "0       dezembro       Guarulhos - Governador Andre Franco Montoro  13667\n",
       "1       dezembro                   Presidente Juscelino Kubitschek   9928\n",
       "2       dezembro                                         Viracopos   9051\n",
       "3       dezembro                                         Congonhas   8117\n",
       "4       dezembro                                    Tancredo Neves   7500\n",
       "5       dezembro  Aeroporto Internacional Do Rio De Janeiro/Galeao   6963\n",
       "6       dezembro                                     Santos Dumont   5519\n",
       "7       dezembro                                       Afonso Pena   4884\n",
       "8       dezembro                   Deputado Luis Eduardo Magalhaes   4792\n",
       "9       dezembro                                     Salgado Filho   4697"
      ]
     },
     "metadata": {},
     "output_type": "display_data"
    },
    {
     "name": "stdout",
     "output_type": "stream",
     "text": [
      "\n"
     ]
    }
   ],
   "source": [
    "nacionais = voos_ferias[voos_ferias['codigo_tipo_linha'] == 'Nacional']\\\n",
    "    .groupby(['periodo_ferias', 'aeroporto_destino']).size()\\\n",
    "        .reset_index(name='voos')\n",
    "\n",
    "for periodo in periodos:\n",
    "    print(f\"10 Destinos nacionais mais procurados no período de {periodo}:\")\n",
    "    display(nacionais.query(\"periodo_ferias == @periodo\").nlargest(10, 'voos').reset_index(drop=True))\n",
    "    print()"
   ]
  },
  {
   "cell_type": "code",
   "execution_count": null,
   "metadata": {},
   "outputs": [],
   "source": [
    "#Plot"
   ]
  },
  {
   "attachments": {},
   "cell_type": "markdown",
   "metadata": {},
   "source": [
    "### 3.1.2 Principais destinos internacionais julho, dezembro e janeiro."
   ]
  },
  {
   "cell_type": "code",
   "execution_count": 29,
   "metadata": {},
   "outputs": [
    {
     "name": "stdout",
     "output_type": "stream",
     "text": [
      "10 Destinos internacionais mais procurados no período de janeiro:\n"
     ]
    },
    {
     "data": {
      "text/html": [
       "<div>\n",
       "<style scoped>\n",
       "    .dataframe tbody tr th:only-of-type {\n",
       "        vertical-align: middle;\n",
       "    }\n",
       "\n",
       "    .dataframe tbody tr th {\n",
       "        vertical-align: top;\n",
       "    }\n",
       "\n",
       "    .dataframe thead th {\n",
       "        text-align: right;\n",
       "    }\n",
       "</style>\n",
       "<table border=\"1\" class=\"dataframe\">\n",
       "  <thead>\n",
       "    <tr style=\"text-align: right;\">\n",
       "      <th></th>\n",
       "      <th>periodo_ferias</th>\n",
       "      <th>aeroporto_destino</th>\n",
       "      <th>voos</th>\n",
       "    </tr>\n",
       "  </thead>\n",
       "  <tbody>\n",
       "    <tr>\n",
       "      <th>0</th>\n",
       "      <td>janeiro</td>\n",
       "      <td>Guarulhos - Governador Andre Franco Montoro</td>\n",
       "      <td>21190</td>\n",
       "    </tr>\n",
       "    <tr>\n",
       "      <th>1</th>\n",
       "      <td>janeiro</td>\n",
       "      <td>Presidente Juscelino Kubitschek</td>\n",
       "      <td>15706</td>\n",
       "    </tr>\n",
       "    <tr>\n",
       "      <th>2</th>\n",
       "      <td>janeiro</td>\n",
       "      <td>Viracopos</td>\n",
       "      <td>13588</td>\n",
       "    </tr>\n",
       "    <tr>\n",
       "      <th>3</th>\n",
       "      <td>janeiro</td>\n",
       "      <td>Congonhas</td>\n",
       "      <td>11927</td>\n",
       "    </tr>\n",
       "    <tr>\n",
       "      <th>4</th>\n",
       "      <td>janeiro</td>\n",
       "      <td>Aeroporto Internacional Do Rio De Janeiro/Galeao</td>\n",
       "      <td>11406</td>\n",
       "    </tr>\n",
       "    <tr>\n",
       "      <th>5</th>\n",
       "      <td>janeiro</td>\n",
       "      <td>Tancredo Neves</td>\n",
       "      <td>11218</td>\n",
       "    </tr>\n",
       "    <tr>\n",
       "      <th>6</th>\n",
       "      <td>janeiro</td>\n",
       "      <td>Santos Dumont</td>\n",
       "      <td>8335</td>\n",
       "    </tr>\n",
       "    <tr>\n",
       "      <th>7</th>\n",
       "      <td>janeiro</td>\n",
       "      <td>Deputado Luis Eduardo Magalhaes</td>\n",
       "      <td>8207</td>\n",
       "    </tr>\n",
       "    <tr>\n",
       "      <th>8</th>\n",
       "      <td>janeiro</td>\n",
       "      <td>Afonso Pena</td>\n",
       "      <td>7394</td>\n",
       "    </tr>\n",
       "    <tr>\n",
       "      <th>9</th>\n",
       "      <td>janeiro</td>\n",
       "      <td>Salgado Filho</td>\n",
       "      <td>7226</td>\n",
       "    </tr>\n",
       "  </tbody>\n",
       "</table>\n",
       "</div>"
      ],
      "text/plain": [
       "  periodo_ferias                                 aeroporto_destino   voos\n",
       "0        janeiro       Guarulhos - Governador Andre Franco Montoro  21190\n",
       "1        janeiro                   Presidente Juscelino Kubitschek  15706\n",
       "2        janeiro                                         Viracopos  13588\n",
       "3        janeiro                                         Congonhas  11927\n",
       "4        janeiro  Aeroporto Internacional Do Rio De Janeiro/Galeao  11406\n",
       "5        janeiro                                    Tancredo Neves  11218\n",
       "6        janeiro                                     Santos Dumont   8335\n",
       "7        janeiro                   Deputado Luis Eduardo Magalhaes   8207\n",
       "8        janeiro                                       Afonso Pena   7394\n",
       "9        janeiro                                     Salgado Filho   7226"
      ]
     },
     "metadata": {},
     "output_type": "display_data"
    },
    {
     "name": "stdout",
     "output_type": "stream",
     "text": [
      "\n",
      "10 Destinos internacionais mais procurados no período de julho:\n"
     ]
    },
    {
     "data": {
      "text/html": [
       "<div>\n",
       "<style scoped>\n",
       "    .dataframe tbody tr th:only-of-type {\n",
       "        vertical-align: middle;\n",
       "    }\n",
       "\n",
       "    .dataframe tbody tr th {\n",
       "        vertical-align: top;\n",
       "    }\n",
       "\n",
       "    .dataframe thead th {\n",
       "        text-align: right;\n",
       "    }\n",
       "</style>\n",
       "<table border=\"1\" class=\"dataframe\">\n",
       "  <thead>\n",
       "    <tr style=\"text-align: right;\">\n",
       "      <th></th>\n",
       "      <th>periodo_ferias</th>\n",
       "      <th>aeroporto_destino</th>\n",
       "      <th>voos</th>\n",
       "    </tr>\n",
       "  </thead>\n",
       "  <tbody>\n",
       "    <tr>\n",
       "      <th>0</th>\n",
       "      <td>julho</td>\n",
       "      <td>Guarulhos - Governador Andre Franco Montoro</td>\n",
       "      <td>19207</td>\n",
       "    </tr>\n",
       "    <tr>\n",
       "      <th>1</th>\n",
       "      <td>julho</td>\n",
       "      <td>Presidente Juscelino Kubitschek</td>\n",
       "      <td>14060</td>\n",
       "    </tr>\n",
       "    <tr>\n",
       "      <th>2</th>\n",
       "      <td>julho</td>\n",
       "      <td>Viracopos</td>\n",
       "      <td>12486</td>\n",
       "    </tr>\n",
       "    <tr>\n",
       "      <th>3</th>\n",
       "      <td>julho</td>\n",
       "      <td>Congonhas</td>\n",
       "      <td>12178</td>\n",
       "    </tr>\n",
       "    <tr>\n",
       "      <th>4</th>\n",
       "      <td>julho</td>\n",
       "      <td>Aeroporto Internacional Do Rio De Janeiro/Galeao</td>\n",
       "      <td>10411</td>\n",
       "    </tr>\n",
       "    <tr>\n",
       "      <th>5</th>\n",
       "      <td>julho</td>\n",
       "      <td>Tancredo Neves</td>\n",
       "      <td>10083</td>\n",
       "    </tr>\n",
       "    <tr>\n",
       "      <th>6</th>\n",
       "      <td>julho</td>\n",
       "      <td>Santos Dumont</td>\n",
       "      <td>7986</td>\n",
       "    </tr>\n",
       "    <tr>\n",
       "      <th>7</th>\n",
       "      <td>julho</td>\n",
       "      <td>Salgado Filho</td>\n",
       "      <td>6914</td>\n",
       "    </tr>\n",
       "    <tr>\n",
       "      <th>8</th>\n",
       "      <td>julho</td>\n",
       "      <td>Guararapes - Gilberto Freyre</td>\n",
       "      <td>6778</td>\n",
       "    </tr>\n",
       "    <tr>\n",
       "      <th>9</th>\n",
       "      <td>julho</td>\n",
       "      <td>Deputado Luis Eduardo Magalhaes</td>\n",
       "      <td>6774</td>\n",
       "    </tr>\n",
       "  </tbody>\n",
       "</table>\n",
       "</div>"
      ],
      "text/plain": [
       "  periodo_ferias                                 aeroporto_destino   voos\n",
       "0          julho       Guarulhos - Governador Andre Franco Montoro  19207\n",
       "1          julho                   Presidente Juscelino Kubitschek  14060\n",
       "2          julho                                         Viracopos  12486\n",
       "3          julho                                         Congonhas  12178\n",
       "4          julho  Aeroporto Internacional Do Rio De Janeiro/Galeao  10411\n",
       "5          julho                                    Tancredo Neves  10083\n",
       "6          julho                                     Santos Dumont   7986\n",
       "7          julho                                     Salgado Filho   6914\n",
       "8          julho                      Guararapes - Gilberto Freyre   6778\n",
       "9          julho                   Deputado Luis Eduardo Magalhaes   6774"
      ]
     },
     "metadata": {},
     "output_type": "display_data"
    },
    {
     "name": "stdout",
     "output_type": "stream",
     "text": [
      "\n",
      "10 Destinos internacionais mais procurados no período de dezembro:\n"
     ]
    },
    {
     "data": {
      "text/html": [
       "<div>\n",
       "<style scoped>\n",
       "    .dataframe tbody tr th:only-of-type {\n",
       "        vertical-align: middle;\n",
       "    }\n",
       "\n",
       "    .dataframe tbody tr th {\n",
       "        vertical-align: top;\n",
       "    }\n",
       "\n",
       "    .dataframe thead th {\n",
       "        text-align: right;\n",
       "    }\n",
       "</style>\n",
       "<table border=\"1\" class=\"dataframe\">\n",
       "  <thead>\n",
       "    <tr style=\"text-align: right;\">\n",
       "      <th></th>\n",
       "      <th>periodo_ferias</th>\n",
       "      <th>aeroporto_destino</th>\n",
       "      <th>voos</th>\n",
       "    </tr>\n",
       "  </thead>\n",
       "  <tbody>\n",
       "    <tr>\n",
       "      <th>0</th>\n",
       "      <td>dezembro</td>\n",
       "      <td>Guarulhos - Governador Andre Franco Montoro</td>\n",
       "      <td>13667</td>\n",
       "    </tr>\n",
       "    <tr>\n",
       "      <th>1</th>\n",
       "      <td>dezembro</td>\n",
       "      <td>Presidente Juscelino Kubitschek</td>\n",
       "      <td>9928</td>\n",
       "    </tr>\n",
       "    <tr>\n",
       "      <th>2</th>\n",
       "      <td>dezembro</td>\n",
       "      <td>Viracopos</td>\n",
       "      <td>9051</td>\n",
       "    </tr>\n",
       "    <tr>\n",
       "      <th>3</th>\n",
       "      <td>dezembro</td>\n",
       "      <td>Congonhas</td>\n",
       "      <td>8117</td>\n",
       "    </tr>\n",
       "    <tr>\n",
       "      <th>4</th>\n",
       "      <td>dezembro</td>\n",
       "      <td>Tancredo Neves</td>\n",
       "      <td>7500</td>\n",
       "    </tr>\n",
       "    <tr>\n",
       "      <th>5</th>\n",
       "      <td>dezembro</td>\n",
       "      <td>Aeroporto Internacional Do Rio De Janeiro/Galeao</td>\n",
       "      <td>6963</td>\n",
       "    </tr>\n",
       "    <tr>\n",
       "      <th>6</th>\n",
       "      <td>dezembro</td>\n",
       "      <td>Santos Dumont</td>\n",
       "      <td>5519</td>\n",
       "    </tr>\n",
       "    <tr>\n",
       "      <th>7</th>\n",
       "      <td>dezembro</td>\n",
       "      <td>Afonso Pena</td>\n",
       "      <td>4884</td>\n",
       "    </tr>\n",
       "    <tr>\n",
       "      <th>8</th>\n",
       "      <td>dezembro</td>\n",
       "      <td>Deputado Luis Eduardo Magalhaes</td>\n",
       "      <td>4792</td>\n",
       "    </tr>\n",
       "    <tr>\n",
       "      <th>9</th>\n",
       "      <td>dezembro</td>\n",
       "      <td>Salgado Filho</td>\n",
       "      <td>4697</td>\n",
       "    </tr>\n",
       "  </tbody>\n",
       "</table>\n",
       "</div>"
      ],
      "text/plain": [
       "  periodo_ferias                                 aeroporto_destino   voos\n",
       "0       dezembro       Guarulhos - Governador Andre Franco Montoro  13667\n",
       "1       dezembro                   Presidente Juscelino Kubitschek   9928\n",
       "2       dezembro                                         Viracopos   9051\n",
       "3       dezembro                                         Congonhas   8117\n",
       "4       dezembro                                    Tancredo Neves   7500\n",
       "5       dezembro  Aeroporto Internacional Do Rio De Janeiro/Galeao   6963\n",
       "6       dezembro                                     Santos Dumont   5519\n",
       "7       dezembro                                       Afonso Pena   4884\n",
       "8       dezembro                   Deputado Luis Eduardo Magalhaes   4792\n",
       "9       dezembro                                     Salgado Filho   4697"
      ]
     },
     "metadata": {},
     "output_type": "display_data"
    },
    {
     "name": "stdout",
     "output_type": "stream",
     "text": [
      "\n"
     ]
    }
   ],
   "source": [
    "#Dataframe\n",
    "internacionais = voos_ferias[voos_ferias['codigo_tipo_linha'] == 'Internacional']\\\n",
    "    .groupby(['periodo_ferias', 'aeroporto_destino']).size()\\\n",
    "        .reset_index(name='voos')\n",
    "\n",
    "for periodo in periodos:\n",
    "    print(f\"10 Destinos internacionais mais procurados no período de {periodo}:\")\n",
    "    display(nacionais.query(\"periodo_ferias == @periodo\").nlargest(10, 'voos').reset_index(drop=True))\n",
    "    print()"
   ]
  },
  {
   "cell_type": "code",
   "execution_count": null,
   "metadata": {},
   "outputs": [],
   "source": [
    "#Plot"
   ]
  },
  {
   "attachments": {},
   "cell_type": "markdown",
   "metadata": {},
   "source": [
    "## 3.2. Como ficam os aeroportos nesses meses?\n",
    "Iremos analisar o aumento de atrasos, vôos cancelados, e os principais motivos, o dia mais provável de ter algum problema com o voo."
   ]
  },
  {
   "attachments": {},
   "cell_type": "markdown",
   "metadata": {},
   "source": [
    "## 3.1. Qual a melhor opção uma viagem nacional ou internacional?\n",
    "Após as análises da questão 02, vamos analisar se existe algum favorecimento de vôos internacionais sobre os nacionais."
   ]
  },
  {
   "attachments": {},
   "cell_type": "markdown",
   "metadata": {},
   "source": [
    "## 3.1. Qual a melhor rota?\n",
    "Aqui faremos o DE-PARA entre os  aeroporto origem/destino, para os principais destinos, levantados na pergunta 01."
   ]
  },
  {
   "attachments": {},
   "cell_type": "markdown",
   "metadata": {},
   "source": [
    "## 3.1. Qual melhor dia da semana para pegar um vôo?\n",
    "Iremos cruzar as informações de cancelamentos e atrasados com os dias da semana e verificar qual o dia tem uma menor probabilidade de ter algum problema."
   ]
  }
 ],
 "metadata": {
  "kernelspec": {
   "display_name": "Python 3",
   "language": "python",
   "name": "python3"
  },
  "language_info": {
   "codemirror_mode": {
    "name": "ipython",
    "version": 3
   },
   "file_extension": ".py",
   "mimetype": "text/x-python",
   "name": "python",
   "nbconvert_exporter": "python",
   "pygments_lexer": "ipython3",
   "version": "3.11.2"
  },
  "orig_nbformat": 4
 },
 "nbformat": 4,
 "nbformat_minor": 2
}
