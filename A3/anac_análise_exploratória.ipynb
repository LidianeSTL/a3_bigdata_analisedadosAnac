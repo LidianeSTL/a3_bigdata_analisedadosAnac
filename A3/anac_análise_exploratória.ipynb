{
 "cells": [
  {
   "attachments": {},
   "cell_type": "markdown",
   "metadata": {},
   "source": [
    "# Análise de Dados Exploratória da ANAC\n",
    "\n",
    "![ANAC](imgs/anac-logo.png \"Logo ANAC\")"
   ]
  },
  {
   "attachments": {},
   "cell_type": "markdown",
   "metadata": {},
   "source": [
    "# 1. Introdução\n",
    "\n",
    "Este estudo tem como objetivo analisar um conjunto de dados de voos internacionais registrados pela Agência Nacional de Aviação Civil (ANAC) do Brasil, durante o período de janeiro de 2015 a agosto de 2017. \n",
    "\n",
    "A ANAC é a agência reguladora responsável pela aviação civil no país, e as informações contidas nesses dados são de grande importância para a compreensão da dinâmica da aviação internacional no Brasil, bem como para a tomada de decisões estratégicas no setor. O conjunto de dados inclui informações como o número do voo, nome da companhia aérea, horários de partida e chegada previstos e reais, situação do voo e localização dos aeroportos de origem e destino, entre outros. Esses dados permitem uma análise detalhada das tendências e padrões de voos internacionais no Brasil, bem como a identificação de fatores que possam influenciar o desempenho da aviação internacional no país."
   ]
  },
  {
   "attachments": {},
   "cell_type": "markdown",
   "metadata": {},
   "source": [
    "## 1.1. Objetivos\n",
    "\n",
    "O objetivo deste estudo é realizar uma Análise Exploratória dos Dados (Exploratory Data Analysis - EDA) do conjunto de dados disposto em [bases/](bases/), e analisar dados de voos internacionais rastreados pela ANAC.\n",
    "\n",
    "Com base nas informações disponíveis, pretendemos avaliar o desempenho das companhias aéreas em relação ao cumprimento dos horários previstos de partida e chegada, bem como investigar a frequência de cancelamentos e as justificativas apresentadas para esses casos. \n",
    "\n",
    "Também vamos examinar as rotas mais utilizadas e os destinos mais comuns para os voos internacionais saindo do Brasil, bem como avaliar a pontualidade e a eficiência dos aeroportos de origem e destino. \n",
    "\n",
    "1. [Análise 1](#Análise1)\n",
    "2. [Análise 2](#Análise2)\n",
    "3. [Análise 3](#Análise3)\n",
    "4. [Análise 4](#Análise4)\n"
   ]
  },
  {
   "attachments": {},
   "cell_type": "markdown",
   "metadata": {},
   "source": [
    "# 2. Metodologia\n",
    "\n",
    "Nesta seção será apresentado todo o processo de preparação, organização e limpeza de dados feito no *dataset* que possui os seguintes dados brutos. Ao final desta, apresentaremos os dados padronizados e devidamente tratados:\n",
    "\n",
    "|        Coluna        | Tipo |                         Descrição                         |\n",
    "|:--------------------:|:----:|:---------------------------------------------------------:|\n",
    "|         Voos         |  str |                       Número do voo                       |\n",
    "|    Companhia.Aerea   |  str |                  Nome da companhia aérea                  |\n",
    "|   Codigo.Tipo.Linha  |  str |          Código do tipo de linha (internacional)          |\n",
    "|   Partida.Prevista   |  str |                Horário previsto de partida                |\n",
    "|     Partida.Real     |  str |                  Horário real de partida                  |\n",
    "|   Chegada.Prevista   |  str |                Horário previsto de chegada                |\n",
    "|     Chegada.Real     |  str |                  Horário real de chegada                  |\n",
    "|     Situacao.Voo     |  str |        Situação do voo (realizado, cancelado, etc)        |\n",
    "| Codigo.Justificativa |  str | Código de justificativa (caso o voo tenha sido cancelado) |\n",
    "|   Aeroporto.Origem   |  str |               Código do aeroporto de origem               |\n",
    "|     Cidade.Origem    |  str |                      Cidade de origem                     |\n",
    "|     Estado.Origem    |  str |                      Estado de origem                     |\n",
    "|      Pais.Origem     |  str |                       País de origem                      |\n",
    "|   Aeroporto.Destino  |  str |               Código do aeroporto de destino              |\n",
    "|    Cidade.Destino    |  str |                     Cidade de destino                     |\n",
    "|    Estado.Destino    |  str |                     Estado de destino                     |\n",
    "|     Pais.Destino     |  str |                      País de destino                      |\n",
    "|       LongDest       |  str |             Longitude do aeroporto de destino             |\n",
    "|        LatDest       |  str |              Latitude do aeroporto de destino             |\n",
    "|       LongOrig       |  str |              Longitude do aeroporto de origem             |\n",
    "|        LatOrig       |  str |              Latitude do aeroporto de origem              |\n"
   ]
  },
  {
   "attachments": {},
   "cell_type": "markdown",
   "metadata": {},
   "source": [
    "## 2.1. Configuração do Ambiente"
   ]
  },
  {
   "attachments": {},
   "cell_type": "markdown",
   "metadata": {},
   "source": [
    "### 2.1.1. Bibliotecas e Ferramentas Necessárias (Built-ins)\n",
    "\n",
    "1. ```os```:       Para manipular os arquivos de base e seus respectivos diretórios de forma multiplataforma e eficiente.\n",
    "2. ```re```:       Utilizado em expressões regulares durante o processo de limpeza dos dados.\n",
    "3. ```enum```:     Auxilia nos processos de padronizar e regular algumas convenções do projeto.\n",
    "4. ```datetime```: Auxilia nos processos de padronizar e regular algumas convenções do projeto"
   ]
  },
  {
   "attachments": {},
   "cell_type": "markdown",
   "metadata": {},
   "source": [
    "### 2.1.2. Bibliotecas e Ferramentas Necessárias (pip)\n",
    "\n",
    "1. Pandas: Para manipular e exibir os dados de forma coesa e relata.   \n",
    "    ```pip install pandas```       \n",
    "    ```import pandas as pd```\n",
    "\n",
    "2. JinJa2: Complemento de estilização do Pandas.   \n",
    "    ```pip install Jinja2```\n",
    "\n",
    "3. Matplotlib: Para exibição visual dos dados por meio de gráficos.   \n",
    "    ```pip install matplotlib```   \n",
    "    ```import matplotlib.pyplot as plt```\n",
    "\n",
    "4. DescricaoColuna e DescricaoTipo: São classes estáticas compostar por Enums estabelecidos com base nas convenções de nome das colunas do *dataset*.   \n",
    "   **Utils** possui complementos para tratativas de alguns campos.   \n",
    "    ```from libs.utils import Utils```"
   ]
  },
  {
   "attachments": {},
   "cell_type": "markdown",
   "metadata": {},
   "source": [
    "### 2.1.3. Importações gerais para o projeto"
   ]
  },
  {
   "cell_type": "code",
   "execution_count": 1,
   "metadata": {},
   "outputs": [],
   "source": [
    "import os\n",
    "import re\n",
    "import pandas as pd\n",
    "import numpy as np\n",
    "import matplotlib.pyplot as plt\n",
    "import mplcyberpunk\n",
    "from libs.utils import Utils\n",
    "from IPython.display import display"
   ]
  },
  {
   "attachments": {},
   "cell_type": "markdown",
   "metadata": {},
   "source": [
    "## 2.2. Carregamento da base"
   ]
  },
  {
   "cell_type": "code",
   "execution_count": 2,
   "metadata": {},
   "outputs": [],
   "source": [
    "caminho = os.path.join(\n",
    "            os.path.dirname(\n",
    "                os.path.abspath(\n",
    "                    os.path.join(__name__, '.'))), 'bases')\n",
    "\n",
    "arquivos = [arquivo for arquivo in os.listdir(caminho) if arquivo.endswith(\".csv\")]\n",
    "\n",
    "dataframes = [pd.read_csv(os.path.join(caminho, arquivo)) for arquivo in arquivos]\n",
    "\n",
    "flights_dataframe = pd.concat(dataframes)"
   ]
  },
  {
   "attachments": {},
   "cell_type": "markdown",
   "metadata": {},
   "source": [
    "## 2.3. Organização e Limpeza dos Dados"
   ]
  },
  {
   "attachments": {},
   "cell_type": "markdown",
   "metadata": {},
   "source": [
    "### 2.3.1. Padrozinação dos nomes das colunas"
   ]
  },
  {
   "cell_type": "code",
   "execution_count": 3,
   "metadata": {},
   "outputs": [],
   "source": [
    "nomes_colunas_tratadas = []\n",
    "\n",
    "for coluna in flights_dataframe.columns:\n",
    "    if any(char.isupper() for char in coluna):\n",
    "        if coluna == 'Voos': coluna = 'Num.Voo'\n",
    "        nomes_colunas_tratadas.append('_'.join(word.lower() for word in re.findall('[A-Z][^A-Z]*', coluna)).lower().replace('.', ''))\n",
    "\n",
    "flights_dataframe.columns = nomes_colunas_tratadas"
   ]
  },
  {
   "attachments": {},
   "cell_type": "markdown",
   "metadata": {},
   "source": [
    "### 2.3.2. Padrozinação dos tipos das colunas de data/hora, string e númericos"
   ]
  },
  {
   "cell_type": "code",
   "execution_count": 4,
   "metadata": {},
   "outputs": [],
   "source": [
    "for coluna in flights_dataframe.columns:\n",
    "    tipo = Utils.tipo_coluna(coluna)\n",
    "    if tipo.__name__ == 'datetime': \n",
    "        flights_dataframe = Utils.formatar_colunas_datetime(flights_dataframe, coluna)"
   ]
  },
  {
   "attachments": {},
   "cell_type": "markdown",
   "metadata": {},
   "source": [
    "### 2.3.3. Padrozinação no nome das companhias aérea."
   ]
  },
  {
   "cell_type": "code",
   "execution_count": 5,
   "metadata": {},
   "outputs": [],
   "source": [
    "flights_dataframe['companhia_aerea'] = flights_dataframe.apply(\n",
    "    lambda row: Utils.nome_companhia_aerea_normalizado(\n",
    "        row['companhia_aerea'], \n",
    "        ), axis=1)"
   ]
  },
  {
   "attachments": {},
   "cell_type": "markdown",
   "metadata": {},
   "source": [
    "### 2.3.4. Feature Engineering\n",
    "A engenharia de recursos (*Feature Engineering*) é o processo de usar o conhecimento do domínio para extrair recursos dos dados brutos. Neste estudo serão acrescentadas as seguintes colunas para enriquecer a análise de dados:\n",
    "\n",
    "| Coluna         | Descrição                                                            | Base         |\n",
    "|:--------------:|:--------------------------------------------------------------------:|:--------------:|\n",
    "| partida_atrasou | Houve atraso na partida (S/N)                                       | `partida_prevista - partida_real` |\n",
    "| chegada_atrasou | Houve atraso na chegada (S/N)                                       | `chegada_prevista - chegada_real` |\n",
    "| distancia_km   | Distância total em kms da origem ao destino                          | `lat_long_orig - lat_long_dest` |\n",
    "| justificativa_atraso   | Informação e correlata à justificativa no atraso do voo      | `codigo_justificativa` |\n",
    "| justificativa_cancelamento   | Informação e correlata à justificativa do cancelamento do voo| `codigo_justificativa` |\n"
   ]
  },
  {
   "attachments": {},
   "cell_type": "markdown",
   "metadata": {},
   "source": [
    "#### 2.3.3.1. Atraso na partida"
   ]
  },
  {
   "cell_type": "code",
   "execution_count": 6,
   "metadata": {},
   "outputs": [],
   "source": [
    "flights_dataframe['partida_atrasou'] = flights_dataframe.apply(\n",
    "    lambda row: Utils.validar_atraso(\n",
    "        row['situacao_voo'], \n",
    "        row['partida_prevista'], \n",
    "        row['partida_real']\n",
    "        ), axis=1)"
   ]
  },
  {
   "attachments": {},
   "cell_type": "markdown",
   "metadata": {},
   "source": [
    "#### 2.3.3.2. Atraso na chegada"
   ]
  },
  {
   "cell_type": "code",
   "execution_count": 7,
   "metadata": {},
   "outputs": [],
   "source": [
    "flights_dataframe['chegada_atrasou'] = flights_dataframe.apply(\n",
    "    lambda row: Utils.validar_atraso(\n",
    "        row['situacao_voo'], \n",
    "        row['chegada_prevista'], \n",
    "        row['chegada_real']\n",
    "        ), axis=1)"
   ]
  },
  {
   "attachments": {},
   "cell_type": "markdown",
   "metadata": {},
   "source": [
    "#### 2.3.3.3. distancia_km (para *lat_long_orig* e *lat_long_dest*)"
   ]
  },
  {
   "cell_type": "code",
   "execution_count": 8,
   "metadata": {},
   "outputs": [],
   "source": [
    "flights_dataframe['distancia_km'] = flights_dataframe.apply(\n",
    "    lambda row: Utils.calcular_distancia_km(\n",
    "    row['lat_orig'],\n",
    "    row['long_orig'],\n",
    "    row['lat_dest'],\n",
    "    row['long_dest']\n",
    "    ), axis=1)"
   ]
  },
  {
   "attachments": {},
   "cell_type": "markdown",
   "metadata": {},
   "source": [
    "#### 2.3.3.4. Justificativa atraso"
   ]
  },
  {
   "cell_type": "code",
   "execution_count": 9,
   "metadata": {},
   "outputs": [],
   "source": [
    "flights_dataframe['justificativa_atraso'] = ''\n",
    "flights_dataframe['justificativa_atraso'] = np.where(\n",
    "    ((flights_dataframe['partida_atrasou'] == 'S') | (flights_dataframe['chegada_atrasou'] == 'S')),\n",
    "    flights_dataframe.apply(lambda row: Utils.motivo_atraso(row['codigo_justificativa']), axis=1),\n",
    "    flights_dataframe['justificativa_atraso']\n",
    ")"
   ]
  },
  {
   "attachments": {},
   "cell_type": "markdown",
   "metadata": {},
   "source": [
    "#### 2.3.3.5. Justificativa cancelamento"
   ]
  },
  {
   "cell_type": "code",
   "execution_count": 10,
   "metadata": {},
   "outputs": [],
   "source": [
    "flights_dataframe['justificativa_cancelamento'] = ''\n",
    "flights_dataframe['justificativa_cancelamento'] = np.where(\n",
    "    flights_dataframe['situacao_voo'] == 'Cancelado',\n",
    "    flights_dataframe.apply(lambda row: Utils.motivo_cancelamento(row['codigo_justificativa']), axis=1),\n",
    "    flights_dataframe['justificativa_cancelamento']\n",
    ")"
   ]
  },
  {
   "attachments": {},
   "cell_type": "markdown",
   "metadata": {},
   "source": [
    "## 2.4. Mapeamento de Dados\n",
    "Para melhorar a análise e interpretação dos dados os seguintes atributos serão modificados:\n",
    "\n",
    "| Coluna    | Original     | Modificado                          |\n",
    "|:----------:|:-------------:|:------------------------------------:|\n",
    "| *    | 'NA', *      | '', *                  |\n",
    "| *      | np.NaN / NaN      | ''                  |\n"
   ]
  },
  {
   "attachments": {},
   "cell_type": "markdown",
   "metadata": {},
   "source": [
    "### 2.4.1. Removendo 'N/I' por um valor ''/string.empty"
   ]
  },
  {
   "cell_type": "code",
   "execution_count": 11,
   "metadata": {},
   "outputs": [],
   "source": [
    "for coluna in flights_dataframe.columns:\n",
    "    flights_dataframe[coluna] = flights_dataframe[coluna].replace('N/I', '')"
   ]
  },
  {
   "attachments": {},
   "cell_type": "markdown",
   "metadata": {},
   "source": [
    "### 2.4.2. Removendo np.NaN por um valor None"
   ]
  },
  {
   "cell_type": "code",
   "execution_count": 12,
   "metadata": {},
   "outputs": [],
   "source": [
    "flights_dataframe.fillna(value='', inplace=True)"
   ]
  },
  {
   "attachments": {},
   "cell_type": "markdown",
   "metadata": {},
   "source": [
    "### 2.5. Reordenando as colunas de forma semântica"
   ]
  },
  {
   "cell_type": "code",
   "execution_count": 13,
   "metadata": {},
   "outputs": [],
   "source": [
    "flights_dataframe = flights_dataframe.reindex(columns=Utils.nomes_colunas(), index=None)\n",
    "flights_dataframe.drop('codigo_justificativa', axis=1, inplace=True)\n",
    "\n",
    "dataframe = flights_dataframe"
   ]
  },
  {
   "attachments": {},
   "cell_type": "markdown",
   "metadata": {},
   "source": [
    "### 2.6 Resultado final"
   ]
  },
  {
   "cell_type": "code",
   "execution_count": 14,
   "metadata": {},
   "outputs": [
    {
     "data": {
      "text/html": [
       "<style type=\"text/css\">\n",
       "#T_e29df th {\n",
       "  text-align: center;\n",
       "}\n",
       "#T_e29df td {\n",
       "  text-align: center;\n",
       "}\n",
       "</style>\n",
       "<table id=\"T_e29df\">\n",
       "  <thead>\n",
       "    <tr>\n",
       "      <th class=\"blank level0\" >&nbsp;</th>\n",
       "      <th id=\"T_e29df_level0_col0\" class=\"col_heading level0 col0\" >NomeColuna</th>\n",
       "      <th id=\"T_e29df_level0_col1\" class=\"col_heading level0 col1\" >DescricaoColuna</th>\n",
       "      <th id=\"T_e29df_level0_col2\" class=\"col_heading level0 col2\" >TipoColuna</th>\n",
       "    </tr>\n",
       "  </thead>\n",
       "  <tbody>\n",
       "    <tr>\n",
       "      <th id=\"T_e29df_level0_row0\" class=\"row_heading level0 row0\" >0</th>\n",
       "      <td id=\"T_e29df_row0_col0\" class=\"data row0 col0\" >num_voo</td>\n",
       "      <td id=\"T_e29df_row0_col1\" class=\"data row0 col1\" >Número do voo</td>\n",
       "      <td id=\"T_e29df_row0_col2\" class=\"data row0 col2\" >str</td>\n",
       "    </tr>\n",
       "    <tr>\n",
       "      <th id=\"T_e29df_level0_row1\" class=\"row_heading level0 row1\" >1</th>\n",
       "      <td id=\"T_e29df_row1_col0\" class=\"data row1 col0\" >companhia_aerea</td>\n",
       "      <td id=\"T_e29df_row1_col1\" class=\"data row1 col1\" >Nome da companhia aérea</td>\n",
       "      <td id=\"T_e29df_row1_col2\" class=\"data row1 col2\" >str</td>\n",
       "    </tr>\n",
       "    <tr>\n",
       "      <th id=\"T_e29df_level0_row2\" class=\"row_heading level0 row2\" >2</th>\n",
       "      <td id=\"T_e29df_row2_col0\" class=\"data row2 col0\" >codigo_tipo_linha</td>\n",
       "      <td id=\"T_e29df_row2_col1\" class=\"data row2 col1\" >Código do tipo de linha (internacional)</td>\n",
       "      <td id=\"T_e29df_row2_col2\" class=\"data row2 col2\" >str</td>\n",
       "    </tr>\n",
       "    <tr>\n",
       "      <th id=\"T_e29df_level0_row3\" class=\"row_heading level0 row3\" >3</th>\n",
       "      <td id=\"T_e29df_row3_col0\" class=\"data row3 col0\" >aeroporto_origem</td>\n",
       "      <td id=\"T_e29df_row3_col1\" class=\"data row3 col1\" >Código do aeroporto de origem</td>\n",
       "      <td id=\"T_e29df_row3_col2\" class=\"data row3 col2\" >str</td>\n",
       "    </tr>\n",
       "    <tr>\n",
       "      <th id=\"T_e29df_level0_row4\" class=\"row_heading level0 row4\" >4</th>\n",
       "      <td id=\"T_e29df_row4_col0\" class=\"data row4 col0\" >cidade_origem</td>\n",
       "      <td id=\"T_e29df_row4_col1\" class=\"data row4 col1\" >Cidade de origem</td>\n",
       "      <td id=\"T_e29df_row4_col2\" class=\"data row4 col2\" >str</td>\n",
       "    </tr>\n",
       "    <tr>\n",
       "      <th id=\"T_e29df_level0_row5\" class=\"row_heading level0 row5\" >5</th>\n",
       "      <td id=\"T_e29df_row5_col0\" class=\"data row5 col0\" >estado_origem</td>\n",
       "      <td id=\"T_e29df_row5_col1\" class=\"data row5 col1\" >Estado de origem</td>\n",
       "      <td id=\"T_e29df_row5_col2\" class=\"data row5 col2\" >str</td>\n",
       "    </tr>\n",
       "    <tr>\n",
       "      <th id=\"T_e29df_level0_row6\" class=\"row_heading level0 row6\" >6</th>\n",
       "      <td id=\"T_e29df_row6_col0\" class=\"data row6 col0\" >pais_origem</td>\n",
       "      <td id=\"T_e29df_row6_col1\" class=\"data row6 col1\" >País de origem</td>\n",
       "      <td id=\"T_e29df_row6_col2\" class=\"data row6 col2\" >str</td>\n",
       "    </tr>\n",
       "    <tr>\n",
       "      <th id=\"T_e29df_level0_row7\" class=\"row_heading level0 row7\" >7</th>\n",
       "      <td id=\"T_e29df_row7_col0\" class=\"data row7 col0\" >lat_orig</td>\n",
       "      <td id=\"T_e29df_row7_col1\" class=\"data row7 col1\" >Latitude do aeroporto de origem</td>\n",
       "      <td id=\"T_e29df_row7_col2\" class=\"data row7 col2\" >float</td>\n",
       "    </tr>\n",
       "    <tr>\n",
       "      <th id=\"T_e29df_level0_row8\" class=\"row_heading level0 row8\" >8</th>\n",
       "      <td id=\"T_e29df_row8_col0\" class=\"data row8 col0\" >long_orig</td>\n",
       "      <td id=\"T_e29df_row8_col1\" class=\"data row8 col1\" >Longitude do aeroporto de origem</td>\n",
       "      <td id=\"T_e29df_row8_col2\" class=\"data row8 col2\" >float</td>\n",
       "    </tr>\n",
       "    <tr>\n",
       "      <th id=\"T_e29df_level0_row9\" class=\"row_heading level0 row9\" >9</th>\n",
       "      <td id=\"T_e29df_row9_col0\" class=\"data row9 col0\" >partida_prevista</td>\n",
       "      <td id=\"T_e29df_row9_col1\" class=\"data row9 col1\" >Horário previsto de partida</td>\n",
       "      <td id=\"T_e29df_row9_col2\" class=\"data row9 col2\" >datetime</td>\n",
       "    </tr>\n",
       "    <tr>\n",
       "      <th id=\"T_e29df_level0_row10\" class=\"row_heading level0 row10\" >10</th>\n",
       "      <td id=\"T_e29df_row10_col0\" class=\"data row10 col0\" >partida_real</td>\n",
       "      <td id=\"T_e29df_row10_col1\" class=\"data row10 col1\" >Horário real de partida</td>\n",
       "      <td id=\"T_e29df_row10_col2\" class=\"data row10 col2\" >datetime</td>\n",
       "    </tr>\n",
       "    <tr>\n",
       "      <th id=\"T_e29df_level0_row11\" class=\"row_heading level0 row11\" >11</th>\n",
       "      <td id=\"T_e29df_row11_col0\" class=\"data row11 col0\" >partida_atrasou</td>\n",
       "      <td id=\"T_e29df_row11_col1\" class=\"data row11 col1\" >Houve atraso na partida do voo?</td>\n",
       "      <td id=\"T_e29df_row11_col2\" class=\"data row11 col2\" >bool</td>\n",
       "    </tr>\n",
       "    <tr>\n",
       "      <th id=\"T_e29df_level0_row12\" class=\"row_heading level0 row12\" >12</th>\n",
       "      <td id=\"T_e29df_row12_col0\" class=\"data row12 col0\" >aeroporto_destino</td>\n",
       "      <td id=\"T_e29df_row12_col1\" class=\"data row12 col1\" >Código do aeroporto de destino</td>\n",
       "      <td id=\"T_e29df_row12_col2\" class=\"data row12 col2\" >str</td>\n",
       "    </tr>\n",
       "    <tr>\n",
       "      <th id=\"T_e29df_level0_row13\" class=\"row_heading level0 row13\" >13</th>\n",
       "      <td id=\"T_e29df_row13_col0\" class=\"data row13 col0\" >cidade_destino</td>\n",
       "      <td id=\"T_e29df_row13_col1\" class=\"data row13 col1\" >Cidade de destino</td>\n",
       "      <td id=\"T_e29df_row13_col2\" class=\"data row13 col2\" >str</td>\n",
       "    </tr>\n",
       "    <tr>\n",
       "      <th id=\"T_e29df_level0_row14\" class=\"row_heading level0 row14\" >14</th>\n",
       "      <td id=\"T_e29df_row14_col0\" class=\"data row14 col0\" >estado_destino</td>\n",
       "      <td id=\"T_e29df_row14_col1\" class=\"data row14 col1\" >Estado de destino</td>\n",
       "      <td id=\"T_e29df_row14_col2\" class=\"data row14 col2\" >str</td>\n",
       "    </tr>\n",
       "    <tr>\n",
       "      <th id=\"T_e29df_level0_row15\" class=\"row_heading level0 row15\" >15</th>\n",
       "      <td id=\"T_e29df_row15_col0\" class=\"data row15 col0\" >pais_destino</td>\n",
       "      <td id=\"T_e29df_row15_col1\" class=\"data row15 col1\" >País de destino</td>\n",
       "      <td id=\"T_e29df_row15_col2\" class=\"data row15 col2\" >str</td>\n",
       "    </tr>\n",
       "    <tr>\n",
       "      <th id=\"T_e29df_level0_row16\" class=\"row_heading level0 row16\" >16</th>\n",
       "      <td id=\"T_e29df_row16_col0\" class=\"data row16 col0\" >lat_dest</td>\n",
       "      <td id=\"T_e29df_row16_col1\" class=\"data row16 col1\" >Latitude do aeroporto de destino</td>\n",
       "      <td id=\"T_e29df_row16_col2\" class=\"data row16 col2\" >float</td>\n",
       "    </tr>\n",
       "    <tr>\n",
       "      <th id=\"T_e29df_level0_row17\" class=\"row_heading level0 row17\" >17</th>\n",
       "      <td id=\"T_e29df_row17_col0\" class=\"data row17 col0\" >long_dest</td>\n",
       "      <td id=\"T_e29df_row17_col1\" class=\"data row17 col1\" >Longitude do aeroporto de destino</td>\n",
       "      <td id=\"T_e29df_row17_col2\" class=\"data row17 col2\" >float</td>\n",
       "    </tr>\n",
       "    <tr>\n",
       "      <th id=\"T_e29df_level0_row18\" class=\"row_heading level0 row18\" >18</th>\n",
       "      <td id=\"T_e29df_row18_col0\" class=\"data row18 col0\" >chegada_prevista</td>\n",
       "      <td id=\"T_e29df_row18_col1\" class=\"data row18 col1\" >Horário previsto de chegada</td>\n",
       "      <td id=\"T_e29df_row18_col2\" class=\"data row18 col2\" >datetime</td>\n",
       "    </tr>\n",
       "    <tr>\n",
       "      <th id=\"T_e29df_level0_row19\" class=\"row_heading level0 row19\" >19</th>\n",
       "      <td id=\"T_e29df_row19_col0\" class=\"data row19 col0\" >chegada_real</td>\n",
       "      <td id=\"T_e29df_row19_col1\" class=\"data row19 col1\" >Horário real de chegada</td>\n",
       "      <td id=\"T_e29df_row19_col2\" class=\"data row19 col2\" >datetime</td>\n",
       "    </tr>\n",
       "    <tr>\n",
       "      <th id=\"T_e29df_level0_row20\" class=\"row_heading level0 row20\" >20</th>\n",
       "      <td id=\"T_e29df_row20_col0\" class=\"data row20 col0\" >chegada_atrasou</td>\n",
       "      <td id=\"T_e29df_row20_col1\" class=\"data row20 col1\" >Houve atraso na chegada do voo?</td>\n",
       "      <td id=\"T_e29df_row20_col2\" class=\"data row20 col2\" >bool</td>\n",
       "    </tr>\n",
       "    <tr>\n",
       "      <th id=\"T_e29df_level0_row21\" class=\"row_heading level0 row21\" >21</th>\n",
       "      <td id=\"T_e29df_row21_col0\" class=\"data row21 col0\" >distancia_km</td>\n",
       "      <td id=\"T_e29df_row21_col1\" class=\"data row21 col1\" >Total em quilômetros entre o local de origem e destino</td>\n",
       "      <td id=\"T_e29df_row21_col2\" class=\"data row21 col2\" >float</td>\n",
       "    </tr>\n",
       "    <tr>\n",
       "      <th id=\"T_e29df_level0_row22\" class=\"row_heading level0 row22\" >22</th>\n",
       "      <td id=\"T_e29df_row22_col0\" class=\"data row22 col0\" >situacao_voo</td>\n",
       "      <td id=\"T_e29df_row22_col1\" class=\"data row22 col1\" >Situação do voo (realizado, cancelado, etc)</td>\n",
       "      <td id=\"T_e29df_row22_col2\" class=\"data row22 col2\" >str</td>\n",
       "    </tr>\n",
       "    <tr>\n",
       "      <th id=\"T_e29df_level0_row23\" class=\"row_heading level0 row23\" >23</th>\n",
       "      <td id=\"T_e29df_row23_col0\" class=\"data row23 col0\" >justificativa_atraso</td>\n",
       "      <td id=\"T_e29df_row23_col1\" class=\"data row23 col1\" >Informação e correlata à justificativa no atraso do voo</td>\n",
       "      <td id=\"T_e29df_row23_col2\" class=\"data row23 col2\" >str</td>\n",
       "    </tr>\n",
       "    <tr>\n",
       "      <th id=\"T_e29df_level0_row24\" class=\"row_heading level0 row24\" >24</th>\n",
       "      <td id=\"T_e29df_row24_col0\" class=\"data row24 col0\" >justificativa_cancelamento</td>\n",
       "      <td id=\"T_e29df_row24_col1\" class=\"data row24 col1\" >Informação e correlata à justificativa do cancelamento do voo</td>\n",
       "      <td id=\"T_e29df_row24_col2\" class=\"data row24 col2\" >str</td>\n",
       "    </tr>\n",
       "  </tbody>\n",
       "</table>\n"
      ],
      "text/plain": [
       "<pandas.io.formats.style.Styler at 0x29f3039eed0>"
      ]
     },
     "execution_count": 14,
     "metadata": {},
     "output_type": "execute_result"
    }
   ],
   "source": [
    "columns = ['NomeColuna', 'DescricaoColuna', 'TipoColuna']\n",
    "values = [[value, Utils.descricao_coluna(value), Utils.tipo_coluna(value).__name__] for value in dataframe.columns]\n",
    "\n",
    "pd.DataFrame(data=values, columns=columns).style.set_table_styles([\n",
    "            dict(selector='th', props=[('text-align', 'center')]), \n",
    "            dict(selector='td', props=[('text-align', 'center')])\n",
    "            ])"
   ]
  },
  {
   "attachments": {},
   "cell_type": "markdown",
   "metadata": {},
   "source": [
    "# 3. Análise dos Dados"
   ]
  },
  {
   "attachments": {},
   "cell_type": "markdown",
   "metadata": {},
   "source": [
    "## 3.1. Quantidade de voos por companhia aérea.\n",
    "Verificar a quantidade de voos realizados por cada companhia aérea."
   ]
  },
  {
   "cell_type": "code",
   "execution_count": 15,
   "metadata": {},
   "outputs": [],
   "source": [
    "voos_por_cia_area = dataframe.groupby(['companhia_aerea', 'situacao_voo', 'codigo_tipo_linha', 'justificativa_atraso']).agg(\n",
    "    voos_realizados=('situacao_voo', lambda x: ((x == 'Realizado') & (dataframe['justificativa_atraso'] == '')).sum()),\n",
    "    voos_com_atraso=('situacao_voo', lambda x: ((x == 'Realizado') & (dataframe['justificativa_atraso'] != '')).sum()),\n",
    "    voos_cancelados=('situacao_voo', lambda x: (x == 'Cancelado').sum())\n",
    ").sort_values(\n",
    "    by=['voos_realizados', 'voos_com_atraso', 'voos_cancelados'],\n",
    "    ascending=False)"
   ]
  },
  {
   "attachments": {},
   "cell_type": "markdown",
   "metadata": {},
   "source": [
    "### 3.1.1. Quantidade de voos regionais por companhia aérea."
   ]
  },
  {
   "cell_type": "code",
   "execution_count": 33,
   "metadata": {},
   "outputs": [
    {
     "data": {
      "image/png": "[encoded data removed]",
      "text/plain": [
       "<Figure size 2500x500 with 1 Axes>"
      ]
     },
     "metadata": {},
     "output_type": "display_data"
    }
   ],
   "source": [
    "dados_grafico = voos_por_cia_area\\\n",
    "    .reset_index()\\\n",
    "    .loc[voos_por_cia_area.reset_index()['codigo_tipo_linha'] == 'Regional']\\\n",
    "    .groupby('companhia_aerea')\\\n",
    "    .agg(\n",
    "        voos_realizados=('voos_realizados', 'sum'),\n",
    "        voos_com_atraso=('voos_com_atraso', 'sum'),\n",
    "        voos_cancelados=('voos_cancelados', 'sum')\n",
    ").sort_values(by=['voos_realizados', 'voos_com_atraso', 'voos_cancelados'], ascending=False)\n",
    "\n",
    "fig, ax = plt.subplots(figsize=(25,5))\n",
    "dados_grafico.plot(kind='line', ax=ax, marker='o')\n",
    "\n",
    "ax.set_title('Estatísticas de Voos por Companhia Aérea (Regional)')\n",
    "ax.set_xlabel('Companhia Aérea')\n",
    "ax.set_ylabel('Voos')\n",
    "plt.style.use(\"cyberpunk\")\n",
    "mplcyberpunk.add_glow_effects()\n",
    "plt.show()\n",
    "\n",
    "del dados_grafico"
   ]
  },
  {
   "attachments": {},
   "cell_type": "markdown",
   "metadata": {},
   "source": [
    "### 3.1.2. Quantidade de voos nacionais por companhia aérea."
   ]
  },
  {
   "cell_type": "code",
   "execution_count": 43,
   "metadata": {},
   "outputs": [
    {
     "data": {
      "image/png": "[encoded data removed]",
      "text/plain": [
       "<Figure size 2500x500 with 1 Axes>"
      ]
     },
     "metadata": {},
     "output_type": "display_data"
    }
   ],
   "source": [
    "dados_grafico = voos_por_cia_area\\\n",
    "    .reset_index()\\\n",
    "    .loc[voos_por_cia_area.reset_index()['codigo_tipo_linha'] == 'Nacional']\\\n",
    "    .groupby('companhia_aerea')\\\n",
    "    .agg(\n",
    "        voos_realizados=('voos_realizados', 'sum'),\n",
    "        voos_com_atraso=('voos_com_atraso', 'sum'),\n",
    "        voos_cancelados=('voos_cancelados', 'sum')\n",
    ").sort_values(by=['voos_realizados', 'voos_com_atraso', 'voos_cancelados'], ascending=False)\n",
    "\n",
    "fig, ax = plt.subplots(figsize=(25,5))\n",
    "dados_grafico.plot(kind='bar', ax=ax)\n",
    "\n",
    "ax.set_title('Estatísticas de Voos por Companhia Aérea (Regional)')\n",
    "ax.set_xlabel('Companhia Aérea')\n",
    "ax.set_ylabel('Voos')\n",
    "plt.style.use(\"cyberpunk\")\n",
    "mplcyberpunk.make_lines_glow()\n",
    "mplcyberpunk.add_underglow()\n",
    "plt.show()\n",
    "\n",
    "del dados_grafico"
   ]
  },
  {
   "attachments": {},
   "cell_type": "markdown",
   "metadata": {},
   "source": [
    "### 3.1.3. Quantidade de voos internacionais por companhia aérea."
   ]
  },
  {
   "cell_type": "code",
   "execution_count": 18,
   "metadata": {},
   "outputs": [
    {
     "data": {
      "text/html": [
       "<div>\n",
       "<style scoped>\n",
       "    .dataframe tbody tr th:only-of-type {\n",
       "        vertical-align: middle;\n",
       "    }\n",
       "\n",
       "    .dataframe tbody tr th {\n",
       "        vertical-align: top;\n",
       "    }\n",
       "\n",
       "    .dataframe thead th {\n",
       "        text-align: right;\n",
       "    }\n",
       "</style>\n",
       "<table border=\"1\" class=\"dataframe\">\n",
       "  <thead>\n",
       "    <tr style=\"text-align: right;\">\n",
       "      <th></th>\n",
       "      <th>voos_realizados</th>\n",
       "      <th>voos_com_atraso</th>\n",
       "      <th>voos_cancelados</th>\n",
       "    </tr>\n",
       "    <tr>\n",
       "      <th>companhia_aerea</th>\n",
       "      <th></th>\n",
       "      <th></th>\n",
       "      <th></th>\n",
       "    </tr>\n",
       "  </thead>\n",
       "  <tbody>\n",
       "    <tr>\n",
       "      <th>TAM</th>\n",
       "      <td>392293</td>\n",
       "      <td>44711</td>\n",
       "      <td>183</td>\n",
       "    </tr>\n",
       "    <tr>\n",
       "      <th>Gol</th>\n",
       "      <td>251235</td>\n",
       "      <td>25810</td>\n",
       "      <td>262</td>\n",
       "    </tr>\n",
       "    <tr>\n",
       "      <th>American Airlines</th>\n",
       "      <td>176808</td>\n",
       "      <td>19419</td>\n",
       "      <td>107</td>\n",
       "    </tr>\n",
       "    <tr>\n",
       "      <th>Copa</th>\n",
       "      <td>154556</td>\n",
       "      <td>16318</td>\n",
       "      <td>18</td>\n",
       "    </tr>\n",
       "    <tr>\n",
       "      <th>TAP Air Portugal</th>\n",
       "      <td>106595</td>\n",
       "      <td>11723</td>\n",
       "      <td>76</td>\n",
       "    </tr>\n",
       "    <tr>\n",
       "      <th>Aerolineas Argentinas</th>\n",
       "      <td>82813</td>\n",
       "      <td>8904</td>\n",
       "      <td>92</td>\n",
       "    </tr>\n",
       "    <tr>\n",
       "      <th>AUSTRAL LINEAS AREAS CIELOS DEL SUR S.A</th>\n",
       "      <td>81812</td>\n",
       "      <td>8521</td>\n",
       "      <td>87</td>\n",
       "    </tr>\n",
       "    <tr>\n",
       "      <th>LAN Chile</th>\n",
       "      <td>70203</td>\n",
       "      <td>7828</td>\n",
       "      <td>0</td>\n",
       "    </tr>\n",
       "    <tr>\n",
       "      <th>Delta Airlines</th>\n",
       "      <td>69929</td>\n",
       "      <td>7233</td>\n",
       "      <td>43</td>\n",
       "    </tr>\n",
       "    <tr>\n",
       "      <th>Air France</th>\n",
       "      <td>47951</td>\n",
       "      <td>4939</td>\n",
       "      <td>31</td>\n",
       "    </tr>\n",
       "    <tr>\n",
       "      <th>United Airlines</th>\n",
       "      <td>43830</td>\n",
       "      <td>5534</td>\n",
       "      <td>38</td>\n",
       "    </tr>\n",
       "    <tr>\n",
       "      <th>Lufthansa</th>\n",
       "      <td>32944</td>\n",
       "      <td>2972</td>\n",
       "      <td>54</td>\n",
       "    </tr>\n",
       "    <tr>\n",
       "      <th>Trasamerica Airlines-TACA Peru</th>\n",
       "      <td>32611</td>\n",
       "      <td>4167</td>\n",
       "      <td>1</td>\n",
       "    </tr>\n",
       "    <tr>\n",
       "      <th>Emirates</th>\n",
       "      <td>31963</td>\n",
       "      <td>3782</td>\n",
       "      <td>3</td>\n",
       "    </tr>\n",
       "    <tr>\n",
       "      <th>Iberia</th>\n",
       "      <td>30775</td>\n",
       "      <td>2797</td>\n",
       "      <td>4</td>\n",
       "    </tr>\n",
       "    <tr>\n",
       "      <th>LAN Peru</th>\n",
       "      <td>29927</td>\n",
       "      <td>3201</td>\n",
       "      <td>0</td>\n",
       "    </tr>\n",
       "    <tr>\n",
       "      <th>Azul</th>\n",
       "      <td>29435</td>\n",
       "      <td>2827</td>\n",
       "      <td>0</td>\n",
       "    </tr>\n",
       "    <tr>\n",
       "      <th>British Airways</th>\n",
       "      <td>29031</td>\n",
       "      <td>2762</td>\n",
       "      <td>2</td>\n",
       "    </tr>\n",
       "    <tr>\n",
       "      <th>Avianca</th>\n",
       "      <td>28743</td>\n",
       "      <td>3130</td>\n",
       "      <td>0</td>\n",
       "    </tr>\n",
       "    <tr>\n",
       "      <th>Alitalia</th>\n",
       "      <td>27993</td>\n",
       "      <td>2330</td>\n",
       "      <td>27</td>\n",
       "    </tr>\n",
       "    <tr>\n",
       "      <th>TAM Transp. Ar. Del. Mercos</th>\n",
       "      <td>21910</td>\n",
       "      <td>2408</td>\n",
       "      <td>15</td>\n",
       "    </tr>\n",
       "    <tr>\n",
       "      <th>KLM Royal Dutch Airlines</th>\n",
       "      <td>20681</td>\n",
       "      <td>2275</td>\n",
       "      <td>2</td>\n",
       "    </tr>\n",
       "    <tr>\n",
       "      <th>Turkish Airlines</th>\n",
       "      <td>20576</td>\n",
       "      <td>2515</td>\n",
       "      <td>6</td>\n",
       "    </tr>\n",
       "    <tr>\n",
       "      <th>Qatar Airways</th>\n",
       "      <td>20228</td>\n",
       "      <td>2435</td>\n",
       "      <td>2</td>\n",
       "    </tr>\n",
       "    <tr>\n",
       "      <th>Boliviana de Aviacion</th>\n",
       "      <td>17440</td>\n",
       "      <td>1748</td>\n",
       "      <td>0</td>\n",
       "    </tr>\n",
       "    <tr>\n",
       "      <th>Swissair</th>\n",
       "      <td>17262</td>\n",
       "      <td>1680</td>\n",
       "      <td>7</td>\n",
       "    </tr>\n",
       "    <tr>\n",
       "      <th>Air Canada</th>\n",
       "      <td>17182</td>\n",
       "      <td>2006</td>\n",
       "      <td>0</td>\n",
       "    </tr>\n",
       "    <tr>\n",
       "      <th>SOUTH µFRICAN AIRWAYS</th>\n",
       "      <td>17169</td>\n",
       "      <td>2101</td>\n",
       "      <td>23</td>\n",
       "    </tr>\n",
       "    <tr>\n",
       "      <th>Air Europa</th>\n",
       "      <td>16283</td>\n",
       "      <td>1951</td>\n",
       "      <td>34</td>\n",
       "    </tr>\n",
       "    <tr>\n",
       "      <th>LAN Argentina</th>\n",
       "      <td>15614</td>\n",
       "      <td>1606</td>\n",
       "      <td>0</td>\n",
       "    </tr>\n",
       "    <tr>\n",
       "      <th>Etihad</th>\n",
       "      <td>12245</td>\n",
       "      <td>1203</td>\n",
       "      <td>0</td>\n",
       "    </tr>\n",
       "    <tr>\n",
       "      <th>TAAG Linhas Aereas de Angola</th>\n",
       "      <td>11968</td>\n",
       "      <td>1316</td>\n",
       "      <td>2</td>\n",
       "    </tr>\n",
       "    <tr>\n",
       "      <th>US AIRWAYS INC.</th>\n",
       "      <td>11653</td>\n",
       "      <td>1221</td>\n",
       "      <td>7</td>\n",
       "    </tr>\n",
       "    <tr>\n",
       "      <th>Nao Informado</th>\n",
       "      <td>11276</td>\n",
       "      <td>1350</td>\n",
       "      <td>3</td>\n",
       "    </tr>\n",
       "    <tr>\n",
       "      <th>Aires</th>\n",
       "      <td>11219</td>\n",
       "      <td>1247</td>\n",
       "      <td>0</td>\n",
       "    </tr>\n",
       "    <tr>\n",
       "      <th>AEROMEXICO</th>\n",
       "      <td>11032</td>\n",
       "      <td>1736</td>\n",
       "      <td>2</td>\n",
       "    </tr>\n",
       "    <tr>\n",
       "      <th>LINEAS AE.COSTARRICENCES S/A</th>\n",
       "      <td>7171</td>\n",
       "      <td>619</td>\n",
       "      <td>0</td>\n",
       "    </tr>\n",
       "    <tr>\n",
       "      <th>Surinam Airways</th>\n",
       "      <td>6904</td>\n",
       "      <td>804</td>\n",
       "      <td>0</td>\n",
       "    </tr>\n",
       "    <tr>\n",
       "      <th>Singapore Airlines</th>\n",
       "      <td>5411</td>\n",
       "      <td>493</td>\n",
       "      <td>0</td>\n",
       "    </tr>\n",
       "    <tr>\n",
       "      <th>Condor Flugdinst</th>\n",
       "      <td>5257</td>\n",
       "      <td>483</td>\n",
       "      <td>0</td>\n",
       "    </tr>\n",
       "    <tr>\n",
       "      <th>Ethiopian</th>\n",
       "      <td>5163</td>\n",
       "      <td>525</td>\n",
       "      <td>0</td>\n",
       "    </tr>\n",
       "    <tr>\n",
       "      <th>Air China</th>\n",
       "      <td>3550</td>\n",
       "      <td>304</td>\n",
       "      <td>1</td>\n",
       "    </tr>\n",
       "    <tr>\n",
       "      <th>Korean Airlines</th>\n",
       "      <td>3229</td>\n",
       "      <td>516</td>\n",
       "      <td>4</td>\n",
       "    </tr>\n",
       "    <tr>\n",
       "      <th>Avianca Brasil</th>\n",
       "      <td>1798</td>\n",
       "      <td>160</td>\n",
       "      <td>0</td>\n",
       "    </tr>\n",
       "    <tr>\n",
       "      <th>Empresa de Transportes Aereos de Cabo Verde</th>\n",
       "      <td>1357</td>\n",
       "      <td>166</td>\n",
       "      <td>0</td>\n",
       "    </tr>\n",
       "    <tr>\n",
       "      <th>AIR ITALY SPA</th>\n",
       "      <td>0</td>\n",
       "      <td>0</td>\n",
       "      <td>24</td>\n",
       "    </tr>\n",
       "  </tbody>\n",
       "</table>\n",
       "</div>"
      ],
      "text/plain": [
       "                                             voos_realizados  voos_com_atraso   \n",
       "companhia_aerea                                                                 \n",
       "TAM                                                   392293            44711  \\\n",
       "Gol                                                   251235            25810   \n",
       "American Airlines                                     176808            19419   \n",
       "Copa                                                  154556            16318   \n",
       "TAP Air Portugal                                      106595            11723   \n",
       "Aerolineas Argentinas                                  82813             8904   \n",
       "AUSTRAL LINEAS AREAS CIELOS DEL SUR S.A               81812             8521   \n",
       "LAN Chile                                              70203             7828   \n",
       "Delta Airlines                                         69929             7233   \n",
       "Air France                                             47951             4939   \n",
       "United Airlines                                        43830             5534   \n",
       "Lufthansa                                              32944             2972   \n",
       "Trasamerica Airlines-TACA Peru                         32611             4167   \n",
       "Emirates                                               31963             3782   \n",
       "Iberia                                                 30775             2797   \n",
       "LAN Peru                                               29927             3201   \n",
       "Azul                                                   29435             2827   \n",
       "British Airways                                        29031             2762   \n",
       "Avianca                                                28743             3130   \n",
       "Alitalia                                               27993             2330   \n",
       "TAM Transp. Ar. Del. Mercos                            21910             2408   \n",
       "KLM Royal Dutch Airlines                               20681             2275   \n",
       "Turkish Airlines                                       20576             2515   \n",
       "Qatar Airways                                          20228             2435   \n",
       "Boliviana de Aviacion                                  17440             1748   \n",
       "Swissair                                               17262             1680   \n",
       "Air Canada                                             17182             2006   \n",
       "SOUTH µFRICAN AIRWAYS                                  17169             2101   \n",
       "Air Europa                                             16283             1951   \n",
       "LAN Argentina                                          15614             1606   \n",
       "Etihad                                                 12245             1203   \n",
       "TAAG Linhas Aereas de Angola                           11968             1316   \n",
       "US AIRWAYS INC.                                        11653             1221   \n",
       "Nao Informado                                          11276             1350   \n",
       "Aires                                                  11219             1247   \n",
       "AEROMEXICO                                             11032             1736   \n",
       "LINEAS AE.COSTARRICENCES S/A                            7171              619   \n",
       "Surinam Airways                                         6904              804   \n",
       "Singapore Airlines                                      5411              493   \n",
       "Condor Flugdinst                                        5257              483   \n",
       "Ethiopian                                               5163              525   \n",
       "Air China                                               3550              304   \n",
       "Korean Airlines                                         3229              516   \n",
       "Avianca Brasil                                          1798              160   \n",
       "Empresa de Transportes Aereos de Cabo Verde             1357              166   \n",
       "AIR ITALY SPA                                              0                0   \n",
       "\n",
       "                                             voos_cancelados  \n",
       "companhia_aerea                                               \n",
       "TAM                                                      183  \n",
       "Gol                                                      262  \n",
       "American Airlines                                        107  \n",
       "Copa                                                      18  \n",
       "TAP Air Portugal                                          76  \n",
       "Aerolineas Argentinas                                     92  \n",
       "AUSTRAL LINEAS AREAS CIELOS DEL SUR S.A                  87  \n",
       "LAN Chile                                                  0  \n",
       "Delta Airlines                                            43  \n",
       "Air France                                                31  \n",
       "United Airlines                                           38  \n",
       "Lufthansa                                                 54  \n",
       "Trasamerica Airlines-TACA Peru                             1  \n",
       "Emirates                                                   3  \n",
       "Iberia                                                     4  \n",
       "LAN Peru                                                   0  \n",
       "Azul                                                       0  \n",
       "British Airways                                            2  \n",
       "Avianca                                                    0  \n",
       "Alitalia                                                  27  \n",
       "TAM Transp. Ar. Del. Mercos                               15  \n",
       "KLM Royal Dutch Airlines                                   2  \n",
       "Turkish Airlines                                           6  \n",
       "Qatar Airways                                              2  \n",
       "Boliviana de Aviacion                                      0  \n",
       "Swissair                                                   7  \n",
       "Air Canada                                                 0  \n",
       "SOUTH µFRICAN AIRWAYS                                     23  \n",
       "Air Europa                                                34  \n",
       "LAN Argentina                                              0  \n",
       "Etihad                                                     0  \n",
       "TAAG Linhas Aereas de Angola                               2  \n",
       "US AIRWAYS INC.                                            7  \n",
       "Nao Informado                                              3  \n",
       "Aires                                                      0  \n",
       "AEROMEXICO                                                 2  \n",
       "LINEAS AE.COSTARRICENCES S/A                               0  \n",
       "Surinam Airways                                            0  \n",
       "Singapore Airlines                                         0  \n",
       "Condor Flugdinst                                           0  \n",
       "Ethiopian                                                  0  \n",
       "Air China                                                  1  \n",
       "Korean Airlines                                            4  \n",
       "Avianca Brasil                                             0  \n",
       "Empresa de Transportes Aereos de Cabo Verde                0  \n",
       "AIR ITALY SPA                                             24  "
      ]
     },
     "execution_count": 18,
     "metadata": {},
     "output_type": "execute_result"
    }
   ],
   "source": [
    "voos_por_cia_area\\\n",
    "    .reset_index()\\\n",
    "    .loc[voos_por_cia_area.reset_index()['codigo_tipo_linha'] == 'Internacional']\\\n",
    "    .groupby('companhia_aerea')\\\n",
    "    .agg(\n",
    "        voos_realizados=('voos_realizados', 'sum'),\n",
    "        voos_com_atraso=('voos_com_atraso', 'sum'),\n",
    "        voos_cancelados=('voos_cancelados', 'sum')\n",
    ").sort_values(by=['voos_realizados', 'voos_com_atraso', 'voos_cancelados'], ascending=False)\n"
   ]
  },
  {
   "attachments": {},
   "cell_type": "markdown",
   "metadata": {},
   "source": [
    "## 3.2. Quantidade de voos por tipo de linha.\n",
    "Verificar a quantidade de voos internacionais, nacionais e regionais, ou seja, analisar a distribuição de frequência da coluna 'Codigo.Tipo.Linha'."
   ]
  },
  {
   "cell_type": "code",
   "execution_count": null,
   "metadata": {},
   "outputs": [],
   "source": []
  },
  {
   "attachments": {},
   "cell_type": "markdown",
   "metadata": {},
   "source": [
    "## 3.3. Pontualidade dos voos.\n",
    "Analisar a pontualidade dos voos, comparando a hora de partida prevista com a hora de partida real e a hora de chegada prevista com a hora de chegada real, utilizando gráficos de dispersão ou histogramas, e identificar os voos que tiveram maior atraso."
   ]
  },
  {
   "attachments": {},
   "cell_type": "markdown",
   "metadata": {},
   "source": [
    "### 3.3.1 Pontualidade por companhia aérea.\n"
   ]
  },
  {
   "cell_type": "code",
   "execution_count": null,
   "metadata": {},
   "outputs": [],
   "source": []
  },
  {
   "attachments": {},
   "cell_type": "markdown",
   "metadata": {},
   "source": [
    "### 3.3.2 Pontualidade por tipo de linha.\n"
   ]
  },
  {
   "cell_type": "code",
   "execution_count": null,
   "metadata": {},
   "outputs": [],
   "source": []
  },
  {
   "attachments": {},
   "cell_type": "markdown",
   "metadata": {},
   "source": [
    "## 3.4. Frequência de voos cancelados.\n",
    "Investigar a frequência de voos cancelados em função da justificativa apresentada na coluna 'Codigo.Justificativa'."
   ]
  },
  {
   "cell_type": "code",
   "execution_count": null,
   "metadata": {},
   "outputs": [],
   "source": []
  },
  {
   "attachments": {},
   "cell_type": "markdown",
   "metadata": {},
   "source": [
    "## 3.5. Correlação entre a localização dos aeroportos de origem e destino.\n",
    "Analisar a correlação entre a localização dos aeroportos de origem e destino (latitude e longitude) e as companhias aéreas e tipo de linha dos voos utilizando gráficos de dispersão."
   ]
  },
  {
   "cell_type": "code",
   "execution_count": null,
   "metadata": {},
   "outputs": [],
   "source": []
  },
  {
   "attachments": {},
   "cell_type": "markdown",
   "metadata": {},
   "source": [
    "## 3.6. Aeroportos mais movimentados.\n",
    "Identificar os aeroportos com maior quantidade de voos de partida e de chegada, utilizando gráficos de barras."
   ]
  },
  {
   "cell_type": "code",
   "execution_count": null,
   "metadata": {},
   "outputs": [],
   "source": []
  },
  {
   "attachments": {},
   "cell_type": "markdown",
   "metadata": {},
   "source": [
    "## 3.7. Distribuição geográfica dos voos internacionais\n",
    "Analisar a distribuição geográfica dos voos internacionais em função dos países de origem e destino, utilizando mapas."
   ]
  },
  {
   "cell_type": "code",
   "execution_count": null,
   "metadata": {},
   "outputs": [],
   "source": []
  }
 ],
 "metadata": {
  "kernelspec": {
   "display_name": "Python 3",
   "language": "python",
   "name": "python3"
  },
  "language_info": {
   "codemirror_mode": {
    "name": "ipython",
    "version": 3
   },
   "file_extension": ".py",
   "mimetype": "text/x-python",
   "name": "python",
   "nbconvert_exporter": "python",
   "pygments_lexer": "ipython3",
   "version": "3.11.2"
  },
  "orig_nbformat": 4
 },
 "nbformat": 4,
 "nbformat_minor": 2
}
