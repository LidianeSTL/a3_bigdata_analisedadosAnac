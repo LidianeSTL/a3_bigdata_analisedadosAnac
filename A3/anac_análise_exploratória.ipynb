{
 "cells": [
  {
   "attachments": {},
   "cell_type": "markdown",
   "metadata": {},
   "source": [
    "# Análise de Dados Exploratória do ANAC\n",
    "\n",
    "![ANAC](imgs/anac-logo.png \"Logo ANAC\")"
   ]
  },
  {
   "attachments": {},
   "cell_type": "markdown",
   "metadata": {},
   "source": [
    "# 1. Introdução\n",
    "\n",
    "Este estudo tem como objetivo analisar um conjunto de dados de voos internacionais registrados pela Agência Nacional de Aviação Civil (ANAC) do Brasil, durante o período de janeiro de 2015 a agosto de 2017. \n",
    "\n",
    "A ANAC é a agência reguladora responsável pela aviação civil no país, e as informações contidas nesses dados são de grande importância para a compreensão da dinâmica da aviação internacional no Brasil, bem como para a tomada de decisões estratégicas no setor. O conjunto de dados inclui informações como o número do voo, nome da companhia aérea, horários de partida e chegada previstos e reais, situação do voo e localização dos aeroportos de origem e destino, entre outros. Esses dados permitem uma análise detalhada das tendências e padrões de voos internacionais no Brasil, bem como a identificação de fatores que possam influenciar o desempenho da aviação internacional no país."
   ]
  },
  {
   "attachments": {},
   "cell_type": "markdown",
   "metadata": {},
   "source": [
    "## 1.1. Objetivos\n",
    "\n",
    "O objetivo deste estudo é realizar uma Análise Exploratória dos Dados (Exploratory Data Analysis - EDA) do conjunto de dados disposto em [bases/](bases/), e analisar dados de voos internacionais rastreados pela ANAC.\n",
    "\n",
    "Com base nas informações disponíveis, pretendemos avaliar o desempenho das companhias aéreas em relação ao cumprimento dos horários previstos de partida e chegada, bem como investigar a frequência de cancelamentos e as justificativas apresentadas para esses casos. \n",
    "\n",
    "Também vamos examinar as rotas mais utilizadas e os destinos mais comuns para os voos internacionais saindo do Brasil, bem como avaliar a pontualidade e a eficiência dos aeroportos de origem e destino. \n",
    "\n",
    "1. [Análise 1](#Análise1)\n",
    "2. [Análise 2](#Análise2)\n",
    "3. [Análise 3](#Análise3)\n",
    "4. [Análise 4](#Análise4)\n"
   ]
  },
  {
   "attachments": {},
   "cell_type": "markdown",
   "metadata": {},
   "source": [
    "# 2. Metodologia\n",
    "\n",
    "Nesta seção será apresentado todo o processo de preparação, organização e limpeza de dados feito no *dataset* que possui os seguintes dados:\n",
    "\n",
    "| Coluna               | Tipo     | Descrição                                                 |\n",
    "|----------------------|----------|-----------------------------------------------------------|\n",
    "| voos                 | str      | Número do voo                                             |\n",
    "| companhia_aerea      | str      | Nome da companhia aérea                                   |\n",
    "| codigo_tipo_linha    | str      | Código do tipo de linha (internacional)                   |\n",
    "| partida_prevista     | datetime | Horário previsto de partida                               |\n",
    "| partida_real         | datetime | Horário real de partida                                   |\n",
    "| chegada_prevista     | datetime | Horário previsto de chegada                               |\n",
    "| chegada_real         | datetime | Horário real de chegada                                   |\n",
    "| situacao_voo         | str      | Situação do voo (realizado, cancelado, etc)               |\n",
    "| codigo_justificativa | str      | Código de justificativa (caso o voo tenha sido cancelado) |\n",
    "| aeroporto_origem     | str      | Código do aeroporto de origem                             |\n",
    "| cidade_origem        | str      | Cidade de origem                                          |\n",
    "| estado_origem        | str      | Estado de origem                                          |\n",
    "| pais_origem          | str      | País de origem                                            |\n",
    "| aeroporto_destino    | str      | Código do aeroporto de destino                            |\n",
    "| cidade_destino       | str      | Cidade de destino                                         |\n",
    "| estado_destino       | str      | Estado de destino                                         |\n",
    "| pais_destino         | str      | País de destino                                           |\n",
    "| longdest             | int      | Longitude do aeroporto de destino                         |\n",
    "| latdest              | int      | Latitude do aeroporto de destino                          |\n",
    "| longorig             | int      | Longitude do aeroporto de origem                          |\n",
    "| latorig              | int      | Latitude do aeroporto de origem                           |"
   ]
  },
  {
   "attachments": {},
   "cell_type": "markdown",
   "metadata": {},
   "source": [
    "## 2.1. Configuração do Ambiente"
   ]
  },
  {
   "attachments": {},
   "cell_type": "markdown",
   "metadata": {},
   "source": [
    "### 2.1.1. Bibliotecas e Ferramentas Necessárias (Built-ins)\n",
    "\n",
    "1. os\n",
    "2. re\n",
    "3. enum.Enum\n",
    "4. datetime.datetime"
   ]
  },
  {
   "attachments": {},
   "cell_type": "markdown",
   "metadata": {},
   "source": [
    "### 2.1.2. Bibliotecas e Ferramentas Necessárias (pip)\n",
    "\n",
    "1. Pandas: ```pip install pandas```\n",
    "2. JinJa2: ```pip install Jinja2```"
   ]
  }
 ],
 "metadata": {
  "kernelspec": {
   "display_name": "Python 3",
   "language": "python",
   "name": "python3"
  },
  "language_info": {
   "codemirror_mode": {
    "name": "ipython",
    "version": 3
   },
   "file_extension": ".py",
   "mimetype": "text/x-python",
   "name": "python",
   "nbconvert_exporter": "python",
   "pygments_lexer": "ipython3",
   "version": "3.11.2"
  },
  "orig_nbformat": 4
 },
 "nbformat": 4,
 "nbformat_minor": 2
}
