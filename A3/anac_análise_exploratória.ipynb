{
 "cells": [
  {
   "attachments": {},
   "cell_type": "markdown",
   "metadata": {},
   "source": [
    "# Análise de Dados Exploratória da ANAC\n",
    "\n",
    "![ANAC](imgs/anac-logo.png \"Logo ANAC\")"
   ]
  },
  {
   "attachments": {},
   "cell_type": "markdown",
   "metadata": {},
   "source": [
    "# 1. Introdução\n",
    "\n",
    "Este estudo tem como objetivo analisar um conjunto de dados de voos internacionais registrados pela Agência Nacional de Aviação Civil (ANAC) do Brasil, durante o período de janeiro de 2015 a agosto de 2017. \n",
    "\n",
    "A ANAC é a agência reguladora responsável pela aviação civil no país, e as informações contidas nesses dados são de grande importância para a compreensão da dinâmica da aviação internacional no Brasil, bem como para a tomada de decisões estratégicas no setor. O conjunto de dados inclui informações como o número do voo, nome da companhia aérea, horários de partida e chegada previstos e reais, situação do voo e localização dos aeroportos de origem e destino, entre outros. Esses dados permitem uma análise detalhada das tendências e padrões de voos internacionais no Brasil, bem como a identificação de fatores que possam influenciar o desempenho da aviação internacional no país."
   ]
  },
  {
   "attachments": {},
   "cell_type": "markdown",
   "metadata": {},
   "source": [
    "## 1.1. Objetivos\n",
    "\n",
    "O objetivo deste estudo é realizar uma Análise Exploratória dos Dados (Exploratory Data Analysis - EDA) do conjunto de dados disposto em [bases/](bases/), e analisar dados de voos internacionais rastreados pela ANAC.\n",
    "\n",
    "Com base nas informações disponíveis, pretendemos avaliar o desempenho das companhias aéreas em relação ao cumprimento dos horários previstos de partida e chegada, bem como investigar a frequência de cancelamentos e as justificativas apresentadas para esses casos. \n",
    "\n",
    "Também vamos examinar as rotas mais utilizadas e os destinos mais comuns para os voos internacionais saindo do Brasil, bem como avaliar a pontualidade e a eficiência dos aeroportos de origem e destino. \n",
    "\n",
    "1. [Análise 1](#Análise1)\n",
    "2. [Análise 2](#Análise2)\n",
    "3. [Análise 3](#Análise3)\n",
    "4. [Análise 4](#Análise4)\n"
   ]
  },
  {
   "attachments": {},
   "cell_type": "markdown",
   "metadata": {},
   "source": [
    "# 2. Metodologia\n",
    "\n",
    "Nesta seção será apresentado todo o processo de preparação, organização e limpeza de dados feito no *dataset* que possui os seguintes dados brutos. Ao final desta, apresentaremos os dados padronizados e devidamente tratados:\n",
    "\n",
    "|        Coluna        | Tipo |                         Descrição                         |\n",
    "|:--------------------:|:----:|:---------------------------------------------------------:|\n",
    "|         Voos         |  str |                       Número do voo                       |\n",
    "|    Companhia.Aerea   |  str |                  Nome da companhia aérea                  |\n",
    "|   Codigo.Tipo.Linha  |  str |          Código do tipo de linha (internacional)          |\n",
    "|   Partida.Prevista   |  str |                Horário previsto de partida                |\n",
    "|     Partida.Real     |  str |                  Horário real de partida                  |\n",
    "|   Chegada.Prevista   |  str |                Horário previsto de chegada                |\n",
    "|     Chegada.Real     |  str |                  Horário real de chegada                  |\n",
    "|     Situacao.Voo     |  str |        Situação do voo (realizado, cancelado, etc)        |\n",
    "| Codigo.Justificativa |  str | Código de justificativa (caso o voo tenha sido cancelado) |\n",
    "|   Aeroporto.Origem   |  str |               Código do aeroporto de origem               |\n",
    "|     Cidade.Origem    |  str |                      Cidade de origem                     |\n",
    "|     Estado.Origem    |  str |                      Estado de origem                     |\n",
    "|      Pais.Origem     |  str |                       País de origem                      |\n",
    "|   Aeroporto.Destino  |  str |               Código do aeroporto de destino              |\n",
    "|    Cidade.Destino    |  str |                     Cidade de destino                     |\n",
    "|    Estado.Destino    |  str |                     Estado de destino                     |\n",
    "|     Pais.Destino     |  str |                      País de destino                      |\n",
    "|       LongDest       |  str |             Longitude do aeroporto de destino             |\n",
    "|        LatDest       |  str |              Latitude do aeroporto de destino             |\n",
    "|       LongOrig       |  str |              Longitude do aeroporto de origem             |\n",
    "|        LatOrig       |  str |              Latitude do aeroporto de origem              |\n"
   ]
  },
  {
   "attachments": {},
   "cell_type": "markdown",
   "metadata": {},
   "source": [
    "## 2.1. Configuração do Ambiente"
   ]
  },
  {
   "attachments": {},
   "cell_type": "markdown",
   "metadata": {},
   "source": [
    "### 2.1.1. Bibliotecas e Ferramentas Necessárias (Built-ins)\n",
    "\n",
    "1. ```os```:       Para manipular os arquivos de base e seus respectivos diretórios de forma multiplataforma e eficiente.\n",
    "2. ```re```:       Utilizado em expressões regulares durante o processo de limpeza dos dados.\n",
    "3. ```enum```:     Auxilia nos processos de padronizar e regular algumas convenções do projeto.\n",
    "4. ```datetime```: Auxilia nos processos de padronizar e regular algumas convenções do projeto"
   ]
  },
  {
   "attachments": {},
   "cell_type": "markdown",
   "metadata": {},
   "source": [
    "### 2.1.2. Bibliotecas e Ferramentas Necessárias (pip)\n",
    "\n",
    "1. Pandas: Para manipular e exibir os dados de forma coesa e relata.   \n",
    "    ```pip install pandas```       \n",
    "    ```import pandas as pd```\n",
    "\n",
    "2. JinJa2: Complemento de estilização do Pandas.   \n",
    "    ```pip install Jinja2```\n",
    "\n",
    "3. Matplotlib: Para exibição visual dos dados por meio de gráficos.   \n",
    "    ```pip install matplotlib```   \n",
    "    ```import matplotlib.pyplot as plt```\n",
    "\n",
    "4. DescricaoColuna e DescricaoTipo: São classes estáticas compostar por Enums estabelecidos com base nas convenções de nome das colunas do *dataset*.   \n",
    "   **Utils** possui complementos para tratativas de alguns campos.   \n",
    "    ```from libs.utils import Utils```"
   ]
  },
  {
   "attachments": {},
   "cell_type": "markdown",
   "metadata": {},
   "source": [
    "### 2.1.3. Importações gerais para o projeto"
   ]
  },
  {
   "cell_type": "code",
   "execution_count": null,
   "metadata": {},
   "outputs": [],
   "source": [
    "import os\n",
    "import re\n",
    "import pandas as pd\n",
    "import numpy as np\n",
    "import matplotlib.pyplot as plt\n",
    "from libs.utils import Utils"
   ]
  },
  {
   "attachments": {},
   "cell_type": "markdown",
   "metadata": {},
   "source": [
    "## 2.2. Carregamento da base"
   ]
  },
  {
   "cell_type": "code",
   "execution_count": null,
   "metadata": {},
   "outputs": [],
   "source": [
    "caminho = os.path.join(\n",
    "    os.path.dirname(\n",
    "        os.path.abspath(\n",
    "            os.path.join(__name__, '.'))), 'bases')\n",
    "\n",
    "arquivos = [arquivo for arquivo in os.listdir(\n",
    "    caminho) if arquivo.endswith(\".csv\")]\n",
    "\n",
    "dataframes = [pd.read_csv(os.path.join(caminho, arquivo))\n",
    "              for arquivo in arquivos]\n",
    "\n",
    "flights_dataframe = pd.concat(dataframes)"
   ]
  },
  {
   "attachments": {},
   "cell_type": "markdown",
   "metadata": {},
   "source": [
    "## 2.3. Organização e Limpeza dos Dados"
   ]
  },
  {
   "attachments": {},
   "cell_type": "markdown",
   "metadata": {},
   "source": [
    "### 2.3.1. Padrozinação dos nomes das colunas"
   ]
  },
  {
   "cell_type": "code",
   "execution_count": null,
   "metadata": {},
   "outputs": [],
   "source": [
    "nomes_colunas_tratadas = []\n",
    "\n",
    "for coluna in flights_dataframe.columns:\n",
    "    if any(char.isupper() for char in coluna):\n",
    "        if coluna == 'Voos':\n",
    "            coluna = 'Num.Voo'\n",
    "        nomes_colunas_tratadas.append('_'.join(word.lower() for word in re.findall(\n",
    "            '[A-Z][^A-Z]*', coluna)).lower().replace('.', ''))\n",
    "\n",
    "flights_dataframe.columns = nomes_colunas_tratadas"
   ]
  },
  {
   "attachments": {},
   "cell_type": "markdown",
   "metadata": {},
   "source": [
    "### 2.3.2. Padrozinação dos tipos das colunas de data/hora, string e númericos"
   ]
  },
  {
   "cell_type": "code",
   "execution_count": null,
   "metadata": {},
   "outputs": [],
   "source": [
    "for coluna in flights_dataframe.columns:\n",
    "    tipo = Utils.tipo_coluna(coluna)\n",
    "    if tipo.__name__ == 'datetime': \n",
    "        flights_dataframe = Utils.formatar_colunas_datetime(flights_dataframe, coluna)"
   ]
  },
  {
   "attachments": {},
   "cell_type": "markdown",
   "metadata": {},
   "source": [
    "### 2.3.3. Padrozinação no nome das companhias aérea."
   ]
  },
  {
   "cell_type": "code",
   "execution_count": null,
   "metadata": {},
   "outputs": [],
   "source": [
    "flights_dataframe['companhia_aerea'] = flights_dataframe.apply(\n",
    "    lambda row: Utils.nome_companhia_aerea_normalizado(\n",
    "        row['companhia_aerea'],\n",
    "    ), axis=1)"
   ]
  },
  {
   "attachments": {},
   "cell_type": "markdown",
   "metadata": {},
   "source": [
    "### 2.3.4. Feature Engineering\n",
    "A engenharia de recursos (*Feature Engineering*) é o processo de usar o conhecimento do domínio para extrair recursos dos dados brutos. Neste estudo serão acrescentadas as seguintes colunas para enriquecer a análise de dados:\n",
    "\n",
    "| Coluna         | Descrição                                                            | Base         |\n",
    "|:--------------:|:--------------------------------------------------------------------:|:--------------:|\n",
    "| partida_atrasou | Houve atraso na partida (S/N)                                       | `partida_prevista - partida_real` |\n",
    "| chegada_atrasou | Houve atraso na chegada (S/N)                                       | `chegada_prevista - chegada_real` |\n",
    "| distancia_km   | Distância total em kms da origem ao destino                          | `lat_long_orig - lat_long_dest` |\n",
    "| justificativa_atraso   | Informação e correlata à justificativa no atraso do voo      | `codigo_justificativa` |\n",
    "| justificativa_cancelamento   | Informação e correlata à justificativa do cancelamento do voo| `codigo_justificativa` |\n",
    "| rota           | Origem x Destino                                                     | `cidade_origem + cidade_destino` |\n",
    "| periodo_ferias           | Contém o mês condizente a um período de férias (Janeiro, Julho ou Dezembro)    | `partida_prevista` **in** [1, 7, 12]  |"
   ]
  },
  {
   "attachments": {},
   "cell_type": "markdown",
   "metadata": {},
   "source": [
    "#### 2.3.3.1. Atraso na partida"
   ]
  },
  {
   "cell_type": "code",
   "execution_count": null,
   "metadata": {},
   "outputs": [],
   "source": [
    "flights_dataframe['partida_atrasou'] = flights_dataframe.apply(\n",
    "    lambda row: Utils.validar_atraso(\n",
    "        row['situacao_voo'],\n",
    "        row['partida_prevista'],\n",
    "        row['partida_real']\n",
    "    ), axis=1)"
   ]
  },
  {
   "attachments": {},
   "cell_type": "markdown",
   "metadata": {},
   "source": [
    "#### 2.3.3.2. Atraso na chegada"
   ]
  },
  {
   "cell_type": "code",
   "execution_count": null,
   "metadata": {},
   "outputs": [],
   "source": [
    "flights_dataframe['chegada_atrasou'] = flights_dataframe.apply(\n",
    "    lambda row: Utils.validar_atraso(\n",
    "        row['situacao_voo'],\n",
    "        row['chegada_prevista'],\n",
    "        row['chegada_real']\n",
    "    ), axis=1)"
   ]
  },
  {
   "attachments": {},
   "cell_type": "markdown",
   "metadata": {},
   "source": [
    "#### 2.3.3.3. distancia_km (para *lat_long_orig* e *lat_long_dest*)"
   ]
  },
  {
   "cell_type": "code",
   "execution_count": null,
   "metadata": {},
   "outputs": [],
   "source": [
    "flights_dataframe['distancia_km'] = flights_dataframe.apply(\n",
    "    lambda row: Utils.calcular_distancia_km(\n",
    "        row['lat_orig'],\n",
    "        row['long_orig'],\n",
    "        row['lat_dest'],\n",
    "        row['long_dest']\n",
    "    ), axis=1)"
   ]
  },
  {
   "attachments": {},
   "cell_type": "markdown",
   "metadata": {},
   "source": [
    "#### 2.3.3.4. Justificativa atraso"
   ]
  },
  {
   "cell_type": "code",
   "execution_count": null,
   "metadata": {},
   "outputs": [],
   "source": [
    "flights_dataframe['justificativa_atraso'] = ''\n",
    "flights_dataframe['justificativa_atraso'] = np.where(\n",
    "    ((flights_dataframe['partida_atrasou'] == 'S') |\n",
    "     (flights_dataframe['chegada_atrasou'] == 'S')),\n",
    "    flights_dataframe.apply(lambda row: Utils.motivo_atraso(\n",
    "        row['codigo_justificativa']), axis=1),\n",
    "    flights_dataframe['justificativa_atraso']\n",
    ")"
   ]
  },
  {
   "attachments": {},
   "cell_type": "markdown",
   "metadata": {},
   "source": [
    "#### 2.3.3.5. Justificativa cancelamento"
   ]
  },
  {
   "cell_type": "code",
   "execution_count": null,
   "metadata": {},
   "outputs": [],
   "source": [
    "flights_dataframe['justificativa_cancelamento'] = ''\n",
    "flights_dataframe['justificativa_cancelamento'] = np.where(\n",
    "    flights_dataframe['situacao_voo'] == 'Cancelado',\n",
    "    flights_dataframe.apply(lambda row: Utils.motivo_cancelamento(\n",
    "        row['codigo_justificativa']), axis=1),\n",
    "    flights_dataframe['justificativa_cancelamento']\n",
    ")"
   ]
  },
  {
   "attachments": {},
   "cell_type": "markdown",
   "metadata": {},
   "source": [
    "#### 2.3.3.6. Rota"
   ]
  },
  {
   "cell_type": "code",
   "execution_count": null,
   "metadata": {},
   "outputs": [],
   "source": [
    "flights_dataframe = flights_dataframe.assign(\n",
    "    rota=flights_dataframe['cidade_origem'] + ' - ' + flights_dataframe['cidade_destino'])"
   ]
  },
  {
   "attachments": {},
   "cell_type": "markdown",
   "metadata": {},
   "source": [
    "#### 2.3.3.7. Período Férias"
   ]
  },
  {
   "cell_type": "code",
   "execution_count": null,
   "metadata": {},
   "outputs": [],
   "source": [
    "flights_dataframe['periodo_ferias'] = Utils.atribuir_periodo_ferias(flights_dataframe['partida_prevista'])"
   ]
  },
  {
   "attachments": {},
   "cell_type": "markdown",
   "metadata": {},
   "source": [
    "## 2.4. Mapeamento de Dados\n",
    "Para melhorar a análise e interpretação dos dados os seguintes atributos serão modificados:\n",
    "\n",
    "| Coluna    | Original     | Modificado                          |\n",
    "|:----------:|:-------------:|:------------------------------------:|\n",
    "| *    | 'NA', *      | '', *                  |\n",
    "| *      | np.NaN / NaN      | ''                  |\n"
   ]
  },
  {
   "attachments": {},
   "cell_type": "markdown",
   "metadata": {},
   "source": [
    "### 2.4.1. Removendo 'N/I' por um valor ''/string.empty"
   ]
  },
  {
   "cell_type": "code",
   "execution_count": null,
   "metadata": {},
   "outputs": [],
   "source": [
    "for coluna in flights_dataframe.columns:\n",
    "    flights_dataframe[coluna] = flights_dataframe[coluna].replace('N/I', '')"
   ]
  },
  {
   "attachments": {},
   "cell_type": "markdown",
   "metadata": {},
   "source": [
    "### 2.4.2. Removendo np.NaN por um valor None"
   ]
  },
  {
   "cell_type": "code",
   "execution_count": null,
   "metadata": {},
   "outputs": [],
   "source": [
    "flights_dataframe.fillna(value='', inplace=True)"
   ]
  },
  {
   "attachments": {},
   "cell_type": "markdown",
   "metadata": {},
   "source": [
    "### 2.5. Reordenando as colunas de forma semântica"
   ]
  },
  {
   "cell_type": "code",
   "execution_count": null,
   "metadata": {},
   "outputs": [],
   "source": [
    "flights_dataframe = flights_dataframe.reindex(\n",
    "    columns=Utils.nomes_colunas(), index=None)\n",
    "flights_dataframe.drop('codigo_justificativa', axis=1, inplace=True)\n",
    "\n",
    "dataframe = flights_dataframe"
   ]
  },
  {
   "attachments": {},
   "cell_type": "markdown",
   "metadata": {},
   "source": [
    "### 2.6 Resultado final"
   ]
  },
  {
   "cell_type": "code",
   "execution_count": null,
   "metadata": {},
   "outputs": [],
   "source": [
    "columns = ['NomeColuna', 'DescricaoColuna', 'TipoColuna']\n",
    "values = [[value, Utils.descricao_coluna(value), Utils.tipo_coluna(\n",
    "    value).__name__] for value in dataframe.columns]\n",
    "\n",
    "pd.DataFrame(data=values, columns=columns).style.set_table_styles([\n",
    "    dict(selector='th', props=[('text-align', 'center')]),\n",
    "    dict(selector='td', props=[('text-align', 'center')])\n",
    "])"
   ]
  },
  {
   "attachments": {},
   "cell_type": "markdown",
   "metadata": {},
   "source": [
    "# 3. Análise dos Dados"
   ]
  },
  {
   "attachments": {},
   "cell_type": "markdown",
   "metadata": {},
   "source": [
    "## 3.1. Qual destino mais procurado nas férias?\n",
    "Iremos analisar os principais destinos internacionais e nacionais e os períodos de julho, dezembro e janeiro."
   ]
  },
  {
   "cell_type": "code",
   "execution_count": null,
   "metadata": {},
   "outputs": [],
   "source": [
    "#Dataframe\n",
    "voos_ferias = dataframe[dataframe['periodo_ferias'] != '']\n",
    "voos_ferias = voos_ferias[['companhia_aerea', 'rota', 'periodo_ferias', 'aeroporto_origem', 'partida_atrasou', 'aeroporto_destino', 'chegada_atrasou', 'situacao_voo', 'justificativa_atraso', 'justificativa_cancelamento']]"
   ]
  },
  {
   "attachments": {},
   "cell_type": "markdown",
   "metadata": {},
   "source": [
    "### 3.1.1 Principais destinos nacionais julho, dezembro e janeiro"
   ]
  },
  {
   "cell_type": "code",
   "execution_count": null,
   "metadata": {},
   "outputs": [],
   "source": [
    "#Dataframe\n",
    "nacionais = voos_ferias[voos_ferias['codigo_tipo_linha'].isin(['Nacional', 'Regional'])]"
   ]
  },
  {
   "cell_type": "code",
   "execution_count": null,
   "metadata": {},
   "outputs": [],
   "source": [
    "#Plot"
   ]
  },
  {
   "attachments": {},
   "cell_type": "markdown",
   "metadata": {},
   "source": [
    "### 3.1.2 Principais destinos internacionais julho, dezembro e janeiro."
   ]
  },
  {
   "cell_type": "code",
   "execution_count": null,
   "metadata": {},
   "outputs": [],
   "source": [
    "#Dataframe\n",
    "internacionais = voos_ferias[voos_ferias['codigo_tipo_linha'].isin(['Internacional'])]"
   ]
  },
  {
   "cell_type": "code",
   "execution_count": null,
   "metadata": {},
   "outputs": [],
   "source": [
    "#Plot"
   ]
  },
  {
   "attachments": {},
   "cell_type": "markdown",
   "metadata": {},
   "source": [
    "## 3.2. Como ficam os aeroportos nesses meses?\n",
    "Iremos analisar o aumento de atrasos, vôos cancelados, e os principais motivos, o dia mais provável de ter algum problema com o voo."
   ]
  },
  {
   "attachments": {},
   "cell_type": "markdown",
   "metadata": {},
   "source": [
    "## 3.1. Qual a melhor opção uma viagem nacional ou internacional?\n",
    "Após as análises da questão 02, vamos analisar se existe algum favorecimento de vôos internacionais sobre os nacionais."
   ]
  },
  {
   "attachments": {},
   "cell_type": "markdown",
   "metadata": {},
   "source": [
    "## 3.1. Qual a melhor rota?\n",
    "Aqui faremos o DE-PARA entre os  aeroporto origem/destino, para os principais destinos, levantados na pergunta 01."
   ]
  },
  {
   "attachments": {},
   "cell_type": "markdown",
   "metadata": {},
   "source": [
    "## 3.1. Qual melhor dia da semana para pegar um vôo?\n",
    "Iremos cruzar as informações de cancelamentos e atrasados com os dias da semana e verificar qual o dia tem uma menor probabilidade de ter algum problema."
   ]
  }
 ],
 "metadata": {
  "kernelspec": {
   "display_name": "Python 3",
   "language": "python",
   "name": "python3"
  },
  "language_info": {
   "codemirror_mode": {
    "name": "ipython",
    "version": 3
   },
   "file_extension": ".py",
   "mimetype": "text/x-python",
   "name": "python",
   "nbconvert_exporter": "python",
   "pygments_lexer": "ipython3",
   "version": "3.11.2"
  },
  "orig_nbformat": 4
 },
 "nbformat": 4,
 "nbformat_minor": 2
}
